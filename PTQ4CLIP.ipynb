{
 "cells": [
  {
   "cell_type": "code",
   "execution_count": 1,
   "metadata": {},
   "outputs": [
    {
     "data": {
      "text/plain": [
       "'/nfs/hpc/share/kannegaa/DL-Project'"
      ]
     },
     "execution_count": 1,
     "metadata": {},
     "output_type": "execute_result"
    }
   ],
   "source": [
    "pwd"
   ]
  },
  {
   "cell_type": "code",
   "execution_count": 2,
   "metadata": {},
   "outputs": [],
   "source": [
    "\n",
    "from imagenetv2_pytorch import ImageNetV2Dataset\n",
    "import clip\n",
    "from dataset import VLImageDataset\n",
    "import torch\n",
    "from tqdm import tqdm\n",
    "import sys\n",
    "sys.path.insert(0,'..')\n",
    "sys.path.insert(0,'.')\n",
    "import torch\n",
    "import torch.nn as nn\n",
    "from tqdm import tqdm\n",
    "import argparse\n",
    "from importlib import reload,import_module\n",
    "import multiprocessing\n",
    "import os\n",
    "import time\n",
    "from itertools import product\n",
    "sys.path.append(\"./PTQ4ViT\")\n",
    "import PTQ4ViT.utils.datasets as datasets\n",
    "import PTQ4ViT.utils.net_wrap as net_wrap\n",
    "from PTQ4ViT.utils.quant_calib import QuantCalibrator, HessianQuantCalibrator\n",
    "from PTQ4ViT.utils.models import get_net\n",
    "from dataset import VLImageDataset, VLLoader\n",
    "from torchvision.datasets import CocoCaptions,Flickr30k\n",
    "import torch.utils.data as dutils\n",
    "from typing import List\n",
    "import itertools\n"
   ]
  },
  {
   "cell_type": "code",
   "execution_count": 3,
   "metadata": {},
   "outputs": [
    {
     "name": "stdout",
     "output_type": "stream",
     "text": [
      "Torch version: 2.0.1+cu117\n"
     ]
    }
   ],
   "source": [
    "import numpy as np\n",
    "import torch\n",
    "import clip\n",
    "from tqdm.notebook import tqdm\n",
    "from pkg_resources import packaging\n",
    "\n",
    "print(\"Torch version:\", torch.__version__)\n"
   ]
  },
  {
   "cell_type": "code",
   "execution_count": 4,
   "metadata": {},
   "outputs": [],
   "source": [
    "model, preprocess = clip.load(\"ViT-B/32\", device=\"cuda\")\n"
   ]
  },
  {
   "cell_type": "code",
   "execution_count": 5,
   "metadata": {},
   "outputs": [],
   "source": [
    "def test_classification(net,test_loader,max_iteration=None, description=None):\n",
    "    pos=0\n",
    "    tot=0\n",
    "    i = 0\n",
    "    max_iteration = len(test_loader) if max_iteration is None else max_iteration\n",
    "    with torch.no_grad():\n",
    "        q=tqdm(test_loader, desc=description)\n",
    "        for inp,target in q:\n",
    "            i+=1\n",
    "            inp=inp.cuda()\n",
    "            target=target.cuda()\n",
    "            out=net(inp)\n",
    "            pos_num=torch.sum(out.argmax(1)==target).item()\n",
    "            pos+=pos_num\n",
    "            tot+=inp.size(0)\n",
    "            q.set_postfix({\"acc\":pos/tot})\n",
    "            if i >= max_iteration:\n",
    "                break\n",
    "    print(pos/tot)\n",
    "    return pos/tot"
   ]
  },
  {
   "cell_type": "code",
   "execution_count": 6,
   "metadata": {},
   "outputs": [],
   "source": [
    "def init_config(config_name):\n",
    "    \"\"\"initialize the config. Use reload to make sure it's fresh one!\"\"\"\n",
    "    _,_,files =  next(os.walk(\"./PTQ4ViT/configs\"))\n",
    "    if config_name+\".py\" in files:\n",
    "        quant_cfg = import_module(f\"configs.{config_name}\")\n",
    "    else:\n",
    "        raise NotImplementedError(f\"Invalid config name {config_name}\")\n",
    "    reload(quant_cfg)\n",
    "    return quant_cfg"
   ]
  },
  {
   "cell_type": "code",
   "execution_count": 7,
   "metadata": {},
   "outputs": [],
   "source": [
    "def experiment_basic(net='vit_base_patch16_384', config=\"PTQ4ViT\"):\n",
    "    \"\"\"\n",
    "    A basic testbench.\n",
    "    \"\"\"\n",
    "    quant_cfg = init_config(config)\n",
    "    net = model\n",
    "    #print(\"before:\",net.eval())\n",
    "    wrapped_modules = net_wrap.wrap_modules_in_net(net,quant_cfg)\n",
    "    #print(\"after:\",net.eval())\n",
    "    # g=datasets.ViTImageNetLoaderGenerator('imagenetv2-matched-frequency-format-val','imagenet',32,32,16,kwargs={\"model\":net})\n",
    "    # test_loader=g.test_loader()\n",
    "    # calib_loader=g.calib_loader(num=32)\n",
    "    image_features, text_features, target = VLLoader(model, preprocess)\n",
    "    g = VLImageDataset(image_features.cuda(), text_features.cuda(), target.cuda())\n",
    "    calib_loader = torch.utils.data.DataLoader(g, batch_size=32)\n",
    "\n",
    "    quant_calibrator = HessianQuantCalibrator(net,wrapped_modules,calib_loader,sequential=False,batch_size=4) # 16 is too big for ViT-L-16\n",
    "    quant_calibrator.batching_quant_calib()\n",
    "    \n",
    "    # test_classification(net,test_loader)\n",
    "    return model\n",
    "\n"
   ]
  },
  {
   "cell_type": "code",
   "execution_count": 8,
   "metadata": {},
   "outputs": [
    {
     "name": "stdout",
     "output_type": "stream",
     "text": [
      "Completed net wrap.\n",
      "[2806 5028 6437 2193 9476 1759 7372 4786 8569 1329 6229 9498 5671 7419\n",
      " 8130    4  932 1157 6233 4633 1891 9106 1574 4532 5642 2329 2514 2915\n",
      " 8963 5004 8466  116]\n",
      "prepare parallel calibration for ['visual.conv1', 'visual.transformer.resblocks.0.mlp.c_fc', 'visual.transformer.resblocks.0.mlp.c_proj', 'visual.transformer.resblocks.1.mlp.c_fc', 'visual.transformer.resblocks.1.mlp.c_proj', 'visual.transformer.resblocks.2.mlp.c_fc', 'visual.transformer.resblocks.2.mlp.c_proj', 'visual.transformer.resblocks.3.mlp.c_fc', 'visual.transformer.resblocks.3.mlp.c_proj', 'visual.transformer.resblocks.4.mlp.c_fc', 'visual.transformer.resblocks.4.mlp.c_proj', 'visual.transformer.resblocks.5.mlp.c_fc', 'visual.transformer.resblocks.5.mlp.c_proj', 'visual.transformer.resblocks.6.mlp.c_fc', 'visual.transformer.resblocks.6.mlp.c_proj', 'visual.transformer.resblocks.7.mlp.c_fc', 'visual.transformer.resblocks.7.mlp.c_proj', 'visual.transformer.resblocks.8.mlp.c_fc', 'visual.transformer.resblocks.8.mlp.c_proj', 'visual.transformer.resblocks.9.mlp.c_fc', 'visual.transformer.resblocks.9.mlp.c_proj', 'visual.transformer.resblocks.10.mlp.c_fc', 'visual.transformer.resblocks.10.mlp.c_proj', 'visual.transformer.resblocks.11.mlp.c_fc', 'visual.transformer.resblocks.11.mlp.c_proj', 'transformer.resblocks.0.mlp.c_fc', 'transformer.resblocks.0.mlp.c_proj', 'transformer.resblocks.1.mlp.c_fc', 'transformer.resblocks.1.mlp.c_proj', 'transformer.resblocks.2.mlp.c_fc', 'transformer.resblocks.2.mlp.c_proj', 'transformer.resblocks.3.mlp.c_fc', 'transformer.resblocks.3.mlp.c_proj', 'transformer.resblocks.4.mlp.c_fc', 'transformer.resblocks.4.mlp.c_proj', 'transformer.resblocks.5.mlp.c_fc', 'transformer.resblocks.5.mlp.c_proj', 'transformer.resblocks.6.mlp.c_fc', 'transformer.resblocks.6.mlp.c_proj', 'transformer.resblocks.7.mlp.c_fc', 'transformer.resblocks.7.mlp.c_proj', 'transformer.resblocks.8.mlp.c_fc', 'transformer.resblocks.8.mlp.c_proj', 'transformer.resblocks.9.mlp.c_fc', 'transformer.resblocks.9.mlp.c_proj', 'transformer.resblocks.10.mlp.c_fc', 'transformer.resblocks.10.mlp.c_proj', 'transformer.resblocks.11.mlp.c_fc', 'transformer.resblocks.11.mlp.c_proj']\n",
      "start hessian calibration\n"
     ]
    },
    {
     "name": "stderr",
     "output_type": "stream",
     "text": [
      "Hessian:   0%|          | 0/49 [00:00<?, ?it/s, visual.conv1]/nfs/stak/users/kannegaa/.local/lib/python3.10/site-packages/torch/nn/modules/module.py:1344: UserWarning: Using a non-full backward hook when the forward contains multiple autograd Nodes is deprecated and will be removed in future versions. This hook will be missing some grad_input. Please use register_full_backward_hook to get the documented behavior.\n",
      "  warnings.warn(\"Using a non-full backward hook when the forward contains multiple autograd Nodes \"\n",
      "Hessian: 100%|██████████| 49/49 [02:36<00:00,  3.20s/it, transformer.resblocks.11.mlp.c_proj]       \n"
     ]
    },
    {
     "name": "stdout",
     "output_type": "stream",
     "text": [
      "hessian calibration finished\n",
      "Model saved\n"
     ]
    }
   ],
   "source": [
    "model = experiment_basic()\n",
    "torch.save(model, \"PTQ4CLIP.pt\")\n",
    "print(\"Model saved\")"
   ]
  },
  {
   "cell_type": "code",
   "execution_count": 19,
   "metadata": {},
   "outputs": [
    {
     "name": "stdout",
     "output_type": "stream",
     "text": [
      "Cuda is available.\n",
      "full save path is ./inference_result/mscoco/baselines//zerocap_result.json\n",
      "Loading data...\n",
      "Data loaded.\n",
      "Number of test instances is 5000\n"
     ]
    },
    {
     "name": "stderr",
     "output_type": "stream",
     "text": [
      "  0% |                                                                        |\r"
     ]
    },
    {
     "name": "stdout",
     "output_type": "stream",
     "text": [
      "----------------------------------------------------------------\n",
      "Number of inference instances is 100\n",
      "Namespace(test_image_prefix_path='/data/quantizeVL/image_captioning/data/mscoco/test_images', test_path='/data/quantizeVL/image_captioning/data/mscoco/mscoco_test.json', save_path_prefix='./inference_result/mscoco/baselines/', save_name='zerocap_result.json', seed=0, lm_model='cambridgeltl/magic_mscoco', clip_checkpoints='./clip_checkpoints', target_seq_length=16, cond_text='Image of a', reset_context_delta=True, num_iterations=5, clip_loss_temperature=0.01, clip_scale=1, ce_scale=0.2, stepsize=0.3, grad_norm_factor=0.9, fusion_factor=0.99, repetition_penalty=1, end_token='.', end_factor=1.01, forbidden_factor=20, beam_size=1, multi_gpu=False, run_type='caption', caption_img_path='example_images/captions/COCO_val2014_000000008775.jpg', arithmetics_imgs=['example_images/arithmetics/woman2.jpg', 'example_images/arithmetics/king2.jpg', 'example_images/arithmetics/man2.jpg'], arithmetics_weights=[1, 1, -1])\n"
     ]
    },
    {
     "name": "stderr",
     "output_type": "stream",
     "text": [
      "  0%|          | 0/100 [00:00<?, ?it/s]"
     ]
    },
    {
     "name": "stdout",
     "output_type": "stream",
     "text": [
      "16/06/2023 14:19:57 | [' traveling %% -2.736934']\n",
      "16/06/2023 14:19:59 | [' traveling motorcycle %% -3.0408874']\n",
      "16/06/2023 14:20:02 | [' traveling motorcycle with %% -2.8362572']\n",
      "16/06/2023 14:20:05 | [' traveling motorcycle with man %% -2.8442726']\n",
      "16/06/2023 14:20:07 | [' traveling motorcycle with maning %% -2.80654']\n",
      "16/06/2023 14:20:10 | [' traveling motorcycle with maning and %% -2.8542635']\n",
      "16/06/2023 14:20:13 | [' traveling motorcycle with maning and working %% -2.9977832']\n",
      "16/06/2023 14:20:15 | [' traveling motorcycle with maning and working man %% -3.0449505']\n",
      "16/06/2023 14:20:18 | [' traveling motorcycle with maning and working maning %% -3.1298027']\n",
      "16/06/2023 14:20:21 | [' traveling motorcycle with maning and working maning on %% -3.10503']\n",
      "16/06/2023 14:20:23 | [' traveling motorcycle with maning and working maning on a %% -3.0631227']\n",
      "16/06/2023 14:20:26 | [' traveling motorcycle with maning and working maning on a wet %% -3.103503']\n",
      "16/06/2023 14:20:29 | [' traveling motorcycle with maning and working maning on a wet road %% -3.127635']\n",
      "16/06/2023 14:20:32 | [' traveling motorcycle with maning and working maning on a wet road. %% -3.087015']\n"
     ]
    },
    {
     "name": "stderr",
     "output_type": "stream",
     "text": [
      "  1%|          | 1/100 [00:37<1:02:00, 37.58s/it]  1% |                                                                        |\r"
     ]
    },
    {
     "name": "stdout",
     "output_type": "stream",
     "text": [
      "16/06/2023 14:20:34 | [' birthday %% -1.2025428']\n",
      "16/06/2023 14:20:37 | [' birthday cake %% -1.9321597']\n",
      "16/06/2023 14:20:39 | [' birthday cake with %% -2.0711973']\n",
      "16/06/2023 14:20:42 | [' birthday cake with a %% -2.2944963']\n",
      "16/06/2023 14:20:45 | [' birthday cake with a candle %% -2.4917102']\n",
      "16/06/2023 14:20:47 | [' birthday cake with a candle licking %% -2.3897064']\n",
      "16/06/2023 14:20:50 | [' birthday cake with a candle licking candle %% -2.5604682']\n",
      "16/06/2023 14:20:53 | [' birthday cake with a candle licking candlelit %% -2.6110973']\n",
      "16/06/2023 14:20:55 | [' birthday cake with a candle licking candlelit face %% -2.6826887']\n",
      "16/06/2023 14:20:58 | [' birthday cake with a candle licking candlelit face. %% -2.743651']\n"
     ]
    },
    {
     "name": "stderr",
     "output_type": "stream",
     "text": [
      "  2%|▏         | 2/100 [01:04<50:42, 31.04s/it]    2% |#                                                                       |\r"
     ]
    },
    {
     "name": "stdout",
     "output_type": "stream",
     "text": [
      "16/06/2023 14:21:01 | [' train %% -1.9635365']\n",
      "16/06/2023 14:21:03 | [' train with %% -2.441273']\n",
      "16/06/2023 14:21:06 | [' train with passengers %% -2.7267482']\n",
      "16/06/2023 14:21:09 | [' train with passengers on %% -2.7645872']\n",
      "16/06/2023 14:21:11 | [' train with passengers on the %% -2.8692298']\n",
      "16/06/2023 14:21:14 | [' train with passengers on the front %% -2.9488528']\n",
      "16/06/2023 14:21:17 | [' train with passengers on the front of %% -3.01757']\n",
      "16/06/2023 14:21:19 | [' train with passengers on the front of a %% -2.945769']\n",
      "16/06/2023 14:21:22 | [' train with passengers on the front of a station %% -3.0084772']\n",
      "16/06/2023 14:21:25 | [' train with passengers on the front of a station. %% -2.8520713']\n"
     ]
    },
    {
     "name": "stderr",
     "output_type": "stream",
     "text": [
      "  3%|▎         | 3/100 [01:30<46:51, 28.99s/it]  3% |##                                                                      |\r"
     ]
    },
    {
     "name": "stdout",
     "output_type": "stream",
     "text": [
      "16/06/2023 14:21:27 | [' kitchen %% -0.8867204']\n",
      "16/06/2023 14:21:30 | [' kitchen with %% -1.6856956']\n",
      "16/06/2023 14:21:32 | [' kitchen with a %% -2.1754973']\n",
      "16/06/2023 14:21:35 | [' kitchen with a white %% -2.568123']\n",
      "16/06/2023 14:21:38 | [' kitchen with a white and %% -2.7789266']\n",
      "16/06/2023 14:21:40 | [' kitchen with a white and a %% -2.935263']\n",
      "16/06/2023 14:21:43 | [' kitchen with a white and a red %% -3.0421736']\n",
      "16/06/2023 14:21:46 | [' kitchen with a white and a red fire %% -3.1568244']\n",
      "16/06/2023 14:21:48 | [' kitchen with a white and a red fire hyd %% -3.1798024']\n",
      "16/06/2023 14:21:51 | [' kitchen with a white and a red fire hydrant %% -2.8647826']\n",
      "16/06/2023 14:21:54 | [' kitchen with a white and a red fire hydrant on %% -2.8643024']\n",
      "16/06/2023 14:21:56 | [' kitchen with a white and a red fire hydrant on the %% -2.8087263']\n",
      "16/06/2023 14:21:59 | [' kitchen with a white and a red fire hydrant on the counter %% -2.814517']\n",
      "16/06/2023 14:22:02 | [' kitchen with a white and a red fire hydrant on the counter. %% -2.7832801']\n"
     ]
    },
    {
     "name": "stderr",
     "output_type": "stream",
     "text": [
      "  4%|▍         | 4/100 [02:07<51:33, 32.23s/it]  4% |##                                                                      |\r"
     ]
    },
    {
     "name": "stdout",
     "output_type": "stream",
     "text": [
      "16/06/2023 14:22:04 | [' variety %% -2.7465088']\n",
      "16/06/2023 14:22:07 | [' variety of %% -1.8004996']\n",
      "16/06/2023 14:22:10 | [' variety of handmade %% -2.0441046']\n",
      "16/06/2023 14:22:12 | [' variety of handmade wooden %% -2.2618873']\n",
      "16/06/2023 14:22:15 | [' variety of handmade wooden spoon %% -2.2207267']\n",
      "16/06/2023 14:22:18 | [' variety of handmade wooden spoon and %% -2.4536984']\n",
      "16/06/2023 14:22:20 | [' variety of handmade wooden spoon and ut %% -2.6478457']\n",
      "16/06/2023 14:22:23 | [' variety of handmade wooden spoon and utens %% -2.7442782']\n",
      "16/06/2023 14:22:26 | [' variety of handmade wooden spoon and utensch %% -2.867928']\n",
      "16/06/2023 14:22:28 | [' variety of handmade wooden spoon and utensch. %% -2.7750683']\n"
     ]
    },
    {
     "name": "stderr",
     "output_type": "stream",
     "text": [
      "  5%|▌         | 5/100 [02:34<47:47, 30.18s/it]  5% |###                                                                     |\r"
     ]
    },
    {
     "name": "stdout",
     "output_type": "stream",
     "text": [
      "16/06/2023 14:22:31 | [' selection %% -3.0142877']\n",
      "16/06/2023 14:22:34 | [' selection of %% -2.3755803']\n",
      "16/06/2023 14:22:36 | [' selection of wooden %% -2.6273544']\n",
      "16/06/2023 14:22:39 | [' selection of wooden serving %% -2.8147378']\n",
      "16/06/2023 14:22:41 | [' selection of wooden serving ut %% -2.8385472']\n",
      "16/06/2023 14:22:44 | [' selection of wooden serving utens %% -2.3791604']\n",
      "16/06/2023 14:22:47 | [' selection of wooden serving utensils %% -2.493662']\n",
      "16/06/2023 14:22:49 | [' selection of wooden serving utensils on %% -2.5497117']\n",
      "16/06/2023 14:22:52 | [' selection of wooden serving utensils on a %% -2.5117486']\n",
      "16/06/2023 14:22:55 | [' selection of wooden serving utensils on a kitchen %% -2.5667853']\n",
      "16/06/2023 14:22:57 | [' selection of wooden serving utensils on a kitchen counter %% -2.5909982']\n",
      "16/06/2023 14:23:00 | [' selection of wooden serving utensils on a kitchen counter. %% -2.5237215']\n"
     ]
    },
    {
     "name": "stderr",
     "output_type": "stream",
     "text": [
      "  6%|▌         | 6/100 [03:06<48:10, 30.75s/it]  6% |####                                                                    |\r"
     ]
    },
    {
     "name": "stdout",
     "output_type": "stream",
     "text": [
      "16/06/2023 14:23:03 | [' bathroom %% -1.5905175']\n",
      "16/06/2023 14:23:05 | [' bathroom with %% -2.202629']\n",
      "16/06/2023 14:23:08 | [' bathroom with a %% -2.4251626']\n",
      "16/06/2023 14:23:11 | [' bathroom with a white %% -2.7059698']\n",
      "16/06/2023 14:23:13 | [' bathroom with a white and %% -2.816254']\n",
      "16/06/2023 14:23:16 | [' bathroom with a white and be %% -2.9503024']\n",
      "16/06/2023 14:23:18 | [' bathroom with a white and beige %% -2.6762624']\n",
      "16/06/2023 14:23:21 | [' bathroom with a white and beige umbrella %% -2.8050249']\n",
      "16/06/2023 14:23:24 | [' bathroom with a white and beige umbrella- %% -2.9002001']\n",
      "16/06/2023 14:23:26 | [' bathroom with a white and beige umbrella-<|endoftext|> %% -2.9507136']\n",
      "16/06/2023 14:23:29 | [' bathroom with a white and beige umbrella-<|endoftext|>A %% -2.9309068']\n",
      "16/06/2023 14:23:32 | [' bathroom with a white and beige umbrella-<|endoftext|>A large %% -2.9939597']\n",
      "16/06/2023 14:23:34 | [' bathroom with a white and beige umbrella-<|endoftext|>A large passenger %% -3.0781589']\n",
      "16/06/2023 14:23:37 | [' bathroom with a white and beige umbrella-<|endoftext|>A large passenger jet %% -3.0727274']\n",
      "16/06/2023 14:23:40 | [' bathroom with a white and beige umbrella-<|endoftext|>A large passenger jet is %% -3.0276618']\n",
      "16/06/2023 14:23:43 | [' bathroom with a white and beige umbrella-<|endoftext|>A large passenger jet is parked %% -3.028769']\n"
     ]
    },
    {
     "name": "stderr",
     "output_type": "stream",
     "text": [
      "  7%|▋         | 7/100 [03:48<53:34, 34.56s/it]  7% |#####                                                                   |\r"
     ]
    },
    {
     "name": "stdout",
     "output_type": "stream",
     "text": [
      "16/06/2023 14:23:45 | [' bathroom %% -1.316142']\n",
      "16/06/2023 14:23:48 | [' bathroom with %% -2.0354695']\n",
      "16/06/2023 14:23:50 | [' bathroom with a %% -2.3645191']\n",
      "16/06/2023 14:23:53 | [' bathroom with a large %% -2.7094245']\n",
      "16/06/2023 14:23:56 | [' bathroom with a large window %% -2.8479366']\n",
      "16/06/2023 14:23:58 | [' bathroom with a large window and %% -2.8738067']\n",
      "16/06/2023 14:24:01 | [' bathroom with a large window and a %% -2.9798589']\n",
      "16/06/2023 14:24:04 | [' bathroom with a large window and apron %% -2.8323472']\n",
      "16/06/2023 14:24:06 | [' bathroom with a large window and apron and %% -2.8500118']\n",
      "16/06/2023 14:24:09 | [' bathroom with a large window and apron and seat %% -2.9520655']\n",
      "16/06/2023 14:24:12 | [' bathroom with a large window and apron and seat. %% -3.0231164']\n"
     ]
    },
    {
     "name": "stderr",
     "output_type": "stream",
     "text": [
      "  8%|▊         | 8/100 [04:17<50:23, 32.86s/it]  8% |#####                                                                   |\r"
     ]
    },
    {
     "name": "stdout",
     "output_type": "stream",
     "text": [
      "16/06/2023 14:24:14 | [' stop %% -2.8016768']\n",
      "16/06/2023 14:24:17 | [' stop sign %% -2.6327806']\n",
      "16/06/2023 14:24:20 | [' stop sign with %% -2.8531778']\n",
      "16/06/2023 14:24:22 | [' stop sign with a %% -2.8604994']\n",
      "16/06/2023 14:24:25 | [' stop sign with a cyclist %% -2.6837249']\n",
      "16/06/2023 14:24:28 | [' stop sign with a cyclist on %% -2.7124128']\n",
      "16/06/2023 14:24:30 | [' stop sign with a cyclist on the %% -2.7522895']\n",
      "16/06/2023 14:24:33 | [' stop sign with a cyclist on the street %% -2.8543284']\n",
      "16/06/2023 14:24:36 | [' stop sign with a cyclist on the street. %% -2.8382165']\n"
     ]
    },
    {
     "name": "stderr",
     "output_type": "stream",
     "text": [
      "  9%|▉         | 9/100 [04:41<45:31, 30.02s/it]  9% |######                                                                  |\r"
     ]
    },
    {
     "name": "stdout",
     "output_type": "stream",
     "text": [
      "16/06/2023 14:24:38 | [' bathroom %% -1.591352']\n",
      "16/06/2023 14:24:41 | [' bathroom with %% -2.2593443']\n",
      "16/06/2023 14:24:43 | [' bathroom with a %% -2.5133893']\n",
      "16/06/2023 14:24:46 | [' bathroom with a large %% -2.7881374']\n",
      "16/06/2023 14:24:49 | [' bathroom with a large window %% -2.9369524']\n",
      "16/06/2023 14:24:51 | [' bathroom with a large window and %% -2.9525108']\n",
      "16/06/2023 14:24:54 | [' bathroom with a large window and a %% -3.009507']\n",
      "16/06/2023 14:24:57 | [' bathroom with a large window and apron %% -2.8370678']\n",
      "16/06/2023 14:24:59 | [' bathroom with a large window and apron on %% -2.8348618']\n",
      "16/06/2023 14:25:02 | [' bathroom with a large window and apron on. %% -2.8313427']\n"
     ]
    },
    {
     "name": "stderr",
     "output_type": "stream",
     "text": [
      " 10%|█         | 10/100 [05:08<43:24, 28.94s/it] 10% |#######                                                                 |\r"
     ]
    },
    {
     "name": "stdout",
     "output_type": "stream",
     "text": [
      "16/06/2023 14:25:05 | [' bathroom %% -2.0921462']\n",
      "16/06/2023 14:25:07 | [' bathroom with %% -2.4031372']\n",
      "16/06/2023 14:25:10 | [' bathroom with a %% -2.5197995']\n",
      "16/06/2023 14:25:13 | [' bathroom with a large %% -2.7533002']\n",
      "16/06/2023 14:25:15 | [' bathroom with a large amount %% -2.8593938']\n",
      "16/06/2023 14:25:18 | [' bathroom with a large amount of %% -2.8537505']\n",
      "16/06/2023 14:25:20 | [' bathroom with a large amount of items %% -2.8776345']\n",
      "16/06/2023 14:25:23 | [' bathroom with a large amount of items in %% -2.856619']\n",
      "16/06/2023 14:25:26 | [' bathroom with a large amount of items in it %% -2.8954544']\n",
      "16/06/2023 14:25:29 | [' bathroom with a large amount of items in it. %% -2.8658516']\n"
     ]
    },
    {
     "name": "stderr",
     "output_type": "stream",
     "text": [
      " 11%|█         | 11/100 [05:34<41:47, 28.17s/it] 11% |#######                                                                 |\r"
     ]
    },
    {
     "name": "stdout",
     "output_type": "stream",
     "text": [
      "16/06/2023 14:25:31 | [' man %% -2.2675054']\n",
      "16/06/2023 14:25:34 | [' man in %% -2.5185642']\n",
      "16/06/2023 14:25:36 | [' man in tie %% -2.6146257']\n",
      "16/06/2023 14:25:39 | [' man in tie making %% -2.7238374']\n",
      "16/06/2023 14:25:42 | [' man in tie making funny %% -2.7070134']\n",
      "16/06/2023 14:25:44 | [' man in tie making funny poses %% -2.8055198']\n",
      "16/06/2023 14:25:47 | [' man in tie making funny poses in %% -2.6656916']\n",
      "16/06/2023 14:25:50 | [' man in tie making funny poses in a %% -2.6304023']\n",
      "16/06/2023 14:25:52 | [' man in tie making funny poses in a mirror %% -2.760794']\n",
      "16/06/2023 14:25:55 | [' man in tie making funny poses in a mirror. %% -2.6469932']\n"
     ]
    },
    {
     "name": "stderr",
     "output_type": "stream",
     "text": [
      " 12%|█▏        | 12/100 [06:00<40:32, 27.65s/it] 12% |########                                                                |\r"
     ]
    },
    {
     "name": "stdout",
     "output_type": "stream",
     "text": [
      "16/06/2023 14:25:58 | [' motorcycle %% -0.94218993']\n",
      "16/06/2023 14:26:00 | [' motorcycle rider %% -1.8955072']\n",
      "16/06/2023 14:26:03 | [' motorcycle rider on %% -2.3711545']\n",
      "16/06/2023 14:26:05 | [' motorcycle rider on a %% -2.559795']\n",
      "16/06/2023 14:26:08 | [' motorcycle rider on a city %% -2.826014']\n",
      "16/06/2023 14:26:11 | [' motorcycle rider on a city street %% -2.7764702']\n",
      "16/06/2023 14:26:13 | [' motorcycle rider on a city street with %% -2.7553058']\n",
      "16/06/2023 14:26:16 | [' motorcycle rider on a city street with a %% -2.8140986']\n",
      "16/06/2023 14:26:19 | [' motorcycle rider on a city street with a friend %% -2.8327892']\n",
      "16/06/2023 14:26:21 | [' motorcycle rider on a city street with a friend in %% -2.9080377']\n",
      "16/06/2023 14:26:24 | [' motorcycle rider on a city street with a friend in the %% -2.8256829']\n",
      "16/06/2023 14:26:27 | [' motorcycle rider on a city street with a friend in the car %% -2.8685648']\n",
      "16/06/2023 14:26:29 | [' motorcycle rider on a city street with a friend in the car dealership %% -2.9141886']\n",
      "16/06/2023 14:26:32 | [' motorcycle rider on a city street with a friend in the car dealership looking %% -2.984835']\n",
      "16/06/2023 14:26:35 | [' motorcycle rider on a city street with a friend in the car dealership looking on %% -2.9262173']\n",
      "16/06/2023 14:26:38 | [' motorcycle rider on a city street with a friend in the car dealership looking on. %% -2.8117409']\n"
     ]
    },
    {
     "name": "stderr",
     "output_type": "stream",
     "text": [
      " 13%|█▎        | 13/100 [06:43<46:41, 32.20s/it] 13% |#########                                                               |\r"
     ]
    },
    {
     "name": "stdout",
     "output_type": "stream",
     "text": [
      "16/06/2023 14:26:40 | [' street %% -1.6954553']\n",
      "16/06/2023 14:26:43 | [' street with %% -2.2204661']\n",
      "16/06/2023 14:26:45 | [' street with a %% -2.4507513']\n",
      "16/06/2023 14:26:48 | [' street with a large %% -2.6899076']\n",
      "16/06/2023 14:26:51 | [' street with a large amount %% -2.9844582']\n",
      "16/06/2023 14:26:53 | [' street with a large amount of %% -2.5915468']\n",
      "16/06/2023 14:26:56 | [' street with a large amount of old %% -2.7073607']\n",
      "16/06/2023 14:26:59 | [' street with a large amount of old and %% -2.7821584']\n",
      "16/06/2023 14:27:01 | [' street with a large amount of old and colorful %% -2.8566346']\n",
      "16/06/2023 14:27:04 | [' street with a large amount of old and colorful motorcycles %% -2.9888415']\n",
      "16/06/2023 14:27:07 | [' street with a large amount of old and colorful motorcycles. %% -2.9204621']\n"
     ]
    },
    {
     "name": "stderr",
     "output_type": "stream",
     "text": [
      " 14%|█▍        | 14/100 [07:12<44:48, 31.26s/it] 14% |##########                                                              |\r"
     ]
    },
    {
     "name": "stdout",
     "output_type": "stream",
     "text": [
      "16/06/2023 14:27:09 | [' Wii %% -1.147924']\n",
      "16/06/2023 14:27:12 | [' Wii sitting %% -2.0156114']\n",
      "16/06/2023 14:27:15 | [' Wii sitting room %% -2.0099347']\n",
      "16/06/2023 14:27:17 | [' Wii sitting room with %% -2.3090863']\n",
      "16/06/2023 14:27:20 | [' Wii sitting room with a %% -2.4849339']\n",
      "16/06/2023 14:27:22 | [' Wii sitting room with a picture %% -2.657549']\n",
      "16/06/2023 14:27:25 | [' Wii sitting room with a picture of %% -2.6286404']\n",
      "16/06/2023 14:27:28 | [' Wii sitting room with a picture of a %% -2.6932096']\n",
      "16/06/2023 14:27:31 | [' Wii sitting room with a picture of a man %% -2.8125172']\n",
      "16/06/2023 14:27:33 | [' Wii sitting room with a picture of a man in %% -2.911121']\n",
      "16/06/2023 14:27:36 | [' Wii sitting room with a picture of a man in a %% -2.9172418']\n",
      "16/06/2023 14:27:38 | [' Wii sitting room with a picture of a man in a suit %% -2.943196']\n",
      "16/06/2023 14:27:41 | [' Wii sitting room with a picture of a man in a suiting %% -2.8335736']\n",
      "16/06/2023 14:27:44 | [' Wii sitting room with a picture of a man in a suiting up %% -2.8513458']\n",
      "16/06/2023 14:27:47 | [' Wii sitting room with a picture of a man in a suiting up. %% -2.777547']\n"
     ]
    },
    {
     "name": "stderr",
     "output_type": "stream",
     "text": [
      " 15%|█▌        | 15/100 [07:52<47:56, 33.84s/it] 15% |##########                                                              |\r"
     ]
    },
    {
     "name": "stdout",
     "output_type": "stream",
     "text": [
      "16/06/2023 14:27:49 | [' painting %% -2.8432634']\n",
      "16/06/2023 14:27:52 | [' painting v %% -2.938656']\n",
      "16/06/2023 14:27:54 | [' painting vase %% -2.7184865']\n",
      "16/06/2023 14:27:57 | [' painting vase with %% -2.6109962']\n",
      "16/06/2023 14:28:00 | [' painting vase with oranges %% -2.4909744']\n",
      "16/06/2023 14:28:02 | [' painting vase with oranges and %% -2.4940674']\n",
      "16/06/2023 14:28:05 | [' painting vase with oranges and a %% -2.6774755']\n",
      "16/06/2023 14:28:07 | [' painting vase with oranges and a candle %% -2.8252363']\n",
      "16/06/2023 14:28:10 | [' painting vase with oranges and a candle light %% -2.910039']\n",
      "16/06/2023 14:28:13 | [' painting vase with oranges and a candle light. %% -2.960243']\n"
     ]
    },
    {
     "name": "stderr",
     "output_type": "stream",
     "text": [
      " 16%|█▌        | 16/100 [08:18<44:14, 31.60s/it] 16% |###########                                                             |\r"
     ]
    },
    {
     "name": "stdout",
     "output_type": "stream",
     "text": [
      "16/06/2023 14:28:16 | [' ripe %% -3.280146']\n",
      "16/06/2023 14:28:18 | [' ripe vendor %% -2.9985774']\n",
      "16/06/2023 14:28:21 | [' ripe vendor bananas %% -2.9154072']\n",
      "16/06/2023 14:28:23 | [' ripe vendor bananas in %% -2.8491292']\n",
      "16/06/2023 14:28:26 | [' ripe vendor bananas in a %% -2.867791']\n",
      "16/06/2023 14:28:29 | [' ripe vendor bananas in a market %% -3.035188']\n",
      "16/06/2023 14:28:31 | [' ripe vendor bananas in a market place %% -3.0517163']\n",
      "16/06/2023 14:28:34 | [' ripe vendor bananas in a market place. %% -2.8888545']\n"
     ]
    },
    {
     "name": "stderr",
     "output_type": "stream",
     "text": [
      " 17%|█▋        | 17/100 [08:40<39:20, 28.44s/it] 17% |############                                                            |\r"
     ]
    },
    {
     "name": "stdout",
     "output_type": "stream",
     "text": [
      "16/06/2023 14:28:37 | [' motorcycle %% -1.3588142']\n",
      "16/06/2023 14:28:39 | [' motorcycle museum %% -2.2408247']\n",
      "16/06/2023 14:28:42 | [' motorcycle museum with %% -2.4042597']\n",
      "16/06/2023 14:28:44 | [' motorcycle museum with wine %% -2.1665802']\n",
      "16/06/2023 14:28:47 | [' motorcycle museum with wine and %% -2.2397683']\n",
      "16/06/2023 14:28:50 | [' motorcycle museum with wine and other %% -2.5379615']\n",
      "16/06/2023 14:28:52 | [' motorcycle museum with wine and other food %% -2.7258666']\n",
      "16/06/2023 14:28:55 | [' motorcycle museum with wine and other food on %% -2.6499174']\n",
      "16/06/2023 14:28:58 | [' motorcycle museum with wine and other food on display %% -2.634307']\n",
      "16/06/2023 14:29:01 | [' motorcycle museum with wine and other food on display. %% -2.5628178']\n"
     ]
    },
    {
     "name": "stderr",
     "output_type": "stream",
     "text": [
      " 18%|█▊        | 18/100 [09:06<38:07, 27.89s/it] 18% |############                                                            |\r"
     ]
    },
    {
     "name": "stdout",
     "output_type": "stream",
     "text": [
      "16/06/2023 14:29:03 | [' plane %% -2.316273']\n",
      "16/06/2023 14:29:06 | [' plane boarding %% -2.1302016']\n",
      "16/06/2023 14:29:09 | [' plane boarding with %% -2.413618']\n",
      "16/06/2023 14:29:11 | [' plane boarding with a %% -2.5327797']\n",
      "16/06/2023 14:29:14 | [' plane boarding with a seat %% -2.8869405']\n",
      "16/06/2023 14:29:16 | [' plane boarding with a seat and %% -3.0097392']\n",
      "16/06/2023 14:29:19 | [' plane boarding with a seat and a %% -3.081126']\n",
      "16/06/2023 14:29:22 | [' plane boarding with a seat and a large %% -3.266026']\n",
      "16/06/2023 14:29:24 | [' plane boarding with a seat and a large window %% -3.3269']\n",
      "16/06/2023 14:29:27 | [' plane boarding with a seat and a large window. %% -3.24852']\n"
     ]
    },
    {
     "name": "stderr",
     "output_type": "stream",
     "text": [
      " 19%|█▉        | 19/100 [09:33<37:04, 27.46s/it] 19% |#############                                                           |\r"
     ]
    },
    {
     "name": "stdout",
     "output_type": "stream",
     "text": [
      "16/06/2023 14:29:30 | [' airport %% -2.1981862']\n",
      "16/06/2023 14:29:32 | [' airport t %% -2.694691']\n",
      "16/06/2023 14:29:35 | [' airport tarmac %% -2.2170765']\n",
      "16/06/2023 14:29:38 | [' airport tarmac with %% -2.3265808']\n",
      "16/06/2023 14:29:40 | [' airport tarmac with luggage %% -2.4903426']\n",
      "16/06/2023 14:29:43 | [' airport tarmac with luggage on %% -2.6411724']\n",
      "16/06/2023 14:29:45 | [' airport tarmac with luggage on a %% -2.7785127']\n",
      "16/06/2023 14:29:48 | [' airport tarmac with luggage on a rainy %% -2.7405782']\n",
      "16/06/2023 14:29:51 | [' airport tarmac with luggage on a rainy day %% -2.6759996']\n",
      "16/06/2023 14:29:53 | [' airport tarmac with luggage on a rainy day. %% -2.6980574']\n"
     ]
    },
    {
     "name": "stderr",
     "output_type": "stream",
     "text": [
      " 20%|██        | 20/100 [09:59<36:10, 27.13s/it] 20% |##############                                                          |\r"
     ]
    },
    {
     "name": "stdout",
     "output_type": "stream",
     "text": [
      "16/06/2023 14:29:56 | [' fighter %% -2.8625848']\n",
      "16/06/2023 14:29:59 | [' fighter jet %% -1.9182032']\n",
      "16/06/2023 14:30:01 | [' fighter jet in %% -2.3031166']\n",
      "16/06/2023 14:30:04 | [' fighter jet in a %% -2.472436']\n",
      "16/06/2023 14:30:07 | [' fighter jet in a competition %% -2.4453056']\n",
      "16/06/2023 14:30:09 | [' fighter jet in a competition race %% -2.609111']\n",
      "16/06/2023 14:30:12 | [' fighter jet in a competition race photo %% -2.7588975']\n",
      "16/06/2023 14:30:15 | [' fighter jet in a competition race photo<|endoftext|> %% -2.8512056']\n",
      "16/06/2023 14:30:17 | [' fighter jet in a competition race photo<|endoftext|>A %% -2.7966914']\n",
      "16/06/2023 14:30:20 | [' fighter jet in a competition race photo<|endoftext|>A small %% -2.8941772']\n",
      "16/06/2023 14:30:23 | [' fighter jet in a competition race photo<|endoftext|>A small child %% -2.9977763']\n",
      "16/06/2023 14:30:25 | [' fighter jet in a competition race photo<|endoftext|>A small child is %% -3.0310621']\n",
      "16/06/2023 14:30:28 | [' fighter jet in a competition race photo<|endoftext|>A small child is shown %% -3.0823455']\n",
      "16/06/2023 14:30:31 | [' fighter jet in a competition race photo<|endoftext|>A small child is shown in %% -3.1100845']\n",
      "16/06/2023 14:30:33 | [' fighter jet in a competition race photo<|endoftext|>A small child is shown in a %% -3.1056712']\n",
      "16/06/2023 14:30:36 | [' fighter jet in a competition race photo<|endoftext|>A small child is shown in a blue %% -3.1748393']\n"
     ]
    },
    {
     "name": "stderr",
     "output_type": "stream",
     "text": [
      " 21%|██        | 21/100 [10:42<41:48, 31.75s/it] 21% |###############                                                         |\r"
     ]
    },
    {
     "name": "stdout",
     "output_type": "stream",
     "text": [
      "16/06/2023 14:30:39 | [' motorcycle %% -1.1406792']\n",
      "16/06/2023 14:30:41 | [' motorcycle rider %% -2.0556097']\n",
      "16/06/2023 14:30:44 | [' motorcycle rider in %% -2.4745674']\n",
      "16/06/2023 14:30:46 | [' motorcycle rider in a %% -2.5318007']\n",
      "16/06/2023 14:30:49 | [' motorcycle rider in apron %% -2.5308106']\n",
      "16/06/2023 14:30:52 | [' motorcycle rider in apron drying %% -2.6041675']\n",
      "16/06/2023 14:30:54 | [' motorcycle rider in apron drying grass %% -2.6257358']\n",
      "16/06/2023 14:30:57 | [' motorcycle rider in apron drying grass<|endoftext|> %% -2.5990982']\n",
      "16/06/2023 14:31:00 | [' motorcycle rider in apron drying grass<|endoftext|>A %% -2.5545952']\n",
      "16/06/2023 14:31:02 | [' motorcycle rider in apron drying grass<|endoftext|>A herd %% -2.6474786']\n",
      "16/06/2023 14:31:05 | [' motorcycle rider in apron drying grass<|endoftext|>A herd of %% -2.6581137']\n",
      "16/06/2023 14:31:08 | [' motorcycle rider in apron drying grass<|endoftext|>A herd of sheep %% -2.7290256']\n",
      "16/06/2023 14:31:10 | [' motorcycle rider in apron drying grass<|endoftext|>A herd of sheep are %% -2.7257292']\n",
      "16/06/2023 14:31:13 | [' motorcycle rider in apron drying grass<|endoftext|>A herd of sheep are in %% -2.775213']\n",
      "16/06/2023 14:31:16 | [' motorcycle rider in apron drying grass<|endoftext|>A herd of sheep are in a %% -2.7368927']\n",
      "16/06/2023 14:31:18 | [' motorcycle rider in apron drying grass<|endoftext|>A herd of sheep are in a small %% -2.787885']\n"
     ]
    },
    {
     "name": "stderr",
     "output_type": "stream",
     "text": [
      " 22%|██▏       | 22/100 [11:24<45:25, 34.94s/it] 22% |###############                                                         |\r"
     ]
    },
    {
     "name": "stdout",
     "output_type": "stream",
     "text": [
      "16/06/2023 14:31:21 | [' living %% -3.4905932']\n",
      "16/06/2023 14:31:24 | [' living room %% -2.7353487']\n",
      "16/06/2023 14:31:26 | [' living room dog %% -2.622576']\n",
      "16/06/2023 14:31:29 | [' living room dog riding %% -2.563446']\n",
      "16/06/2023 14:31:31 | [' living room dog riding on %% -2.5910747']\n",
      "16/06/2023 14:31:34 | [' living room dog riding on a %% -2.5480278']\n",
      "16/06/2023 14:31:37 | [' living room dog riding on a carriage %% -2.6410072']\n",
      "16/06/2023 14:31:39 | [' living room dog riding on a carriage with %% -2.7806377']\n",
      "16/06/2023 14:31:42 | [' living room dog riding on a carriage with a %% -2.7846692']\n",
      "16/06/2023 14:31:45 | [' living room dog riding on a carriage with a man %% -2.862801']\n",
      "16/06/2023 14:31:47 | [' living room dog riding on a carriage with a man in %% -2.8460753']\n",
      "16/06/2023 14:31:50 | [' living room dog riding on a carriage with a man in a %% -2.823664']\n",
      "16/06/2023 14:31:53 | [' living room dog riding on a carriage with a man in a suit %% -2.8938625']\n",
      "16/06/2023 14:31:55 | [' living room dog riding on a carriage with a man in a suit and %% -2.879986']\n",
      "16/06/2023 14:31:58 | [' living room dog riding on a carriage with a man in a suit and a %% -2.8246014']\n",
      "16/06/2023 14:32:01 | [' living room dog riding on a carriage with a man in a suit and a tie %% -2.861213']\n"
     ]
    },
    {
     "name": "stderr",
     "output_type": "stream",
     "text": [
      " 23%|██▎       | 23/100 [12:06<47:43, 37.19s/it] 23% |################                                                        |\r"
     ]
    },
    {
     "name": "stdout",
     "output_type": "stream",
     "text": [
      "16/06/2023 14:32:03 | [' intersection %% -0.5327934']\n",
      "16/06/2023 14:32:06 | [' intersection with %% -1.6006317']\n",
      "16/06/2023 14:32:09 | [' intersection with a %% -2.064805']\n",
      "16/06/2023 14:32:11 | [' intersection with a stop %% -2.439446']\n",
      "16/06/2023 14:32:14 | [' intersection with a stop sign %% -2.2553723']\n",
      "16/06/2023 14:32:17 | [' intersection with a stop sign on %% -2.383034']\n",
      "16/06/2023 14:32:19 | [' intersection with a stop sign on a %% -2.3758395']\n",
      "16/06/2023 14:32:22 | [' intersection with a stop sign on a light %% -2.542542']\n",
      "16/06/2023 14:32:25 | [' intersection with a stop sign on a light. %% -2.5230725']\n"
     ]
    },
    {
     "name": "stderr",
     "output_type": "stream",
     "text": [
      " 24%|██▍       | 24/100 [12:30<41:59, 33.16s/it] 24% |#################                                                       |\r"
     ]
    },
    {
     "name": "stdout",
     "output_type": "stream",
     "text": [
      "16/06/2023 14:32:27 | [' cabin %% -1.9310081']\n",
      "16/06/2023 14:32:30 | [' cabin with %% -2.5537016']\n",
      "16/06/2023 14:32:32 | [' cabin with a %% -2.6709907']\n",
      "16/06/2023 14:32:35 | [' cabin with a window %% -2.8596828']\n",
      "16/06/2023 14:32:38 | [' cabin with a window and %% -2.9433846']\n",
      "16/06/2023 14:32:40 | [' cabin with a window and a %% -3.0724452']\n",
      "16/06/2023 14:32:43 | [' cabin with a window and a large %% -3.1664603']\n",
      "16/06/2023 14:32:46 | [' cabin with a window and a large white %% -3.2401888']\n",
      "16/06/2023 14:32:48 | [' cabin with a window and a large white t %% -3.2795978']\n",
      "16/06/2023 14:32:51 | [' cabin with a window and a large white t. %% -3.2720134']\n"
     ]
    },
    {
     "name": "stderr",
     "output_type": "stream",
     "text": [
      " 25%|██▌       | 25/100 [12:56<38:54, 31.13s/it] 25% |##################                                                      |\r"
     ]
    },
    {
     "name": "stdout",
     "output_type": "stream",
     "text": [
      "16/06/2023 14:32:54 | [' crowd %% -3.738614']\n",
      "16/06/2023 14:32:56 | [' crowd with %% -3.5376072']\n",
      "16/06/2023 14:32:59 | [' crowd with a %% -3.4350927']\n",
      "16/06/2023 14:33:01 | [' crowd with a picture %% -3.4825556']\n",
      "16/06/2023 14:33:04 | [' crowd with a picture of %% -3.3943114']\n",
      "16/06/2023 14:33:07 | [' crowd with a picture of a %% -3.316165']\n",
      "16/06/2023 14:33:09 | [' crowd with a picture of a cyclist %% -3.228576']\n",
      "16/06/2023 14:33:12 | [' crowd with a picture of a cyclist on %% -3.2708275']\n",
      "16/06/2023 14:33:15 | [' crowd with a picture of a cyclist on a %% -3.1722808']\n",
      "16/06/2023 14:33:17 | [' crowd with a picture of a cyclist on a ramp %% -3.2130837']\n",
      "16/06/2023 14:33:20 | [' crowd with a picture of a cyclist on a ramp with %% -3.1825593']\n",
      "16/06/2023 14:33:23 | [' crowd with a picture of a cyclist on a ramp with a %% -3.1609058']\n",
      "16/06/2023 14:33:25 | [' crowd with a picture of a cyclist on a ramp with a man %% -3.2282298']\n",
      "16/06/2023 14:33:28 | [' crowd with a picture of a cyclist on a ramp with a man on %% -3.199332']\n",
      "16/06/2023 14:33:31 | [' crowd with a picture of a cyclist on a ramp with a man on the %% -3.1813836']\n",
      "16/06/2023 14:33:33 | [' crowd with a picture of a cyclist on a ramp with a man on the ramp %% -3.1863286']\n"
     ]
    },
    {
     "name": "stderr",
     "output_type": "stream",
     "text": [
      " 26%|██▌       | 26/100 [13:39<42:36, 34.55s/it] 26% |##################                                                      |\r"
     ]
    },
    {
     "name": "stdout",
     "output_type": "stream",
     "text": [
      "16/06/2023 14:33:36 | [' farm %% -2.3188577']\n",
      "16/06/2023 14:33:39 | [' farm sheep %% -2.6894145']\n",
      "16/06/2023 14:33:41 | [' farm sheep with %% -2.5669754']\n",
      "16/06/2023 14:33:44 | [' farm sheep with cottage %% -2.6822805']\n",
      "16/06/2023 14:33:47 | [' farm sheep with cottage in %% -2.631326']\n",
      "16/06/2023 14:33:49 | [' farm sheep with cottage in background %% -2.5366347']\n",
      "16/06/2023 14:33:52 | [' farm sheep with cottage in background in %% -2.6064224']\n",
      "16/06/2023 14:33:55 | [' farm sheep with cottage in background in winter %% -2.6584432']\n",
      "16/06/2023 14:33:57 | [' farm sheep with cottage in background in winter setting %% -2.763702']\n",
      "16/06/2023 14:34:00 | [' farm sheep with cottage in background in winter setting. %% -2.6588686']\n"
     ]
    },
    {
     "name": "stderr",
     "output_type": "stream",
     "text": [
      " 27%|██▋       | 27/100 [14:06<39:06, 32.15s/it] 27% |###################                                                     |\r"
     ]
    },
    {
     "name": "stdout",
     "output_type": "stream",
     "text": [
      "16/06/2023 14:34:03 | [' bird %% -3.0503273']\n",
      "16/06/2023 14:34:05 | [' bird boat %% -2.8657143']\n",
      "16/06/2023 14:34:08 | [' bird boat in %% -3.1406288']\n",
      "16/06/2023 14:34:10 | [' bird boat in flight %% -3.1299932']\n",
      "16/06/2023 14:34:13 | [' bird boat in flight and %% -3.217748']\n",
      "16/06/2023 14:34:16 | [' bird boat in flight and a %% -3.275246']\n",
      "16/06/2023 14:34:18 | [' bird boat in flight and a cloudy %% -3.349614']\n",
      "16/06/2023 14:34:21 | [' bird boat in flight and a cloudy sky %% -3.2283092']\n",
      "16/06/2023 14:34:24 | [' bird boat in flight and a cloudy sky. %% -3.1175873']\n"
     ]
    },
    {
     "name": "stderr",
     "output_type": "stream",
     "text": [
      " 28%|██▊       | 28/100 [14:29<35:32, 29.62s/it] 28% |####################                                                    |\r"
     ]
    },
    {
     "name": "stdout",
     "output_type": "stream",
     "text": [
      "16/06/2023 14:34:26 | [' boat %% -1.8205445']\n",
      "16/06/2023 14:34:29 | [' boat with %% -2.6069002']\n",
      "16/06/2023 14:34:32 | [' boat with decorations %% -2.6520967']\n",
      "16/06/2023 14:34:34 | [' boat with decorations on %% -2.852543']\n",
      "16/06/2023 14:34:37 | [' boat with decorations on in %% -2.8297634']\n",
      "16/06/2023 14:34:39 | [' boat with decorations on in the %% -2.8319657']\n",
      "16/06/2023 14:34:42 | [' boat with decorations on in the shape %% -2.9855387']\n",
      "16/06/2023 14:34:45 | [' boat with decorations on in the shape of %% -2.826255']\n",
      "16/06/2023 14:34:48 | [' boat with decorations on in the shape of a %% -2.8656363']\n",
      "16/06/2023 14:34:50 | [' boat with decorations on in the shape of a tent %% -2.8953881']\n",
      "16/06/2023 14:34:53 | [' boat with decorations on in the shape of a tent. %% -2.9322646']\n"
     ]
    },
    {
     "name": "stderr",
     "output_type": "stream",
     "text": [
      " 29%|██▉       | 29/100 [14:58<34:52, 29.48s/it] 29% |####################                                                    |\r"
     ]
    },
    {
     "name": "stdout",
     "output_type": "stream",
     "text": [
      "16/06/2023 14:34:56 | [' gir %% -2.461548']\n",
      "16/06/2023 14:34:58 | [' giraffe %% -1.8466945']\n",
      "16/06/2023 14:35:01 | [' giraffe in %% -2.2841198']\n",
      "16/06/2023 14:35:03 | [' giraffe in the %% -2.449959']\n",
      "16/06/2023 14:35:06 | [' giraffe in the wild %% -2.6200933']\n",
      "16/06/2023 14:35:09 | [' giraffe in the wild with %% -2.694814']\n",
      "16/06/2023 14:35:11 | [' giraffe in the wild with other %% -2.8551743']\n",
      "16/06/2023 14:35:14 | [' giraffe in the wild with other animals %% -2.8317957']\n",
      "16/06/2023 14:35:17 | [' giraffe in the wild with other animals in %% -2.755978']\n",
      "16/06/2023 14:35:19 | [' giraffe in the wild with other animals in the %% -2.7517762']\n",
      "16/06/2023 14:35:22 | [' giraffe in the wild with other animals in the background %% -2.8109872']\n",
      "16/06/2023 14:35:25 | [' giraffe in the wild with other animals in the background. %% -2.7318957']\n"
     ]
    },
    {
     "name": "stderr",
     "output_type": "stream",
     "text": [
      " 30%|███       | 30/100 [15:30<35:11, 30.16s/it] 30% |#####################                                                   |\r"
     ]
    },
    {
     "name": "stdout",
     "output_type": "stream",
     "text": [
      "16/06/2023 14:35:27 | [' street %% -2.5385606']\n",
      "16/06/2023 14:35:30 | [' street light %% -2.9610558']\n",
      "16/06/2023 14:35:32 | [' street light on %% -2.9855509']\n",
      "16/06/2023 14:35:35 | [' street light on a %% -2.8208025']\n",
      "16/06/2023 14:35:38 | [' street light on a city %% -3.0342271']\n",
      "16/06/2023 14:35:40 | [' street light on a city street %% -3.0171568']\n",
      "16/06/2023 14:35:43 | [' street light on a city street. %% -2.9555714']\n"
     ]
    },
    {
     "name": "stderr",
     "output_type": "stream",
     "text": [
      " 31%|███       | 31/100 [15:48<30:36, 26.61s/it] 31% |######################                                                  |\r"
     ]
    },
    {
     "name": "stdout",
     "output_type": "stream",
     "text": [
      "16/06/2023 14:35:46 | [' meal %% -1.5392698']\n",
      "16/06/2023 14:35:48 | [' meal in %% -2.301912']\n",
      "16/06/2023 14:35:51 | [' meal in bird %% -2.392452']\n",
      "16/06/2023 14:35:53 | [' meal in birdbath %% -2.3051558']\n",
      "16/06/2023 14:35:56 | [' meal in birdbath with %% -2.2741838']\n",
      "16/06/2023 14:35:59 | [' meal in birdbath with a %% -2.4080024']\n",
      "16/06/2023 14:36:01 | [' meal in birdbath with a white %% -2.6436296']\n",
      "16/06/2023 14:36:04 | [' meal in birdbath with a white and %% -2.7662396']\n",
      "16/06/2023 14:36:07 | [' meal in birdbath with a white and green %% -2.8924997']\n",
      "16/06/2023 14:36:09 | [' meal in birdbath with a white and green tooth %% -3.0041614']\n",
      "16/06/2023 14:36:12 | [' meal in birdbath with a white and green tooth brush %% -2.935134']\n",
      "16/06/2023 14:36:15 | [' meal in birdbath with a white and green tooth brush. %% -2.8645744']\n"
     ]
    },
    {
     "name": "stderr",
     "output_type": "stream",
     "text": [
      " 32%|███▏      | 32/100 [16:20<31:58, 28.21s/it] 32% |#######################                                                 |\r"
     ]
    },
    {
     "name": "stdout",
     "output_type": "stream",
     "text": [
      "16/06/2023 14:36:18 | [' downtown %% -2.156469']\n",
      "16/06/2023 14:36:20 | [' downtown Washington %% -2.8480496']\n",
      "16/06/2023 14:36:23 | [' downtown Washington area %% -2.8759604']\n",
      "16/06/2023 14:36:25 | [' downtown Washington area clock %% -2.8838682']\n",
      "16/06/2023 14:36:28 | [' downtown Washington area clock tower %% -2.7435384']\n",
      "16/06/2023 14:36:31 | [' downtown Washington area clock tower with %% -2.7770653']\n",
      "16/06/2023 14:36:33 | [' downtown Washington area clock tower with a %% -2.8637633']\n",
      "16/06/2023 14:36:36 | [' downtown Washington area clock tower with a sign %% -2.9653566']\n",
      "16/06/2023 14:36:39 | [' downtown Washington area clock tower with a sign on %% -2.9853182']\n",
      "16/06/2023 14:36:41 | [' downtown Washington area clock tower with a sign on the %% -2.8950548']\n",
      "16/06/2023 14:36:44 | [' downtown Washington area clock tower with a sign on the clock %% -2.9856386']\n",
      "16/06/2023 14:36:47 | [' downtown Washington area clock tower with a sign on the clock. %% -3.0118306']\n"
     ]
    },
    {
     "name": "stderr",
     "output_type": "stream",
     "text": [
      " 33%|███▎      | 33/100 [16:52<32:40, 29.26s/it] 33% |#######################                                                 |\r"
     ]
    },
    {
     "name": "stdout",
     "output_type": "stream",
     "text": [
      "16/06/2023 14:36:49 | [' pair %% -1.8780369']\n",
      "16/06/2023 14:36:52 | [' pair of %% -1.4946136']\n",
      "16/06/2023 14:36:54 | [' pair of two %% -2.1096349']\n",
      "16/06/2023 14:36:57 | [' pair of two birds %% -2.2963257']\n",
      "16/06/2023 14:37:00 | [' pair of two birds on %% -2.4234993']\n",
      "16/06/2023 14:37:02 | [' pair of two birds on a %% -2.4135954']\n",
      "16/06/2023 14:37:05 | [' pair of two birds on a small %% -2.5819242']\n",
      "16/06/2023 14:37:08 | [' pair of two birds on a small pond %% -2.6332312']\n",
      "16/06/2023 14:37:10 | [' pair of two birds on a small pond. %% -2.6917434']\n"
     ]
    },
    {
     "name": "stderr",
     "output_type": "stream",
     "text": [
      " 34%|███▍      | 34/100 [17:16<30:20, 27.58s/it] 34% |########################                                                |\r"
     ]
    },
    {
     "name": "stdout",
     "output_type": "stream",
     "text": [
      "16/06/2023 14:37:13 | [' sign %% -1.0937337']\n",
      "16/06/2023 14:37:16 | [' sign yard %% -1.8630135']\n",
      "16/06/2023 14:37:18 | [' sign yard with %% -2.4798985']\n",
      "16/06/2023 14:37:21 | [' sign yard with a %% -2.6417646']\n",
      "16/06/2023 14:37:23 | [' sign yard with a pole %% -2.7816832']\n",
      "16/06/2023 14:37:26 | [' sign yard with a pole and %% -2.8578026']\n",
      "16/06/2023 14:37:29 | [' sign yard with a pole and a %% -2.9329548']\n",
      "16/06/2023 14:37:31 | [' sign yard with a pole and a sign %% -3.0920181']\n",
      "16/06/2023 14:37:34 | [' sign yard with a pole and a sign on %% -3.0390728']\n",
      "16/06/2023 14:37:37 | [' sign yard with a pole and a sign on a %% -2.9335353']\n",
      "16/06/2023 14:37:39 | [' sign yard with a pole and a sign on a metal %% -2.9870164']\n",
      "16/06/2023 14:37:42 | [' sign yard with a pole and a sign on a metal post %% -3.0266516']\n",
      "16/06/2023 14:37:45 | [' sign yard with a pole and a sign on a metal post. %% -2.8807378']\n"
     ]
    },
    {
     "name": "stderr",
     "output_type": "stream",
     "text": [
      " 35%|███▌      | 35/100 [17:50<32:05, 29.62s/it] 35% |#########################                                               |\r"
     ]
    },
    {
     "name": "stdout",
     "output_type": "stream",
     "text": [
      "16/06/2023 14:37:47 | [' sheep %% -0.88011575']\n",
      "16/06/2023 14:37:50 | [' sheep in %% -2.0200677']\n",
      "16/06/2023 14:37:53 | [' sheep in a %% -2.3454983']\n",
      "16/06/2023 14:37:55 | [' sheep in a park %% -2.6733835']\n",
      "16/06/2023 14:37:58 | [' sheep in a park with %% -2.6042778']\n",
      "16/06/2023 14:38:00 | [' sheep in a park with a %% -2.7073576']\n",
      "16/06/2023 14:38:03 | [' sheep in a park with a blurry %% -2.8821301']\n",
      "16/06/2023 14:38:06 | [' sheep in a park with a blurry background %% -2.7512891']\n",
      "16/06/2023 14:38:08 | [' sheep in a park with a blurry background and %% -2.7403219']\n",
      "16/06/2023 14:38:11 | [' sheep in a park with a blurry background and a %% -2.806507']\n",
      "16/06/2023 14:38:14 | [' sheep in a park with a blurry background and a steep %% -2.917285']\n",
      "16/06/2023 14:38:17 | [' sheep in a park with a blurry background and a steeple %% -2.7645082']\n",
      "16/06/2023 14:38:19 | [' sheep in a park with a blurry background and a steeple. %% -2.73828']\n"
     ]
    },
    {
     "name": "stderr",
     "output_type": "stream",
     "text": [
      " 36%|███▌      | 36/100 [18:25<33:15, 31.18s/it] 36% |#########################                                               |\r"
     ]
    },
    {
     "name": "stdout",
     "output_type": "stream",
     "text": [
      "16/06/2023 14:38:22 | [' skate %% -2.1101928']\n",
      "16/06/2023 14:38:25 | [' skateboard %% -1.9138329']\n",
      "16/06/2023 14:38:27 | [' skateboarder %% -2.2344763']\n",
      "16/06/2023 14:38:30 | [' skateboarder in %% -2.395213']\n",
      "16/06/2023 14:38:33 | [' skateboarder in a %% -2.5142748']\n",
      "16/06/2023 14:38:36 | [' skateboarder in a costume %% -2.776242']\n",
      "16/06/2023 14:38:38 | [' skateboarder in a costume cutting %% -2.8748512']\n",
      "16/06/2023 14:38:41 | [' skateboarder in a costume cutting a %% -2.8487782']\n",
      "16/06/2023 14:38:44 | [' skateboarder in a costume cutting a man %% -2.861955']\n",
      "16/06/2023 14:38:46 | [\" skateboarder in a costume cutting a man's %% -2.916127\"]\n",
      "16/06/2023 14:38:49 | [\" skateboarder in a costume cutting a man's skate %% -2.9892175\"]\n",
      "16/06/2023 14:38:52 | [\" skateboarder in a costume cutting a man's skateboard %% -2.8565218\"]\n",
      "16/06/2023 14:38:54 | [\" skateboarder in a costume cutting a man's skateboard. %% -2.762025\"]\n"
     ]
    },
    {
     "name": "stderr",
     "output_type": "stream",
     "text": [
      " 37%|███▋      | 37/100 [19:00<33:55, 32.31s/it] 37% |##########################                                              |\r"
     ]
    },
    {
     "name": "stdout",
     "output_type": "stream",
     "text": [
      "16/06/2023 14:38:57 | [' courthouse %% -2.8627596']\n",
      "16/06/2023 14:39:00 | [' courthouse with %% -2.7915304']\n",
      "16/06/2023 14:39:02 | [' courthouse with a %% -2.6836061']\n",
      "16/06/2023 14:39:05 | [' courthouse with a sign %% -2.5943513']\n",
      "16/06/2023 14:39:08 | [' courthouse with a sign on %% -2.7281141']\n",
      "16/06/2023 14:39:10 | [' courthouse with a sign on the %% -2.6756027']\n",
      "16/06/2023 14:39:13 | [' courthouse with a sign on the front %% -2.7594972']\n",
      "16/06/2023 14:39:16 | [' courthouse with a sign on the front pointing %% -2.7311454']\n",
      "16/06/2023 14:39:19 | [' courthouse with a sign on the front pointing to %% -2.757417']\n",
      "16/06/2023 14:39:21 | [' courthouse with a sign on the front pointing to the %% -2.7665079']\n",
      "16/06/2023 14:39:24 | [' courthouse with a sign on the front pointing to the city %% -2.839597']\n",
      "16/06/2023 14:39:27 | [' courthouse with a sign on the front pointing to the city. %% -2.7917325']\n"
     ]
    },
    {
     "name": "stderr",
     "output_type": "stream",
     "text": [
      " 38%|███▊      | 38/100 [19:32<33:23, 32.31s/it] 38% |###########################                                             |\r"
     ]
    },
    {
     "name": "stdout",
     "output_type": "stream",
     "text": [
      "16/06/2023 14:39:29 | [' cattle %% -1.7328432']\n",
      "16/06/2023 14:39:32 | [' cattle crossing %% -2.751711']\n",
      "16/06/2023 14:39:35 | [' cattle crossing with %% -2.898288']\n",
      "16/06/2023 14:39:37 | [' cattle crossing with a %% -2.9293075']\n",
      "16/06/2023 14:39:40 | [' cattle crossing with a street %% -3.016026']\n",
      "16/06/2023 14:39:43 | [' cattle crossing with a street vendor %% -2.9663255']\n",
      "16/06/2023 14:39:46 | [' cattle crossing with a street vendor in %% -2.9793217']\n",
      "16/06/2023 14:39:48 | [' cattle crossing with a street vendor in the %% -2.923575']\n",
      "16/06/2023 14:39:51 | [' cattle crossing with a street vendor in the background %% -2.8800442']\n",
      "16/06/2023 14:39:54 | [' cattle crossing with a street vendor in the background. %% -2.778797']\n"
     ]
    },
    {
     "name": "stderr",
     "output_type": "stream",
     "text": [
      " 39%|███▉      | 39/100 [19:59<31:12, 30.69s/it] 39% |############################                                            |\r"
     ]
    },
    {
     "name": "stdout",
     "output_type": "stream",
     "text": [
      "16/06/2023 14:39:56 | [' cow %% -1.9143196']\n",
      "16/06/2023 14:39:59 | [' cow selling %% -2.4701402']\n",
      "16/06/2023 14:40:02 | [' cow selling food %% -2.8506887']\n",
      "16/06/2023 14:40:04 | [' cow selling food truck %% -2.8183165']\n",
      "16/06/2023 14:40:07 | [' cow selling food truck signs %% -2.7741628']\n",
      "16/06/2023 14:40:10 | [' cow selling food truck signs a %% -2.922475']\n",
      "16/06/2023 14:40:12 | [' cow selling food truck signs a man %% -2.9140973']\n",
      "16/06/2023 14:40:15 | [' cow selling food truck signs a manne %% -2.954953']\n",
      "16/06/2023 14:40:18 | [' cow selling food truck signs a mannequin %% -2.9146838']\n",
      "16/06/2023 14:40:20 | [' cow selling food truck signs a mannequin. %% -2.9163437']\n"
     ]
    },
    {
     "name": "stderr",
     "output_type": "stream",
     "text": [
      " 40%|████      | 40/100 [20:26<29:30, 29.50s/it] 40% |############################                                            |\r"
     ]
    },
    {
     "name": "stdout",
     "output_type": "stream",
     "text": [
      "16/06/2023 14:40:23 | [' banana %% -1.1621742']\n",
      "16/06/2023 14:40:26 | [' banana with %% -2.0851257']\n",
      "16/06/2023 14:40:28 | [' banana with a %% -2.2568166']\n",
      "16/06/2023 14:40:31 | [' banana with a dog %% -2.2247517']\n",
      "16/06/2023 14:40:34 | [' banana with a dog looking %% -2.425288']\n",
      "16/06/2023 14:40:36 | [' banana with a dog looking like %% -2.58192']\n",
      "16/06/2023 14:40:39 | [' banana with a dog looking like a %% -2.7966511']\n",
      "16/06/2023 14:40:42 | [' banana with a dog looking like a monster %% -2.9693274']\n",
      "16/06/2023 14:40:45 | [' banana with a dog looking like a monster. %% -2.8863642']\n"
     ]
    },
    {
     "name": "stderr",
     "output_type": "stream",
     "text": [
      " 41%|████      | 41/100 [20:50<27:26, 27.90s/it] 41% |#############################                                           |\r"
     ]
    },
    {
     "name": "stdout",
     "output_type": "stream",
     "text": [
      "16/06/2023 14:40:47 | [' cat %% -2.50888']\n",
      "16/06/2023 14:40:50 | [' cat looking %% -2.752811']\n",
      "16/06/2023 14:40:53 | [' cat looking at %% -2.7264855']\n",
      "16/06/2023 14:40:55 | [' cat looking at table %% -2.5476372']\n",
      "16/06/2023 14:40:58 | [' cat looking at table with %% -2.6517572']\n",
      "16/06/2023 14:41:01 | [' cat looking at table with a %% -2.7815123']\n",
      "16/06/2023 14:41:03 | [' cat looking at table with a large %% -2.9748874']\n",
      "16/06/2023 14:41:06 | [' cat looking at table with a large amount %% -3.1085126']\n",
      "16/06/2023 14:41:09 | [' cat looking at table with a large amount of %% -2.9853992']\n",
      "16/06/2023 14:41:11 | [' cat looking at table with a large amount of food %% -2.9928248']\n",
      "16/06/2023 14:41:14 | [' cat looking at table with a large amount of food on %% -2.9691224']\n",
      "16/06/2023 14:41:17 | [' cat looking at table with a large amount of food on a %% -2.9120696']\n",
      "16/06/2023 14:41:20 | [' cat looking at table with a large amount of food on a plate %% -2.9026515']\n",
      "16/06/2023 14:41:22 | [' cat looking at table with a large amount of food on a plate plate %% -2.8737605']\n",
      "16/06/2023 14:41:25 | [' cat looking at table with a large amount of food on a plate plate with %% -2.832951']\n",
      "16/06/2023 14:41:28 | [' cat looking at table with a large amount of food on a plate plate with a %% -2.8317657']\n"
     ]
    },
    {
     "name": "stderr",
     "output_type": "stream",
     "text": [
      " 42%|████▏     | 42/100 [21:33<31:25, 32.51s/it] 42% |##############################                                          |\r"
     ]
    },
    {
     "name": "stdout",
     "output_type": "stream",
     "text": [
      "16/06/2023 14:41:30 | [' rural %% -2.243709']\n",
      "16/06/2023 14:41:33 | [' rural area %% -2.6699896']\n",
      "16/06/2023 14:41:36 | [' rural area with %% -2.6017954']\n",
      "16/06/2023 14:41:38 | [' rural area with sheep %% -2.6709461']\n",
      "16/06/2023 14:41:41 | [' rural area with sheep and %% -2.6986961']\n",
      "16/06/2023 14:41:44 | [' rural area with sheep and elephants %% -2.7316434']\n",
      "16/06/2023 14:41:47 | [' rural area with sheep and elephants in %% -2.6879888']\n",
      "16/06/2023 14:41:49 | [' rural area with sheep and elephants in the %% -2.7471645']\n",
      "16/06/2023 14:41:52 | [' rural area with sheep and elephants in the middle %% -2.8356404']\n",
      "16/06/2023 14:41:55 | [' rural area with sheep and elephants in the middle. %% -2.7738361']\n"
     ]
    },
    {
     "name": "stderr",
     "output_type": "stream",
     "text": [
      " 43%|████▎     | 43/100 [22:00<29:15, 30.80s/it] 43% |##############################                                          |\r"
     ]
    },
    {
     "name": "stdout",
     "output_type": "stream",
     "text": [
      "16/06/2023 14:41:57 | [' cow %% -1.6888458']\n",
      "16/06/2023 14:42:00 | [' cow in %% -2.4340146']\n",
      "16/06/2023 14:42:03 | [' cow in a %% -2.5952132']\n",
      "16/06/2023 14:42:05 | [' cow in a hedge %% -2.6477993']\n",
      "16/06/2023 14:42:08 | [' cow in a hedge- %% -2.8442798']\n",
      "16/06/2023 14:42:11 | [' cow in a hedge- enclosure %% -3.1076174']\n",
      "16/06/2023 14:42:13 | [' cow in a hedge- enclosure with %% -3.0277698']\n",
      "16/06/2023 14:42:16 | [' cow in a hedge- enclosure with a %% -3.0726998']\n",
      "16/06/2023 14:42:19 | [' cow in a hedge- enclosure with a fence %% -3.2011647']\n",
      "16/06/2023 14:42:21 | [' cow in a hedge- enclosure with a fence and %% -3.2048137']\n",
      "16/06/2023 14:42:24 | [' cow in a hedge- enclosure with a fence and a %% -3.259785']\n",
      "16/06/2023 14:42:27 | [' cow in a hedge- enclosure with a fence and a small %% -3.3678458']\n",
      "16/06/2023 14:42:30 | [' cow in a hedge- enclosure with a fence and a small tree %% -3.4214888']\n",
      "16/06/2023 14:42:32 | [' cow in a hedge- enclosure with a fence and a small tree- %% -3.3751817']\n",
      "16/06/2023 14:42:35 | [' cow in a hedge- enclosure with a fence and a small tree-lined %% -3.360399']\n",
      "16/06/2023 14:42:38 | [' cow in a hedge- enclosure with a fence and a small tree-lined area %% -3.3892643']\n"
     ]
    },
    {
     "name": "stderr",
     "output_type": "stream",
     "text": [
      " 44%|████▍     | 44/100 [22:43<32:13, 34.52s/it] 44% |###############################                                         |\r"
     ]
    },
    {
     "name": "stdout",
     "output_type": "stream",
     "text": [
      "16/06/2023 14:42:40 | [' girl %% -3.4665363']\n",
      "16/06/2023 14:42:43 | [' girl in %% -3.1312115']\n",
      "16/06/2023 14:42:46 | [' girl in a %% -2.9919634']\n",
      "16/06/2023 14:42:48 | [' girl in a sl %% -2.7949877']\n",
      "16/06/2023 14:42:51 | [' girl in a sl black %% -2.8508039']\n",
      "16/06/2023 14:42:54 | [' girl in a sl black and %% -2.8973715']\n",
      "16/06/2023 14:42:57 | [' girl in a sl black and red %% -2.9190216']\n",
      "16/06/2023 14:42:59 | [' girl in a sl black and red hair %% -2.9519808']\n",
      "16/06/2023 14:43:02 | [' girl in a sl black and red hair. %% -2.9041739']\n"
     ]
    },
    {
     "name": "stderr",
     "output_type": "stream",
     "text": [
      " 45%|████▌     | 45/100 [23:07<28:47, 31.40s/it] 45% |################################                                        |\r"
     ]
    },
    {
     "name": "stdout",
     "output_type": "stream",
     "text": [
      "16/06/2023 14:43:05 | [' elephant %% -0.9438392']\n",
      "16/06/2023 14:43:07 | [' elephant exhibit %% -1.7500861']\n",
      "16/06/2023 14:43:10 | [' elephant exhibit in %% -2.2237206']\n",
      "16/06/2023 14:43:13 | [' elephant exhibit in a %% -2.3101664']\n",
      "16/06/2023 14:43:15 | [' elephant exhibit in a large %% -2.5654502']\n",
      "16/06/2023 14:43:18 | [' elephant exhibit in a large open %% -2.7899153']\n",
      "16/06/2023 14:43:21 | [' elephant exhibit in a large open area %% -2.7834818']\n",
      "16/06/2023 14:43:23 | [' elephant exhibit in a large open area area %% -2.7811475']\n",
      "16/06/2023 14:43:26 | [' elephant exhibit in a large open area area. %% -2.7281847']\n"
     ]
    },
    {
     "name": "stderr",
     "output_type": "stream",
     "text": [
      " 46%|████▌     | 46/100 [23:32<26:18, 29.22s/it] 46% |#################################                                       |\r"
     ]
    },
    {
     "name": "stdout",
     "output_type": "stream",
     "text": [
      "16/06/2023 14:43:29 | [' elephant %% -2.5234652']\n",
      "16/06/2023 14:43:31 | [' elephant with %% -2.8695922']\n",
      "16/06/2023 14:43:34 | [' elephant with a %% -3.0271742']\n",
      "16/06/2023 14:43:37 | [' elephant with a baby %% -3.2195463']\n",
      "16/06/2023 14:43:39 | [' elephant with a baby in %% -3.1737447']\n",
      "16/06/2023 14:43:42 | [' elephant with a baby in a %% -3.1047118']\n",
      "16/06/2023 14:43:45 | [' elephant with a baby in a f %% -3.207447']\n",
      "16/06/2023 14:43:47 | [' elephant with a baby in a fenced %% -3.1798232']\n",
      "16/06/2023 14:43:50 | [' elephant with a baby in a fenced area %% -3.14169']\n",
      "16/06/2023 14:43:53 | [' elephant with a baby in a fenced area. %% -3.040542']\n"
     ]
    },
    {
     "name": "stderr",
     "output_type": "stream",
     "text": [
      " 47%|████▋     | 47/100 [23:58<25:09, 28.49s/it] 47% |#################################                                       |\r"
     ]
    },
    {
     "name": "stdout",
     "output_type": "stream",
     "text": [
      "16/06/2023 14:43:56 | [' boat %% -1.8380424']\n",
      "16/06/2023 14:43:58 | [' boat with %% -2.2111964']\n",
      "16/06/2023 14:44:01 | [' boat with a %% -2.4670498']\n",
      "16/06/2023 14:44:04 | [' boat with a paddle %% -2.7395735']\n",
      "16/06/2023 14:44:06 | [' boat with a paddle in %% -2.8739753']\n",
      "16/06/2023 14:44:09 | [' boat with a paddle in the %% -2.849954']\n",
      "16/06/2023 14:44:12 | [' boat with a paddle in the water %% -2.7077825']\n",
      "16/06/2023 14:44:14 | [' boat with a paddle in the water and %% -2.7438488']\n",
      "16/06/2023 14:44:17 | [' boat with a paddle in the water and a %% -2.7415042']\n",
      "16/06/2023 14:44:20 | [' boat with a paddle in the water and a large %% -2.8660297']\n",
      "16/06/2023 14:44:22 | [' boat with a paddle in the water and a large amount %% -2.9570982']\n",
      "16/06/2023 14:44:25 | [' boat with a paddle in the water and a large amount of %% -2.8659203']\n",
      "16/06/2023 14:44:28 | [' boat with a paddle in the water and a large amount of small %% -2.922038']\n",
      "16/06/2023 14:44:31 | [' boat with a paddle in the water and a large amount of small boats %% -2.9187324']\n",
      "16/06/2023 14:44:33 | [' boat with a paddle in the water and a large amount of small boats in %% -2.8657994']\n",
      "16/06/2023 14:44:36 | [' boat with a paddle in the water and a large amount of small boats in the %% -2.829132']\n"
     ]
    },
    {
     "name": "stderr",
     "output_type": "stream",
     "text": [
      " 48%|████▊     | 48/100 [24:42<28:32, 32.94s/it] 48% |##################################                                      |\r"
     ]
    },
    {
     "name": "stdout",
     "output_type": "stream",
     "text": [
      "16/06/2023 14:44:39 | [' city %% -2.886713']\n",
      "16/06/2023 14:44:41 | [' city with %% -2.8785095']\n",
      "16/06/2023 14:44:44 | [' city with boats %% -2.7114933']\n",
      "16/06/2023 14:44:47 | [' city with boats and %% -2.7764304']\n",
      "16/06/2023 14:44:50 | [' city with boats and a %% -2.8321438']\n",
      "16/06/2023 14:44:52 | [' city with boats and a park %% -3.0039718']\n",
      "16/06/2023 14:44:55 | [' city with boats and a park in %% -2.991163']\n",
      "16/06/2023 14:44:58 | [' city with boats and a park in the %% -2.8321898']\n",
      "16/06/2023 14:45:00 | [' city with boats and a park in the background %% -2.8027666']\n",
      "16/06/2023 14:45:03 | [' city with boats and a park in the background. %% -2.6508744']\n"
     ]
    },
    {
     "name": "stderr",
     "output_type": "stream",
     "text": [
      " 49%|████▉     | 49/100 [25:08<26:25, 31.09s/it] 49% |###################################                                     |\r"
     ]
    },
    {
     "name": "stdout",
     "output_type": "stream",
     "text": [
      "16/06/2023 14:45:06 | [' elephant %% -1.5455844']\n",
      "16/06/2023 14:45:08 | [' elephant in %% -2.2833977']\n",
      "16/06/2023 14:45:11 | [' elephant in a %% -2.5701818']\n",
      "16/06/2023 14:45:14 | [' elephant in a habitat %% -2.8140068']\n",
      "16/06/2023 14:45:16 | [' elephant in a habitat area %% -2.7967036']\n",
      "16/06/2023 14:45:19 | [' elephant in a habitat area of %% -2.8314688']\n",
      "16/06/2023 14:45:22 | [' elephant in a habitat area of a %% -2.922127']\n",
      "16/06/2023 14:45:24 | [' elephant in a habitat area of a small %% -3.0172236']\n",
      "16/06/2023 14:45:27 | [' elephant in a habitat area of a small town %% -3.1196644']\n",
      "16/06/2023 14:45:30 | [' elephant in a habitat area of a small town area %% -3.1222425']\n",
      "16/06/2023 14:45:32 | [' elephant in a habitat area of a small town area. %% -2.9597588']\n"
     ]
    },
    {
     "name": "stderr",
     "output_type": "stream",
     "text": [
      " 50%|█████     | 50/100 [25:38<25:31, 30.62s/it] 50% |####################################                                    |\r"
     ]
    },
    {
     "name": "stdout",
     "output_type": "stream",
     "text": [
      "16/06/2023 14:45:35 | [' train %% -2.8400543']\n",
      "16/06/2023 14:45:38 | [' trainee %% -2.4710813']\n",
      "16/06/2023 14:45:40 | [' trainee traveling %% -2.500807']\n",
      "16/06/2023 14:45:43 | [' trainee traveling with %% -2.5097086']\n",
      "16/06/2023 14:45:46 | [' trainee traveling with family %% -2.52591']\n",
      "16/06/2023 14:45:48 | [' trainee traveling with family looking %% -2.7058105']\n",
      "16/06/2023 14:45:51 | [' trainee traveling with family looking happy %% -2.759655']\n",
      "16/06/2023 14:45:54 | [' trainee traveling with family looking happy and %% -2.8677914']\n",
      "16/06/2023 14:45:57 | [' trainee traveling with family looking happy and smiling %% -2.9056506']\n",
      "16/06/2023 14:45:59 | [' trainee traveling with family looking happy and smiling. %% -2.8728433']\n"
     ]
    },
    {
     "name": "stderr",
     "output_type": "stream",
     "text": [
      " 51%|█████     | 51/100 [26:05<24:03, 29.46s/it] 51% |####################################                                    |\r"
     ]
    },
    {
     "name": "stdout",
     "output_type": "stream",
     "text": [
      "16/06/2023 14:46:02 | [' vintage %% -2.8733332']\n",
      "16/06/2023 14:46:05 | [' vintage dress %% -2.976324']\n",
      "16/06/2023 14:46:07 | [' vintage dresser %% -2.8071575']\n",
      "16/06/2023 14:46:10 | [' vintage dresser scene %% -2.8019938']\n",
      "16/06/2023 14:46:13 | [' vintage dresser scene in %% -2.731533']\n",
      "16/06/2023 14:46:15 | [' vintage dresser scene in a %% -2.7414372']\n",
      "16/06/2023 14:46:18 | [' vintage dresser scene in a dress %% -2.6206048']\n",
      "16/06/2023 14:46:21 | [' vintage dresser scene in a dress shop %% -2.6825848']\n",
      "16/06/2023 14:46:23 | [' vintage dresser scene in a dress shop. %% -2.5860748']\n"
     ]
    },
    {
     "name": "stderr",
     "output_type": "stream",
     "text": [
      " 52%|█████▏    | 52/100 [26:29<22:16, 27.84s/it] 52% |#####################################                                   |\r"
     ]
    },
    {
     "name": "stdout",
     "output_type": "stream",
     "text": [
      "16/06/2023 14:46:26 | [' young %% -3.6555104']\n",
      "16/06/2023 14:46:29 | [' young woman %% -3.528091']\n",
      "16/06/2023 14:46:31 | [' young woman in %% -3.4155455']\n",
      "16/06/2023 14:46:34 | [' young woman in winter %% -3.3928504']\n",
      "16/06/2023 14:46:37 | [' young woman in winter setting %% -3.402']\n",
      "16/06/2023 14:46:39 | [' young woman in winter setting with %% -3.2687056']\n",
      "16/06/2023 14:46:42 | [' young woman in winter setting with a %% -3.2623017']\n",
      "16/06/2023 14:46:45 | [' young woman in winter setting with a pair %% -3.3450549']\n",
      "16/06/2023 14:46:47 | [' young woman in winter setting with a pair of %% -3.1263628']\n",
      "16/06/2023 14:46:50 | [' young woman in winter setting with a pair of sk %% -3.1821551']\n",
      "16/06/2023 14:46:53 | [' young woman in winter setting with a pair of skis %% -2.924697']\n",
      "16/06/2023 14:46:55 | [' young woman in winter setting with a pair of skisis %% -2.954545']\n",
      "16/06/2023 14:46:58 | [' young woman in winter setting with a pair of skisis in %% -2.934105']\n",
      "16/06/2023 14:47:01 | [' young woman in winter setting with a pair of skisis inked %% -2.839577']\n",
      "16/06/2023 14:47:04 | [' young woman in winter setting with a pair of skisis inked. %% -2.8103318']\n"
     ]
    },
    {
     "name": "stderr",
     "output_type": "stream",
     "text": [
      " 53%|█████▎    | 53/100 [27:09<24:46, 31.62s/it] 53% |######################################                                  |\r"
     ]
    },
    {
     "name": "stdout",
     "output_type": "stream",
     "text": [
      "16/06/2023 14:47:06 | [' child %% -1.2656116']\n",
      "16/06/2023 14:47:09 | [' child sitting %% -1.9507037']\n",
      "16/06/2023 14:47:12 | [' child sitting in %% -1.9735956']\n",
      "16/06/2023 14:47:14 | [' child sitting in a %% -2.1286669']\n",
      "16/06/2023 14:47:17 | [' child sitting in a small %% -2.415283']\n",
      "16/06/2023 14:47:20 | [' child sitting in a small holding %% -2.6765954']\n",
      "16/06/2023 14:47:22 | [' child sitting in a small holding case %% -2.7050693']\n",
      "16/06/2023 14:47:25 | [' child sitting in a small holding case with %% -2.634741']\n",
      "16/06/2023 14:47:28 | [' child sitting in a small holding case with a %% -2.654555']\n",
      "16/06/2023 14:47:31 | [' child sitting in a small holding case with a small %% -2.7768254']\n",
      "16/06/2023 14:47:33 | [' child sitting in a small holding case with a small hole %% -2.8829913']\n",
      "16/06/2023 14:47:36 | [' child sitting in a small holding case with a small hole in %% -2.7843049']\n",
      "16/06/2023 14:47:39 | [' child sitting in a small holding case with a small hole in the %% -2.7756464']\n",
      "16/06/2023 14:47:42 | [' child sitting in a small holding case with a small hole in the back %% -2.8188522']\n",
      "16/06/2023 14:47:44 | [' child sitting in a small holding case with a small hole in the back. %% -2.81239']\n"
     ]
    },
    {
     "name": "stderr",
     "output_type": "stream",
     "text": [
      " 54%|█████▍    | 54/100 [27:50<26:18, 34.32s/it] 54% |######################################                                  |\r"
     ]
    },
    {
     "name": "stdout",
     "output_type": "stream",
     "text": [
      "16/06/2023 14:47:47 | [' beach %% -3.026024']\n",
      "16/06/2023 14:47:50 | [' beach pool %% -2.846044']\n",
      "16/06/2023 14:47:52 | [' beach pool dog %% -2.5179818']\n",
      "16/06/2023 14:47:55 | [' beach pool dog in %% -2.6548748']\n",
      "16/06/2023 14:47:58 | [' beach pool dog in a %% -2.7635918']\n",
      "16/06/2023 14:48:00 | [' beach pool dog in a residential %% -2.9341955']\n",
      "16/06/2023 14:48:03 | [' beach pool dog in a residential area %% -2.7676811']\n",
      "16/06/2023 14:48:06 | [' beach pool dog in a residential area. %% -2.7130594']\n"
     ]
    },
    {
     "name": "stderr",
     "output_type": "stream",
     "text": [
      " 55%|█████▌    | 55/100 [28:11<22:51, 30.47s/it] 55% |#######################################                                 |\r"
     ]
    },
    {
     "name": "stdout",
     "output_type": "stream",
     "text": [
      "16/06/2023 14:48:08 | [' city %% -3.3453977']\n",
      "16/06/2023 14:48:11 | [' city street %% -3.0915003']\n",
      "16/06/2023 14:48:14 | [' city street couple %% -2.582473']\n",
      "16/06/2023 14:48:17 | [' city street couple of %% -2.6234949']\n",
      "16/06/2023 14:48:19 | [' city street couple of rainy %% -2.6465278']\n",
      "16/06/2023 14:48:22 | [' city street couple of rainy clothes %% -2.8517392']\n",
      "16/06/2023 14:48:25 | [' city street couple of rainy clothesp %% -2.917709']\n",
      "16/06/2023 14:48:27 | [' city street couple of rainy clothespans %% -3.0866964']\n",
      "16/06/2023 14:48:30 | [' city street couple of rainy clothespans. %% -3.135616']\n"
     ]
    },
    {
     "name": "stderr",
     "output_type": "stream",
     "text": [
      " 56%|█████▌    | 56/100 [28:36<20:57, 28.58s/it] 56% |########################################                                |\r"
     ]
    },
    {
     "name": "stdout",
     "output_type": "stream",
     "text": [
      "16/06/2023 14:48:33 | [' meal %% -2.6143107']\n",
      "16/06/2023 14:48:35 | [' meal on %% -2.8496375']\n",
      "16/06/2023 14:48:38 | [' meal on a %% -2.5285423']\n",
      "16/06/2023 14:48:41 | [' meal on a dog %% -2.6251783']\n",
      "16/06/2023 14:48:43 | [' meal on a dog with %% -2.6141982']\n",
      "16/06/2023 14:48:46 | [' meal on a dog with a %% -2.6413472']\n",
      "16/06/2023 14:48:49 | [' meal on a dog with a green %% -2.7048714']\n",
      "16/06/2023 14:48:51 | [' meal on a dog with a green apple %% -2.8066142']\n",
      "16/06/2023 14:48:54 | [' meal on a dog with a green apple in %% -2.740074']\n",
      "16/06/2023 14:48:57 | [' meal on a dog with a green apple in a %% -2.7078671']\n",
      "16/06/2023 14:48:59 | [' meal on a dog with a green apple in a bowl %% -2.7887895']\n",
      "16/06/2023 14:49:02 | [' meal on a dog with a green apple in a bowl of %% -2.763631']\n",
      "16/06/2023 14:49:05 | [' meal on a dog with a green apple in a bowl of a %% -2.8395555']\n",
      "16/06/2023 14:49:08 | [' meal on a dog with a green apple in a bowl of a kitchen %% -2.839423']\n",
      "16/06/2023 14:49:10 | [' meal on a dog with a green apple in a bowl of a kitchen. %% -2.769862']\n"
     ]
    },
    {
     "name": "stderr",
     "output_type": "stream",
     "text": [
      " 57%|█████▋    | 57/100 [29:16<23:01, 32.13s/it] 57% |#########################################                               |\r"
     ]
    },
    {
     "name": "stdout",
     "output_type": "stream",
     "text": [
      "16/06/2023 14:49:13 | [' beach %% -2.418716']\n",
      "16/06/2023 14:49:16 | [' beach runner %% -1.5204434']\n",
      "16/06/2023 14:49:18 | [' beach runner with %% -2.0234497']\n",
      "16/06/2023 14:49:21 | [' beach runner with a %% -2.249059']\n",
      "16/06/2023 14:49:24 | [' beach runner with a large %% -2.5877657']\n",
      "16/06/2023 14:49:26 | [' beach runner with a large body %% -2.7905235']\n",
      "16/06/2023 14:49:29 | [' beach runner with a large body of %% -2.749307']\n",
      "16/06/2023 14:49:32 | [' beach runner with a large body of water %% -2.5766406']\n",
      "16/06/2023 14:49:34 | [' beach runner with a large body of water. %% -2.5035505']\n"
     ]
    },
    {
     "name": "stderr",
     "output_type": "stream",
     "text": [
      " 58%|█████▊    | 58/100 [29:40<20:48, 29.72s/it] 58% |#########################################                               |\r"
     ]
    },
    {
     "name": "stdout",
     "output_type": "stream",
     "text": [
      "16/06/2023 14:49:37 | [' road %% -2.286011']\n",
      "16/06/2023 14:49:40 | [' road with %% -2.2315288']\n",
      "16/06/2023 14:49:42 | [' road with dog %% -2.1404116']\n",
      "16/06/2023 14:49:45 | [' road with dog and %% -2.5405343']\n",
      "16/06/2023 14:49:48 | [' road with dog and toddler %% -2.7066143']\n",
      "16/06/2023 14:49:51 | [' road with dog and toddler in %% -2.7540433']\n",
      "16/06/2023 14:49:53 | [' road with dog and toddler in the %% -2.7635536']\n",
      "16/06/2023 14:49:56 | [' road with dog and toddler in the canyon %% -2.700363']\n",
      "16/06/2023 14:49:59 | [' road with dog and toddler in the canyon. %% -2.773637']\n"
     ]
    },
    {
     "name": "stderr",
     "output_type": "stream",
     "text": [
      " 59%|█████▉    | 59/100 [30:04<19:08, 28.02s/it] 59% |##########################################                              |\r"
     ]
    },
    {
     "name": "stdout",
     "output_type": "stream",
     "text": [
      "16/06/2023 14:50:01 | [' gir %% -2.7567427']\n",
      "16/06/2023 14:50:04 | [' giraffe %% -2.6118398']\n",
      "16/06/2023 14:50:06 | [' giraffe standing %% -2.854102']\n",
      "16/06/2023 14:50:09 | [' giraffe standing in %% -2.6461358']\n",
      "16/06/2023 14:50:12 | [' giraffe standing in a %% -2.6213577']\n",
      "16/06/2023 14:50:15 | [' giraffe standing in a f %% -2.8027265']\n",
      "16/06/2023 14:50:17 | [' giraffe standing in a fenced %% -2.8172238']\n",
      "16/06/2023 14:50:20 | [' giraffe standing in a fenced area %% -2.7794836']\n",
      "16/06/2023 14:50:23 | [' giraffe standing in a fenced area with %% -2.732098']\n",
      "16/06/2023 14:50:25 | [' giraffe standing in a fenced area with a %% -2.7750697']\n",
      "16/06/2023 14:50:28 | [' giraffe standing in a fenced area with a tree %% -2.8787344']\n",
      "16/06/2023 14:50:31 | [' giraffe standing in a fenced area with a tree and %% -2.9199889']\n",
      "16/06/2023 14:50:33 | [' giraffe standing in a fenced area with a tree and a %% -2.9761996']\n",
      "16/06/2023 14:50:36 | [' giraffe standing in a fenced area with a tree and a gir %% -3.0720658']\n",
      "16/06/2023 14:50:39 | [' giraffe standing in a fenced area with a tree and a gir. %% -3.1149988']\n"
     ]
    },
    {
     "name": "stderr",
     "output_type": "stream",
     "text": [
      " 60%|██████    | 60/100 [30:44<21:08, 31.71s/it] 60% |###########################################                             |\r"
     ]
    },
    {
     "name": "stdout",
     "output_type": "stream",
     "text": [
      "16/06/2023 14:50:42 | [' gir %% -2.4879358']\n",
      "16/06/2023 14:50:44 | [' giraffe %% -1.3418102']\n",
      "16/06/2023 14:50:47 | [' giraffe in %% -1.9766494']\n",
      "16/06/2023 14:50:50 | [' giraffe in a %% -2.1564584']\n",
      "16/06/2023 14:50:52 | [' giraffe in a striped %% -2.3668716']\n",
      "16/06/2023 14:50:55 | [' giraffe in a striped striped %% -2.492816']\n",
      "16/06/2023 14:50:58 | [' giraffe in a striped striped shirt %% -2.5802474']\n",
      "16/06/2023 14:51:00 | [' giraffe in a striped striped shirt with %% -2.640327']\n",
      "16/06/2023 14:51:03 | [' giraffe in a striped striped shirt with a %% -2.6809025']\n",
      "16/06/2023 14:51:06 | [' giraffe in a striped striped shirt with a black %% -2.7765431']\n",
      "16/06/2023 14:51:08 | [' giraffe in a striped striped shirt with a black head %% -2.8831408']\n",
      "16/06/2023 14:51:11 | [' giraffe in a striped striped shirt with a black headdress %% -2.9341738']\n",
      "16/06/2023 14:51:14 | [' giraffe in a striped striped shirt with a black headdress. %% -2.9560907']\n"
     ]
    },
    {
     "name": "stderr",
     "output_type": "stream",
     "text": [
      " 61%|██████    | 61/100 [31:19<21:14, 32.69s/it] 61% |###########################################                             |\r"
     ]
    },
    {
     "name": "stdout",
     "output_type": "stream",
     "text": [
      "16/06/2023 14:51:17 | [' herd %% -0.53680944']\n",
      "16/06/2023 14:51:19 | [' herd of %% -0.9511385']\n",
      "16/06/2023 14:51:22 | [' herd of wild %% -1.7217509']\n",
      "16/06/2023 14:51:25 | [' herd of wilde %% -2.0667124']\n",
      "16/06/2023 14:51:27 | [' herd of wildebe %% -2.1509144']\n",
      "16/06/2023 14:51:30 | [' herd of wildebe in %% -2.3003495']\n",
      "16/06/2023 14:51:33 | [' herd of wildebe in a %% -2.4422963']\n",
      "16/06/2023 14:51:35 | [' herd of wildebe in a large %% -2.612697']\n",
      "16/06/2023 14:51:38 | [' herd of wildebe in a large open %% -2.6570327']\n",
      "16/06/2023 14:51:41 | [' herd of wildebe in a large open area %% -2.6684852']\n",
      "16/06/2023 14:51:43 | [' herd of wildebe in a large open area area %% -2.7158492']\n",
      "16/06/2023 14:51:46 | [' herd of wildebe in a large open area area. %% -2.6822727']\n"
     ]
    },
    {
     "name": "stderr",
     "output_type": "stream",
     "text": [
      " 62%|██████▏   | 62/100 [31:51<20:35, 32.51s/it] 62% |############################################                            |\r"
     ]
    },
    {
     "name": "stdout",
     "output_type": "stream",
     "text": [
      "16/06/2023 14:51:49 | [' herd %% -1.3571329']\n",
      "16/06/2023 14:51:51 | [' herd of %% -1.4728849']\n",
      "16/06/2023 14:51:54 | [' herd of z %% -2.087177']\n",
      "16/06/2023 14:51:57 | [' herd of zebra %% -1.6087621']\n",
      "16/06/2023 14:51:59 | [' herd of zebra in %% -1.8645966']\n",
      "16/06/2023 14:52:02 | [' herd of zebra in a %% -2.0482152']\n",
      "16/06/2023 14:52:05 | [' herd of zebra in a f %% -2.2729049']\n",
      "16/06/2023 14:52:07 | [' herd of zebra in a fenced %% -2.377137']\n",
      "16/06/2023 14:52:10 | [' herd of zebra in a fenced area %% -2.3729706']\n",
      "16/06/2023 14:52:13 | [' herd of zebra in a fenced area with %% -2.3586156']\n",
      "16/06/2023 14:52:15 | [' herd of zebra in a fenced area with a %% -2.4779336']\n",
      "16/06/2023 14:52:18 | [' herd of zebra in a fenced area with a man %% -2.5919201']\n",
      "16/06/2023 14:52:21 | [' herd of zebra in a fenced area with a man in %% -2.6252675']\n",
      "16/06/2023 14:52:23 | [' herd of zebra in a fenced area with a man in a %% -2.6354408']\n",
      "16/06/2023 14:52:26 | [' herd of zebra in a fenced area with a man in a field %% -2.6977766']\n",
      "16/06/2023 14:52:29 | [' herd of zebra in a fenced area with a man in a field. %% -2.6392276']\n"
     ]
    },
    {
     "name": "stderr",
     "output_type": "stream",
     "text": [
      " 63%|██████▎   | 63/100 [32:34<21:59, 35.65s/it] 63% |#############################################                           |\r"
     ]
    },
    {
     "name": "stdout",
     "output_type": "stream",
     "text": [
      "16/06/2023 14:52:32 | [' horse %% -1.6338226']\n",
      "16/06/2023 14:52:34 | [' horse model %% -1.8310189']\n",
      "16/06/2023 14:52:37 | [' horse model show %% -2.208498']\n",
      "16/06/2023 14:52:40 | [' horse model show in %% -2.313286']\n",
      "16/06/2023 14:52:42 | [' horse model show in a %% -2.476408']\n",
      "16/06/2023 14:52:45 | [' horse model show in a large %% -2.7659285']\n",
      "16/06/2023 14:52:48 | [' horse model show in a large group %% -2.8846257']\n",
      "16/06/2023 14:52:50 | [' horse model show in a large group of %% -2.9029696']\n",
      "16/06/2023 14:52:53 | [' horse model show in a large group of different %% -3.0203905']\n",
      "16/06/2023 14:52:56 | [' horse model show in a large group of different colors %% -3.0474658']\n",
      "16/06/2023 14:52:58 | [' horse model show in a large group of different colors and %% -2.9995024']\n",
      "16/06/2023 14:53:01 | [' horse model show in a large group of different colors and sizes %% -2.969803']\n",
      "16/06/2023 14:53:04 | [' horse model show in a large group of different colors and sizes. %% -2.8846514']\n"
     ]
    },
    {
     "name": "stderr",
     "output_type": "stream",
     "text": [
      " 64%|██████▍   | 64/100 [33:09<21:16, 35.45s/it] 64% |##############################################                          |\r"
     ]
    },
    {
     "name": "stdout",
     "output_type": "stream",
     "text": [
      "16/06/2023 14:53:07 | [' horse %% -1.4497864']\n",
      "16/06/2023 14:53:09 | [' horse being %% -2.2487237']\n",
      "16/06/2023 14:53:12 | [' horse being observed %% -2.5194757']\n",
      "16/06/2023 14:53:15 | [' horse being observed by %% -2.47091']\n",
      "16/06/2023 14:53:17 | [' horse being observed by a %% -2.402926']\n",
      "16/06/2023 14:53:20 | [' horse being observed by a camera %% -2.4594538']\n",
      "16/06/2023 14:53:23 | [' horse being observed by a camera person %% -2.566065']\n",
      "16/06/2023 14:53:25 | [' horse being observed by a camera person in %% -2.56747']\n",
      "16/06/2023 14:53:28 | [' horse being observed by a camera person in a %% -2.5329475']\n",
      "16/06/2023 14:53:31 | [' horse being observed by a camera person in a house %% -2.6445348']\n",
      "16/06/2023 14:53:33 | [' horse being observed by a camera person in a house. %% -2.727296']\n"
     ]
    },
    {
     "name": "stderr",
     "output_type": "stream",
     "text": [
      " 65%|██████▌   | 65/100 [33:39<19:39, 33.69s/it] 65% |##############################################                          |\r"
     ]
    },
    {
     "name": "stdout",
     "output_type": "stream",
     "text": [
      "16/06/2023 14:53:36 | [' baseball %% -3.0397322']\n",
      "16/06/2023 14:53:39 | [' baseball player %% -2.6879487']\n",
      "16/06/2023 14:53:41 | [' baseball player riding %% -2.5584555']\n",
      "16/06/2023 14:53:44 | [' baseball player riding a %% -2.3673291']\n",
      "16/06/2023 14:53:47 | [' baseball player riding a horse %% -2.3500805']\n",
      "16/06/2023 14:53:50 | [' baseball player riding a horse show %% -2.3656337']\n",
      "16/06/2023 14:53:52 | [' baseball player riding a horse show. %% -2.4357364']\n"
     ]
    },
    {
     "name": "stderr",
     "output_type": "stream",
     "text": [
      " 66%|██████▌   | 66/100 [33:58<16:32, 29.21s/it] 66% |###############################################                         |\r"
     ]
    },
    {
     "name": "stdout",
     "output_type": "stream",
     "text": [
      "16/06/2023 14:53:55 | [' scene %% -3.4950795']\n",
      "16/06/2023 14:53:58 | [' scene from %% -3.1794982']\n",
      "16/06/2023 14:54:00 | [' scene from the %% -3.0150177']\n",
      "16/06/2023 14:54:03 | [' scene from the movie %% -3.0913591']\n",
      "16/06/2023 14:54:06 | [' scene from the movie The %% -3.04856']\n",
      "16/06/2023 14:54:08 | [' scene from the movie The Legend %% -3.1398497']\n",
      "16/06/2023 14:54:11 | [' scene from the movie The Legend of %% -3.0355809']\n",
      "16/06/2023 14:54:14 | [' scene from the movie The Legend of Korra %% -3.0844598']\n",
      "16/06/2023 14:54:16 | [' scene from the movie The Legend of Korra. %% -2.8881755']\n"
     ]
    },
    {
     "name": "stderr",
     "output_type": "stream",
     "text": [
      " 67%|██████▋   | 67/100 [34:22<15:13, 27.69s/it] 67% |################################################                        |\r"
     ]
    },
    {
     "name": "stdout",
     "output_type": "stream",
     "text": [
      "16/06/2023 14:54:19 | [' breakfast %% -3.1379197']\n",
      "16/06/2023 14:54:22 | [' breakfast of %% -3.2021875']\n",
      "16/06/2023 14:54:24 | [' breakfast of fresh %% -3.3329163']\n",
      "16/06/2023 14:54:27 | [' breakfast of fresh fruit %% -3.101647']\n",
      "16/06/2023 14:54:30 | [' breakfast of fresh fruit and %% -2.9918208']\n",
      "16/06/2023 14:54:32 | [' breakfast of fresh fruit and a %% -3.0347974']\n",
      "16/06/2023 14:54:35 | [' breakfast of fresh fruit and a small %% -3.1508024']\n",
      "16/06/2023 14:54:38 | [' breakfast of fresh fruit and a small plane %% -3.059526']\n",
      "16/06/2023 14:54:40 | [' breakfast of fresh fruit and a small plane. %% -3.1045704']\n"
     ]
    },
    {
     "name": "stderr",
     "output_type": "stream",
     "text": [
      " 68%|██████▊   | 68/100 [34:46<14:09, 26.56s/it] 68% |################################################                        |\r"
     ]
    },
    {
     "name": "stdout",
     "output_type": "stream",
     "text": [
      "16/06/2023 14:54:43 | [' baseball %% -2.6655195']\n",
      "16/06/2023 14:54:46 | [' baseball practice %% -2.4370694']\n",
      "16/06/2023 14:54:48 | [' baseball practice with %% -2.8093357']\n",
      "16/06/2023 14:54:51 | [' baseball practice with a %% -2.837738']\n",
      "16/06/2023 14:54:53 | [' baseball practice with a player %% -2.9782512']\n",
      "16/06/2023 14:54:56 | [' baseball practice with a player in %% -3.0482943']\n",
      "16/06/2023 14:54:59 | [' baseball practice with a player in a %% -3.0586867']\n",
      "16/06/2023 14:55:01 | [' baseball practice with a player in a red %% -3.1353257']\n",
      "16/06/2023 14:55:04 | [' baseball practice with a player in a red and %% -3.1392298']\n",
      "16/06/2023 14:55:07 | [' baseball practice with a player in a red and white %% -3.0472019']\n",
      "16/06/2023 14:55:09 | [' baseball practice with a player in a red and white uniform %% -3.0798864']\n",
      "16/06/2023 14:55:12 | [' baseball practice with a player in a red and white uniformed %% -2.9211304']\n",
      "16/06/2023 14:55:15 | [' baseball practice with a player in a red and white uniformed fans %% -2.9379103']\n",
      "16/06/2023 14:55:17 | [' baseball practice with a player in a red and white uniformed fans. %% -2.9598846']\n"
     ]
    },
    {
     "name": "stderr",
     "output_type": "stream",
     "text": [
      " 69%|██████▉   | 69/100 [35:23<15:20, 29.69s/it] 69% |#################################################                       |\r"
     ]
    },
    {
     "name": "stdout",
     "output_type": "stream",
     "text": [
      "16/06/2023 14:55:20 | [' Mexican %% -3.4685066']\n",
      "16/06/2023 14:55:23 | [' Mexican tourist %% -2.7613208']\n",
      "16/06/2023 14:55:25 | [' Mexican tourist with %% -2.8301556']\n",
      "16/06/2023 14:55:28 | [' Mexican tourist with a %% -2.6905553']\n",
      "16/06/2023 14:55:30 | [' Mexican tourist with a banana %% -2.7299533']\n",
      "16/06/2023 14:55:33 | [' Mexican tourist with a banana wig %% -2.5558965']\n",
      "16/06/2023 14:55:36 | [' Mexican tourist with a banana wig on %% -2.5220897']\n",
      "16/06/2023 14:55:38 | [' Mexican tourist with a banana wig on a %% -2.5319297']\n",
      "16/06/2023 14:55:41 | [' Mexican tourist with a banana wig on a tourist %% -2.7258053']\n",
      "16/06/2023 14:55:44 | [' Mexican tourist with a banana wig on a tourist outfit %% -2.857679']\n",
      "16/06/2023 14:55:47 | [' Mexican tourist with a banana wig on a tourist outfit. %% -2.7883193']\n"
     ]
    },
    {
     "name": "stderr",
     "output_type": "stream",
     "text": [
      " 70%|███████   | 70/100 [35:52<14:46, 29.54s/it] 70% |##################################################                      |\r"
     ]
    },
    {
     "name": "stdout",
     "output_type": "stream",
     "text": [
      "16/06/2023 14:55:49 | [' young %% -3.3279488']\n",
      "16/06/2023 14:55:52 | [' young performer %% -2.3979685']\n",
      "16/06/2023 14:55:54 | [' young performer in %% -2.7212334']\n",
      "16/06/2023 14:55:57 | [' young performer in costume %% -2.587059']\n",
      "16/06/2023 14:56:00 | [' young performer in costume with %% -2.7407932']\n",
      "16/06/2023 14:56:02 | [' young performer in costume with a %% -2.841957']\n",
      "16/06/2023 14:56:05 | [' young performer in costume with a smile %% -2.936325']\n",
      "16/06/2023 14:56:08 | [' young performer in costume with a smile on %% -2.9269733']\n",
      "16/06/2023 14:56:10 | [' young performer in costume with a smile on his %% -2.8543534']\n",
      "16/06/2023 14:56:13 | [' young performer in costume with a smile on his face %% -2.6192014']\n",
      "16/06/2023 14:56:16 | [' young performer in costume with a smile on his face mask %% -2.6156356']\n",
      "16/06/2023 14:56:18 | [' young performer in costume with a smile on his face maska %% -2.6268842']\n",
      "16/06/2023 14:56:21 | [' young performer in costume with a smile on his face maska red %% -2.7289667']\n",
      "16/06/2023 14:56:24 | [' young performer in costume with a smile on his face maska red and %% -2.7868278']\n",
      "16/06/2023 14:56:26 | [' young performer in costume with a smile on his face maska red and a %% -2.8297524']\n",
      "16/06/2023 14:56:29 | [' young performer in costume with a smile on his face maska red and a smile %% -2.8636565']\n"
     ]
    },
    {
     "name": "stderr",
     "output_type": "stream",
     "text": [
      " 71%|███████   | 71/100 [36:34<16:08, 33.39s/it] 71% |###################################################                     |\r"
     ]
    },
    {
     "name": "stdout",
     "output_type": "stream",
     "text": [
      "16/06/2023 14:56:32 | [' pitcher %% -1.0951922']\n",
      "16/06/2023 14:56:34 | [' pitcher swinging %% -2.2354538']\n",
      "16/06/2023 14:56:37 | [' pitcher swinging a %% -2.5478103']\n",
      "16/06/2023 14:56:39 | [' pitcher swinging a baseball %% -2.7068677']\n",
      "16/06/2023 14:56:42 | [' pitcher swinging a baseball on %% -2.6992984']\n",
      "16/06/2023 14:56:45 | [' pitcher swinging a baseball on a %% -2.6343365']\n",
      "16/06/2023 14:56:47 | [' pitcher swinging a baseball on a mound %% -2.777127']\n",
      "16/06/2023 14:56:50 | [' pitcher swinging a baseball on a mound with %% -2.70739']\n",
      "16/06/2023 14:56:53 | [' pitcher swinging a baseball on a mound with a %% -2.6735146']\n",
      "16/06/2023 14:56:55 | [' pitcher swinging a baseball on a mound with a smile %% -2.7645278']\n",
      "16/06/2023 14:56:58 | [' pitcher swinging a baseball on a mound with a smile on %% -2.763939']\n",
      "16/06/2023 14:57:01 | [' pitcher swinging a baseball on a mound with a smile on his %% -2.6815193']\n",
      "16/06/2023 14:57:03 | [' pitcher swinging a baseball on a mound with a smile on his face %% -2.5642653']\n",
      "16/06/2023 14:57:06 | [' pitcher swinging a baseball on a mound with a smile on his face. %% -2.4670625']\n"
     ]
    },
    {
     "name": "stderr",
     "output_type": "stream",
     "text": [
      " 72%|███████▏  | 72/100 [37:12<16:07, 34.55s/it] 72% |###################################################                     |\r"
     ]
    },
    {
     "name": "stdout",
     "output_type": "stream",
     "text": [
      "16/06/2023 14:57:09 | [' meal %% -1.4163878']\n",
      "16/06/2023 14:57:11 | [' meal with %% -1.9633787']\n",
      "16/06/2023 14:57:14 | [' meal with a %% -2.3625164']\n",
      "16/06/2023 14:57:17 | [' meal with a variety %% -2.4824018']\n",
      "16/06/2023 14:57:19 | [' meal with a variety of %% -2.3926415']\n",
      "16/06/2023 14:57:22 | [' meal with a variety of different %% -2.5980158']\n",
      "16/06/2023 14:57:25 | [' meal with a variety of different types %% -2.6319122']\n",
      "16/06/2023 14:57:27 | [' meal with a variety of different types of %% -2.5086412']\n",
      "16/06/2023 14:57:30 | [' meal with a variety of different types of past %% -2.6205516']\n",
      "16/06/2023 14:57:33 | [' meal with a variety of different types of pastries %% -2.47924']\n",
      "16/06/2023 14:57:35 | [' meal with a variety of different types of pastries. %% -2.5081365']\n"
     ]
    },
    {
     "name": "stderr",
     "output_type": "stream",
     "text": [
      " 73%|███████▎  | 73/100 [37:41<14:48, 32.91s/it] 73% |####################################################                    |\r"
     ]
    },
    {
     "name": "stdout",
     "output_type": "stream",
     "text": [
      "16/06/2023 14:57:38 | [' skiing %% -1.1564622']\n",
      "16/06/2023 14:57:41 | [' skiing lesson %% -1.0190545']\n",
      "16/06/2023 14:57:43 | [' skiing lesson with %% -1.8473717']\n",
      "16/06/2023 14:57:46 | [' skiing lesson with a %% -2.0852408']\n",
      "16/06/2023 14:57:48 | [' skiing lesson with a child %% -2.2282724']\n",
      "16/06/2023 14:57:51 | [' skiing lesson with a child in %% -2.4024994']\n",
      "16/06/2023 14:57:54 | [' skiing lesson with a child in the %% -2.5315661']\n",
      "16/06/2023 14:57:56 | [' skiing lesson with a child in the snow %% -2.6658528']\n",
      "16/06/2023 14:57:59 | [' skiing lesson with a child in the snow. %% -2.5196643']\n"
     ]
    },
    {
     "name": "stderr",
     "output_type": "stream",
     "text": [
      " 74%|███████▍  | 74/100 [38:05<13:04, 30.17s/it] 74% |#####################################################                   |\r"
     ]
    },
    {
     "name": "stdout",
     "output_type": "stream",
     "text": [
      "16/06/2023 14:58:02 | [' dessert %% -3.2782872']\n",
      "16/06/2023 14:58:04 | [' dessert being %% -3.0701337']\n",
      "16/06/2023 14:58:07 | [' dessert being collected %% -3.074688']\n",
      "16/06/2023 14:58:09 | [' dessert being collected in %% -2.7880447']\n",
      "16/06/2023 14:58:12 | [' dessert being collected in a %% -2.7439473']\n",
      "16/06/2023 14:58:15 | [' dessert being collected in a child %% -2.549321']\n",
      "16/06/2023 14:58:17 | [\" dessert being collected in a child's %% -2.539442\"]\n",
      "16/06/2023 14:58:20 | [\" dessert being collected in a child's kitchen %% -2.674971\"]\n",
      "16/06/2023 14:58:23 | [\" dessert being collected in a child's kitchen. %% -2.7187107\"]\n"
     ]
    },
    {
     "name": "stderr",
     "output_type": "stream",
     "text": [
      " 75%|███████▌  | 75/100 [38:28<11:46, 28.24s/it] 75% |######################################################                  |\r"
     ]
    },
    {
     "name": "stdout",
     "output_type": "stream",
     "text": [
      "16/06/2023 14:58:25 | [' pedestrian %% -2.0137026']\n",
      "16/06/2023 14:58:28 | [' pedestrian with %% -2.5561242']\n",
      "16/06/2023 14:58:31 | [' pedestrian with a %% -2.637982']\n",
      "16/06/2023 14:58:33 | [' pedestrian with a sign %% -2.8223395']\n",
      "16/06/2023 14:58:36 | [' pedestrian with a sign on %% -2.8502934']\n",
      "16/06/2023 14:58:39 | [' pedestrian with a sign on a %% -2.6714315']\n",
      "16/06/2023 14:58:41 | [' pedestrian with a sign on a skate %% -2.5090194']\n",
      "16/06/2023 14:58:44 | [' pedestrian with a sign on a skateboard %% -2.4244893']\n",
      "16/06/2023 14:58:47 | [' pedestrian with a sign on a skateboard park %% -2.4814394']\n",
      "16/06/2023 14:58:49 | [' pedestrian with a sign on a skateboard park<|endoftext|> %% -2.5586634']\n",
      "16/06/2023 14:58:52 | [' pedestrian with a sign on a skateboard park<|endoftext|>A %% -2.544613']\n",
      "16/06/2023 14:58:55 | [' pedestrian with a sign on a skateboard park<|endoftext|>A man %% -2.660186']\n",
      "16/06/2023 14:58:57 | [' pedestrian with a sign on a skateboard park<|endoftext|>A man is %% -2.6844459']\n",
      "16/06/2023 14:59:00 | [' pedestrian with a sign on a skateboard park<|endoftext|>A man is shown %% -2.7621331']\n",
      "16/06/2023 14:59:03 | [' pedestrian with a sign on a skateboard park<|endoftext|>A man is shown in %% -2.8171842']\n",
      "16/06/2023 14:59:05 | [' pedestrian with a sign on a skateboard park<|endoftext|>A man is shown in a %% -2.8416855']\n"
     ]
    },
    {
     "name": "stderr",
     "output_type": "stream",
     "text": [
      " 76%|███████▌  | 76/100 [39:11<13:00, 32.53s/it] 76% |######################################################                  |\r"
     ]
    },
    {
     "name": "stdout",
     "output_type": "stream",
     "text": [
      "16/06/2023 14:59:08 | [' skate %% -0.8434199']\n",
      "16/06/2023 14:59:11 | [' skateboard %% -1.0116662']\n",
      "16/06/2023 14:59:13 | [' skateboarder %% -1.3162557']\n",
      "16/06/2023 14:59:16 | [' skateboarder in %% -1.736017']\n",
      "16/06/2023 14:59:19 | [' skateboarder in a %% -2.068023']\n",
      "16/06/2023 14:59:21 | [' skateboarder in a red %% -2.3375838']\n",
      "16/06/2023 14:59:24 | [' skateboarder in a red and %% -2.503437']\n",
      "16/06/2023 14:59:27 | [' skateboarder in a red and white %% -2.5710287']\n",
      "16/06/2023 14:59:29 | [' skateboarder in a red and white striped %% -2.6226597']\n",
      "16/06/2023 14:59:32 | [' skateboarder in a red and white striped shirt %% -2.6511803']\n",
      "16/06/2023 14:59:35 | [' skateboarder in a red and white striped shirt and %% -2.6975594']\n",
      "16/06/2023 14:59:37 | [' skateboarder in a red and white striped shirt and a %% -2.7268429']\n",
      "16/06/2023 14:59:40 | [' skateboarder in a red and white striped shirt and a jump %% -2.786288']\n",
      "16/06/2023 14:59:43 | [' skateboarder in a red and white striped shirt and a jump. %% -2.8013237']\n"
     ]
    },
    {
     "name": "stderr",
     "output_type": "stream",
     "text": [
      " 77%|███████▋  | 77/100 [39:48<13:03, 34.05s/it] 77% |#######################################################                 |\r"
     ]
    },
    {
     "name": "stdout",
     "output_type": "stream",
     "text": [
      "16/06/2023 14:59:46 | [' skate %% -1.1494536']\n",
      "16/06/2023 14:59:48 | [' skateboard %% -1.4393089']\n",
      "16/06/2023 14:59:51 | [' skateboarder %% -1.8119553']\n",
      "16/06/2023 14:59:53 | [' skateboarder in %% -2.0669205']\n",
      "16/06/2023 14:59:56 | [' skateboarder in a %% -2.3016453']\n",
      "16/06/2023 14:59:59 | [' skateboarder in a child %% -2.2089605']\n",
      "16/06/2023 15:00:01 | [\" skateboarder in a child's %% -2.2524154\"]\n",
      "16/06/2023 15:00:04 | [\" skateboarder in a child's first %% -2.477676\"]\n",
      "16/06/2023 15:00:07 | [\" skateboarder in a child's first- %% -2.6048827\"]\n",
      "16/06/2023 15:00:10 | [\" skateboarder in a child's first-person %% -2.6807625\"]\n",
      "16/06/2023 15:00:12 | [\" skateboarder in a child's first-person view %% -2.7522643\"]\n",
      "16/06/2023 15:00:15 | [\" skateboarder in a child's first-person viewable %% -2.7709162\"]\n",
      "16/06/2023 15:00:18 | [\" skateboarder in a child's first-person viewable pose %% -2.807799\"]\n",
      "16/06/2023 15:00:20 | [\" skateboarder in a child's first-person viewable pose. %% -2.8372052\"]\n"
     ]
    },
    {
     "name": "stderr",
     "output_type": "stream",
     "text": [
      " 78%|███████▊  | 78/100 [40:26<12:52, 35.11s/it] 78% |########################################################                |\r"
     ]
    },
    {
     "name": "stdout",
     "output_type": "stream",
     "text": [
      "16/06/2023 15:00:23 | [' skiing %% -1.6181003']\n",
      "16/06/2023 15:00:26 | [' skiing lesson %% -2.3087714']\n",
      "16/06/2023 15:00:28 | [' skiing lesson being %% -2.4887092']\n",
      "16/06/2023 15:00:31 | [' skiing lesson being displayed %% -2.7455356']\n",
      "16/06/2023 15:00:34 | [' skiing lesson being displayed with %% -2.5938282']\n",
      "16/06/2023 15:00:37 | [' skiing lesson being displayed with instructor %% -2.5709903']\n",
      "16/06/2023 15:00:39 | [' skiing lesson being displayed with instructor and %% -2.6360786']\n",
      "16/06/2023 15:00:42 | [' skiing lesson being displayed with instructor and instructor %% -2.7160022']\n",
      "16/06/2023 15:00:45 | [\" skiing lesson being displayed with instructor and instructor's %% -2.8220644\"]\n",
      "16/06/2023 15:00:47 | [\" skiing lesson being displayed with instructor and instructor's hand %% -2.941813\"]\n",
      "16/06/2023 15:00:50 | [\" skiing lesson being displayed with instructor and instructor's hand. %% -2.9695456\"]\n"
     ]
    },
    {
     "name": "stderr",
     "output_type": "stream",
     "text": [
      " 79%|███████▉  | 79/100 [40:56<11:42, 33.47s/it] 79% |########################################################                |\r"
     ]
    },
    {
     "name": "stdout",
     "output_type": "stream",
     "text": [
      "16/06/2023 15:00:53 | [' Asian %% -0.97530884']\n",
      "16/06/2023 15:00:55 | [' Asian girl %% -1.8178309']\n",
      "16/06/2023 15:00:58 | [' Asian girl eating %% -1.9981966']\n",
      "16/06/2023 15:01:01 | [' Asian girl eating a %% -2.085729']\n",
      "16/06/2023 15:01:03 | [' Asian girl eating a large %% -2.3471885']\n",
      "16/06/2023 15:01:06 | [' Asian girl eating a large sized %% -2.5226588']\n",
      "16/06/2023 15:01:09 | [' Asian girl eating a large sized piece %% -2.5774133']\n",
      "16/06/2023 15:01:11 | [' Asian girl eating a large sized piece of %% -2.3948307']\n",
      "16/06/2023 15:01:14 | [' Asian girl eating a large sized piece of white %% -2.5566473']\n",
      "16/06/2023 15:01:17 | [' Asian girl eating a large sized piece of white chocolate %% -2.6371174']\n",
      "16/06/2023 15:01:20 | [' Asian girl eating a large sized piece of white chocolate cake %% -2.7160606']\n",
      "16/06/2023 15:01:22 | [' Asian girl eating a large sized piece of white chocolate cake with %% -2.7215803']\n",
      "16/06/2023 15:01:25 | [' Asian girl eating a large sized piece of white chocolate cake with a %% -2.7122269']\n",
      "16/06/2023 15:01:28 | [' Asian girl eating a large sized piece of white chocolate cake with a fork %% -2.764208']\n",
      "16/06/2023 15:01:31 | [' Asian girl eating a large sized piece of white chocolate cake with a fork. %% -2.738959']\n"
     ]
    },
    {
     "name": "stderr",
     "output_type": "stream",
     "text": [
      " 80%|████████  | 80/100 [41:36<11:51, 35.56s/it] 80% |#########################################################               |\r"
     ]
    },
    {
     "name": "stdout",
     "output_type": "stream",
     "text": [
      "16/06/2023 15:01:33 | [' passenger %% -2.2858138']\n",
      "16/06/2023 15:01:36 | [' passenger jet %% -2.6513238']\n",
      "16/06/2023 15:01:39 | [' passenger jet on %% -2.7663376']\n",
      "16/06/2023 15:01:41 | [' passenger jet on a %% -2.682323']\n",
      "16/06/2023 15:01:44 | [' passenger jet on a laptop %% -2.8133128']\n",
      "16/06/2023 15:01:47 | [' passenger jet on a laptop bag %% -2.7915106']\n",
      "16/06/2023 15:01:49 | [' passenger jet on a laptop bag on %% -2.9351933']\n",
      "16/06/2023 15:01:52 | [' passenger jet on a laptop bag on a %% -2.8634253']\n",
      "16/06/2023 15:01:55 | [' passenger jet on a laptop bag on a back %% -2.9980936']\n",
      "16/06/2023 15:01:57 | [' passenger jet on a laptop bag on a back pack %% -2.9984052']\n",
      "16/06/2023 15:02:00 | [' passenger jet on a laptop bag on a back pack. %% -2.9027376']\n"
     ]
    },
    {
     "name": "stderr",
     "output_type": "stream",
     "text": [
      " 81%|████████  | 81/100 [42:06<10:41, 33.79s/it] 81% |##########################################################              |\r"
     ]
    },
    {
     "name": "stdout",
     "output_type": "stream",
     "text": [
      "16/06/2023 15:02:03 | [' bakery %% -2.0594933']\n",
      "16/06/2023 15:02:06 | [' bakery with %% -2.665978']\n",
      "16/06/2023 15:02:08 | [' bakery with a %% -3.007651']\n",
      "16/06/2023 15:02:11 | [' bakery with a variety %% -3.0084977']\n",
      "16/06/2023 15:02:14 | [' bakery with a variety of %% -2.7406144']\n",
      "16/06/2023 15:02:16 | [' bakery with a variety of items %% -2.904608']\n",
      "16/06/2023 15:02:19 | [' bakery with a variety of items in %% -2.904356']\n",
      "16/06/2023 15:02:22 | [' bakery with a variety of items in the %% -2.9382567']\n",
      "16/06/2023 15:02:24 | [' bakery with a variety of items in the box %% -3.1003966']\n",
      "16/06/2023 15:02:27 | [' bakery with a variety of items in the box. %% -2.9454339']\n"
     ]
    },
    {
     "name": "stderr",
     "output_type": "stream",
     "text": [
      " 82%|████████▏ | 82/100 [42:33<09:30, 31.71s/it] 82% |###########################################################             |\r"
     ]
    },
    {
     "name": "stdout",
     "output_type": "stream",
     "text": [
      "16/06/2023 15:02:30 | [' lunch %% -2.3851643']\n",
      "16/06/2023 15:02:32 | [' lunch sitting %% -3.0591063']\n",
      "16/06/2023 15:02:35 | [' lunch sitting on %% -2.8474483']\n",
      "16/06/2023 15:02:38 | [' lunch sitting on a %% -2.6210585']\n",
      "16/06/2023 15:02:41 | [' lunch sitting on a white %% -2.8583198']\n",
      "16/06/2023 15:02:43 | [' lunch sitting on a white pl %% -2.9280603']\n",
      "16/06/2023 15:02:46 | [' lunch sitting on a white platter %% -2.618419']\n",
      "16/06/2023 15:02:49 | [' lunch sitting on a white platter. %% -2.513907']\n"
     ]
    },
    {
     "name": "stderr",
     "output_type": "stream",
     "text": [
      " 83%|████████▎ | 83/100 [42:54<08:06, 28.64s/it] 83% |###########################################################             |\r"
     ]
    },
    {
     "name": "stdout",
     "output_type": "stream",
     "text": [
      "16/06/2023 15:02:51 | [' bakery %% -2.6770585']\n",
      "16/06/2023 15:02:54 | [' bakery display %% -3.0341444']\n",
      "16/06/2023 15:02:57 | [' bakery display with %% -2.7122133']\n",
      "16/06/2023 15:02:59 | [' bakery display with a %% -2.9614036']\n",
      "16/06/2023 15:03:02 | [' bakery display with a large %% -3.1526215']\n",
      "16/06/2023 15:03:05 | [' bakery display with a large white %% -3.3098605']\n",
      "16/06/2023 15:03:07 | [' bakery display with a large white frost %% -3.344913']\n",
      "16/06/2023 15:03:10 | [' bakery display with a large white frosting %% -3.0742342']\n",
      "16/06/2023 15:03:13 | [' bakery display with a large white frosting maker %% -3.1199515']\n",
      "16/06/2023 15:03:15 | [' bakery display with a large white frosting maker. %% -2.9900908']\n"
     ]
    },
    {
     "name": "stderr",
     "output_type": "stream",
     "text": [
      " 84%|████████▍ | 84/100 [43:21<07:29, 28.12s/it] 84% |############################################################            |\r"
     ]
    },
    {
     "name": "stdout",
     "output_type": "stream",
     "text": [
      "16/06/2023 15:03:18 | [' sandwich %% -1.5960678']\n",
      "16/06/2023 15:03:21 | [' sandwich with %% -1.9179912']\n",
      "16/06/2023 15:03:23 | [' sandwich with a %% -2.3225458']\n",
      "16/06/2023 15:03:26 | [' sandwich with a side %% -2.541175']\n",
      "16/06/2023 15:03:29 | [' sandwich with a side of %% -2.5376894']\n",
      "16/06/2023 15:03:31 | [' sandwich with a side of a %% -2.7686703']\n",
      "16/06/2023 15:03:34 | [' sandwich with a side of a pick %% -2.7941535']\n",
      "16/06/2023 15:03:37 | [' sandwich with a side of a pickle %% -2.798759']\n",
      "16/06/2023 15:03:39 | [' sandwich with a side of a pickle and %% -2.789094']\n",
      "16/06/2023 15:03:42 | [' sandwich with a side of a pickle and a %% -2.842256']\n",
      "16/06/2023 15:03:45 | [' sandwich with a side of a pickle and a side %% -2.905628']\n",
      "16/06/2023 15:03:47 | [' sandwich with a side of a pickle and a side of %% -2.917303']\n",
      "16/06/2023 15:03:50 | [' sandwich with a side of a pickle and a side of salad %% -2.9649775']\n",
      "16/06/2023 15:03:53 | [' sandwich with a side of a pickle and a side of salad. %% -2.8629754']\n"
     ]
    },
    {
     "name": "stderr",
     "output_type": "stream",
     "text": [
      " 85%|████████▌ | 85/100 [43:58<07:43, 30.93s/it] 85% |#############################################################           |\r"
     ]
    },
    {
     "name": "stdout",
     "output_type": "stream",
     "text": [
      "16/06/2023 15:03:56 | [' lunch %% -2.4819062']\n",
      "16/06/2023 15:03:58 | [' lunch that %% -2.7925768']\n",
      "16/06/2023 15:04:01 | [' lunch that includes %% -2.7160435']\n",
      "16/06/2023 15:04:04 | [' lunch that includes a %% -2.6830614']\n",
      "16/06/2023 15:04:06 | [' lunch that includes a laptop %% -2.8174882']\n",
      "16/06/2023 15:04:09 | [' lunch that includes a laptop and %% -2.760852']\n",
      "16/06/2023 15:04:12 | [' lunch that includes a laptop and a %% -2.7832751']\n",
      "16/06/2023 15:04:14 | [' lunch that includes a laptop and a paper %% -2.9487734']\n",
      "16/06/2023 15:04:17 | [' lunch that includes a laptop and a paper bag %% -3.0207121']\n",
      "16/06/2023 15:04:20 | [' lunch that includes a laptop and a paper bag. %% -2.8846066']\n"
     ]
    },
    {
     "name": "stderr",
     "output_type": "stream",
     "text": [
      " 86%|████████▌ | 86/100 [44:25<06:55, 29.68s/it] 86% |#############################################################           |\r"
     ]
    },
    {
     "name": "stdout",
     "output_type": "stream",
     "text": [
      "16/06/2023 15:04:22 | [' dough %% -2.9604485']\n",
      "16/06/2023 15:04:25 | [' doughnut %% -3.277295']\n",
      "16/06/2023 15:04:28 | [' doughnut display %% -3.2003975']\n",
      "16/06/2023 15:04:30 | [' doughnut display on %% -3.0128946']\n",
      "16/06/2023 15:04:33 | [' doughnut display on a %% -2.8499026']\n",
      "16/06/2023 15:04:36 | [' doughnut display on a large %% -3.0165179']\n",
      "16/06/2023 15:04:38 | [' doughnut display on a large display %% -3.1181972']\n",
      "16/06/2023 15:04:41 | [' doughnut display on a large display of %% -3.1882277']\n",
      "16/06/2023 15:04:44 | [' doughnut display on a large display of don %% -3.214753']\n",
      "16/06/2023 15:04:46 | [' doughnut display on a large display of donuts %% -3.183824']\n",
      "16/06/2023 15:04:49 | [' doughnut display on a large display of donuts. %% -2.943306']\n"
     ]
    },
    {
     "name": "stderr",
     "output_type": "stream",
     "text": [
      " 87%|████████▋ | 87/100 [44:55<06:24, 29.61s/it] 87% |##############################################################          |\r"
     ]
    },
    {
     "name": "stdout",
     "output_type": "stream",
     "text": [
      "16/06/2023 15:04:52 | [' player %% -1.0503552']\n",
      "16/06/2023 15:04:54 | [' player in %% -2.00543']\n",
      "16/06/2023 15:04:57 | [' player in a %% -2.2162182']\n",
      "16/06/2023 15:05:00 | [' player in a professional %% -2.3253007']\n",
      "16/06/2023 15:05:02 | [' player in a professional baseball %% -2.2457633']\n",
      "16/06/2023 15:05:05 | [' player in a professional baseball game %% -2.1059935']\n",
      "16/06/2023 15:05:08 | [' player in a professional baseball game with %% -2.2211163']\n",
      "16/06/2023 15:05:11 | [' player in a professional baseball game with a %% -2.2827523']\n",
      "16/06/2023 15:05:13 | [' player in a professional baseball game with a baseball %% -2.336884']\n",
      "16/06/2023 15:05:16 | [' player in a professional baseball game with a baseball m %% -2.4479973']\n",
      "16/06/2023 15:05:19 | [' player in a professional baseball game with a baseball mitt %% -2.430531']\n",
      "16/06/2023 15:05:21 | [' player in a professional baseball game with a baseball mittent %% -2.4183016']\n",
      "16/06/2023 15:05:24 | [' player in a professional baseball game with a baseball mittent green %% -2.5017962']\n",
      "16/06/2023 15:05:27 | [' player in a professional baseball game with a baseball mittent green and %% -2.5676105']\n",
      "16/06/2023 15:05:30 | [' player in a professional baseball game with a baseball mittent green and white %% -2.5449572']\n",
      "16/06/2023 15:05:32 | [' player in a professional baseball game with a baseball mittent green and white. %% -2.4788668']\n"
     ]
    },
    {
     "name": "stderr",
     "output_type": "stream",
     "text": [
      " 88%|████████▊ | 88/100 [45:38<06:44, 33.68s/it] 88% |###############################################################         |\r"
     ]
    },
    {
     "name": "stdout",
     "output_type": "stream",
     "text": [
      "16/06/2023 15:05:35 | [' surf %% -1.4316622']\n",
      "16/06/2023 15:05:38 | [' surfboard %% -2.2180526']\n",
      "16/06/2023 15:05:40 | [' surfboard instructor %% -2.3630512']\n",
      "16/06/2023 15:05:43 | [' surfboard instructor on %% -2.5524158']\n",
      "16/06/2023 15:05:46 | [' surfboard instructor on the %% -2.742758']\n",
      "16/06/2023 15:05:48 | [' surfboard instructor on the beach %% -2.856881']\n",
      "16/06/2023 15:05:51 | [' surfboard instructor on the beach with %% -2.8057601']\n",
      "16/06/2023 15:05:54 | [' surfboard instructor on the beach with a %% -2.8387575']\n",
      "16/06/2023 15:05:56 | [' surfboard instructor on the beach with a large %% -2.9917867']\n",
      "16/06/2023 15:05:59 | [' surfboard instructor on the beach with a large black %% -3.082994']\n",
      "16/06/2023 15:06:02 | [' surfboard instructor on the beach with a large black board %% -3.1448793']\n",
      "16/06/2023 15:06:05 | [' surfboard instructor on the beach with a large black board. %% -3.069332']\n"
     ]
    },
    {
     "name": "stderr",
     "output_type": "stream",
     "text": [
      " 89%|████████▉ | 89/100 [46:10<06:05, 33.26s/it] 89% |################################################################        |\r"
     ]
    },
    {
     "name": "stdout",
     "output_type": "stream",
     "text": [
      "16/06/2023 15:06:07 | [' player %% -2.2222152']\n",
      "16/06/2023 15:06:10 | [' player in %% -2.6282465']\n",
      "16/06/2023 15:06:13 | [' player in a %% -2.6561432']\n",
      "16/06/2023 15:06:15 | [' player in a professional %% -2.741262']\n",
      "16/06/2023 15:06:18 | [' player in a professional baseball %% -2.697927']\n",
      "16/06/2023 15:06:21 | [' player in a professional baseball game %% -2.4799654']\n",
      "16/06/2023 15:06:23 | [' player in a professional baseball game with %% -2.532529']\n",
      "16/06/2023 15:06:26 | [' player in a professional baseball game with a %% -2.5461488']\n",
      "16/06/2023 15:06:29 | [' player in a professional baseball game with a soccer %% -2.4742703']\n",
      "16/06/2023 15:06:31 | [' player in a professional baseball game with a soccer ball %% -2.4956996']\n",
      "16/06/2023 15:06:34 | [' player in a professional baseball game with a soccer ball. %% -2.469137']\n"
     ]
    },
    {
     "name": "stderr",
     "output_type": "stream",
     "text": [
      " 90%|█████████ | 90/100 [46:40<05:21, 32.11s/it] 90% |################################################################        |\r"
     ]
    },
    {
     "name": "stdout",
     "output_type": "stream",
     "text": [
      "16/06/2023 15:06:37 | [' surf %% -1.1355693']\n",
      "16/06/2023 15:06:39 | [' surfboard %% -1.5103036']\n",
      "16/06/2023 15:06:42 | [' surfboarder %% -1.9353294']\n",
      "16/06/2023 15:06:45 | [' surfboarder in %% -2.3386123']\n",
      "16/06/2023 15:06:47 | [' surfboarder in a %% -2.509938']\n",
      "16/06/2023 15:06:50 | [' surfboarder in a small %% -2.6985226']\n",
      "16/06/2023 15:06:53 | [' surfboarder in a small boat %% -2.7521322']\n",
      "16/06/2023 15:06:55 | [' surfboarder in a small boat- %% -2.8699958']\n",
      "16/06/2023 15:06:58 | [' surfboarder in a small boat-like %% -2.991405']\n",
      "16/06/2023 15:07:01 | [' surfboarder in a small boat-like boat %% -3.0039096']\n",
      "16/06/2023 15:07:03 | [' surfboarder in a small boat-like boat- %% -3.026301']\n",
      "16/06/2023 15:07:06 | [' surfboarder in a small boat-like boat-like %% -3.1265383']\n",
      "16/06/2023 15:07:09 | [' surfboarder in a small boat-like boat-like area %% -3.165635']\n",
      "16/06/2023 15:07:12 | [' surfboarder in a small boat-like boat-like area of %% -3.1381361']\n",
      "16/06/2023 15:07:14 | [' surfboarder in a small boat-like boat-like area of water %% -3.0770464']\n",
      "16/06/2023 15:07:17 | [' surfboarder in a small boat-like boat-like area of water. %% -3.0638523']\n"
     ]
    },
    {
     "name": "stderr",
     "output_type": "stream",
     "text": [
      " 91%|█████████ | 91/100 [47:23<05:18, 35.38s/it] 91% |#################################################################       |\r"
     ]
    },
    {
     "name": "stdout",
     "output_type": "stream",
     "text": [
      "16/06/2023 15:07:20 | [' soccer %% -2.10934']\n",
      "16/06/2023 15:07:22 | [' soccer game %% -2.59939']\n",
      "16/06/2023 15:07:25 | [' soccer game with %% -2.627587']\n",
      "16/06/2023 15:07:28 | [' soccer game with a %% -2.7946234']\n",
      "16/06/2023 15:07:30 | [' soccer game with a player %% -2.8788996']\n",
      "16/06/2023 15:07:33 | [' soccer game with a player swinging %% -2.9539948']\n",
      "16/06/2023 15:07:36 | [' soccer game with a player swinging a %% -2.9364936']\n",
      "16/06/2023 15:07:38 | [' soccer game with a player swinging apron %% -2.83963']\n",
      "16/06/2023 15:07:41 | [' soccer game with a player swinging apron<|endoftext|> %% -2.9304655']\n",
      "16/06/2023 15:07:44 | [' soccer game with a player swinging apron<|endoftext|> <-pad-> %% -2.637884']\n",
      "16/06/2023 15:07:47 | [' soccer game with a player swinging apron<|endoftext|> <-pad->  a %% -2.7326035']\n",
      "16/06/2023 15:07:49 | [' soccer game with a player swinging apron<|endoftext|> <-pad->  a fire %% -2.8427923']\n",
      "16/06/2023 15:07:52 | [' soccer game with a player swinging apron<|endoftext|> <-pad->  a fire hyd %% -2.8704305']\n",
      "16/06/2023 15:07:55 | [' soccer game with a player swinging apron<|endoftext|> <-pad->  a fire hydrant %% -2.9138114']\n",
      "16/06/2023 15:07:58 | [' soccer game with a player swinging apron<|endoftext|> <-pad->  a fire hydrant is %% -2.9390068']\n",
      "16/06/2023 15:08:00 | [' soccer game with a player swinging apron<|endoftext|> <-pad->  a fire hydrant is spraying %% -2.9863873']\n"
     ]
    },
    {
     "name": "stderr",
     "output_type": "stream",
     "text": [
      " 92%|█████████▏| 92/100 [48:06<05:01, 37.73s/it] 92% |##################################################################      |\r"
     ]
    },
    {
     "name": "stdout",
     "output_type": "stream",
     "text": [
      "16/06/2023 15:08:03 | [' chef %% -1.9663068']\n",
      "16/06/2023 15:08:06 | [' chef preparing %% -2.5572903']\n",
      "16/06/2023 15:08:08 | [' chef preparing a %% -2.4755132']\n",
      "16/06/2023 15:08:11 | [' chef preparing a delicious %% -2.7232401']\n",
      "16/06/2023 15:08:14 | [' chef preparing a delicious meal %% -2.7687879']\n",
      "16/06/2023 15:08:16 | [' chef preparing a delicious meal with %% -2.6933877']\n",
      "16/06/2023 15:08:19 | [' chef preparing a delicious meal with a %% -2.7229328']\n",
      "16/06/2023 15:08:22 | [' chef preparing a delicious meal with a colorful %% -2.752538']\n",
      "16/06/2023 15:08:24 | [' chef preparing a delicious meal with a colorful dress %% -2.8132634']\n",
      "16/06/2023 15:08:27 | [' chef preparing a delicious meal with a colorful dress. %% -2.8013701']\n"
     ]
    },
    {
     "name": "stderr",
     "output_type": "stream",
     "text": [
      " 93%|█████████▎| 93/100 [48:33<04:01, 34.47s/it] 93% |##################################################################      |\r"
     ]
    },
    {
     "name": "stdout",
     "output_type": "stream",
     "text": [
      "16/06/2023 15:08:30 | [' birthday %% -1.9546931']\n",
      "16/06/2023 15:08:32 | [' birthday with %% -2.173449']\n",
      "16/06/2023 15:08:35 | [' birthday with a %% -2.256778']\n",
      "16/06/2023 15:08:38 | [' birthday with a banana %% -2.5632882']\n",
      "16/06/2023 15:08:40 | [' birthday with a banana and %% -2.6107514']\n",
      "16/06/2023 15:08:43 | [' birthday with a banana and a %% -2.7547581']\n",
      "16/06/2023 15:08:46 | [' birthday with a banana and a chocolate %% -2.9444659']\n",
      "16/06/2023 15:08:48 | [' birthday with a banana and a chocolate cake %% -3.041685']\n",
      "16/06/2023 15:08:51 | [' birthday with a banana and a chocolate cake. %% -2.8949125']\n"
     ]
    },
    {
     "name": "stderr",
     "output_type": "stream",
     "text": [
      " 94%|█████████▍| 94/100 [48:57<03:08, 31.34s/it] 94% |###################################################################     |\r"
     ]
    },
    {
     "name": "stdout",
     "output_type": "stream",
     "text": [
      "16/06/2023 15:08:54 | [' game %% -3.4175124']\n",
      "16/06/2023 15:08:56 | [' game in %% -3.162501']\n",
      "16/06/2023 15:08:59 | [' game in progress %% -2.8736012']\n",
      "16/06/2023 15:09:02 | [' game in progress player %% -2.830185']\n",
      "16/06/2023 15:09:04 | [' game in progress player players %% -2.830954']\n",
      "16/06/2023 15:09:07 | [' game in progress player players playing %% -2.916518']\n",
      "16/06/2023 15:09:10 | [' game in progress player players playing a %% -2.9065568']\n",
      "16/06/2023 15:09:12 | [' game in progress player players playing a game %% -2.8750136']\n",
      "16/06/2023 15:09:15 | [' game in progress player players playing a game of %% -2.8336363']\n",
      "16/06/2023 15:09:18 | [' game in progress player players playing a game of soccer %% -2.669597']\n",
      "16/06/2023 15:09:21 | [' game in progress player players playing a game of soccer<|endoftext|> %% -2.6714113']\n",
      "16/06/2023 15:09:23 | [' game in progress player players playing a game of soccer<|endoftext|><|endoftext|> %% -2.63892']\n",
      "16/06/2023 15:09:26 | [' game in progress player players playing a game of soccer<|endoftext|><|endoftext|>A %% -2.5579429']\n",
      "16/06/2023 15:09:29 | [' game in progress player players playing a game of soccer<|endoftext|><|endoftext|>A man %% -2.6244712']\n",
      "16/06/2023 15:09:32 | [' game in progress player players playing a game of soccer<|endoftext|><|endoftext|>A man in %% -2.6631536']\n",
      "16/06/2023 15:09:34 | [' game in progress player players playing a game of soccer<|endoftext|><|endoftext|>A man in a %% -2.6780496']\n"
     ]
    },
    {
     "name": "stderr",
     "output_type": "stream",
     "text": [
      " 95%|█████████▌| 95/100 [49:40<02:54, 34.88s/it] 95% |####################################################################    |\r"
     ]
    },
    {
     "name": "stdout",
     "output_type": "stream",
     "text": [
      "16/06/2023 15:09:37 | [' pizza %% -1.4683577']\n",
      "16/06/2023 15:09:40 | [' pizza with %% -1.8818078']\n",
      "16/06/2023 15:09:42 | [' pizza with a %% -2.4101045']\n",
      "16/06/2023 15:09:45 | [' pizza with a person %% -2.7497258']\n",
      "16/06/2023 15:09:48 | [' pizza with a person in %% -2.842526']\n",
      "16/06/2023 15:09:50 | [' pizza with a person in a %% -2.8330157']\n",
      "16/06/2023 15:09:53 | [' pizza with a person in a black %% -2.9941955']\n",
      "16/06/2023 15:09:56 | [' pizza with a person in a black and %% -3.084474']\n",
      "16/06/2023 15:09:58 | [' pizza with a person in a black and white %% -3.039782']\n",
      "16/06/2023 15:10:01 | [' pizza with a person in a black and white shirt %% -3.0329843']\n",
      "16/06/2023 15:10:04 | [' pizza with a person in a black and white shirt eating %% -3.053876']\n",
      "16/06/2023 15:10:07 | [' pizza with a person in a black and white shirt eating a %% -3.006531']\n",
      "16/06/2023 15:10:09 | [' pizza with a person in a black and white shirt eating a large %% -3.054954']\n",
      "16/06/2023 15:10:12 | [' pizza with a person in a black and white shirt eating a large red %% -3.0909283']\n",
      "16/06/2023 15:10:15 | [' pizza with a person in a black and white shirt eating a large red and %% -3.124916']\n",
      "16/06/2023 15:10:17 | [' pizza with a person in a black and white shirt eating a large red and white %% -3.118652']\n"
     ]
    },
    {
     "name": "stderr",
     "output_type": "stream",
     "text": [
      " 96%|█████████▌| 96/100 [50:23<02:29, 37.37s/it] 96% |#####################################################################   |\r"
     ]
    },
    {
     "name": "stdout",
     "output_type": "stream",
     "text": [
      "16/06/2023 15:10:20 | [' child %% -1.6320024']\n",
      "16/06/2023 15:10:23 | [' child sleeping %% -2.0627522']\n",
      "16/06/2023 15:10:25 | [' child sleeping in %% -2.3198185']\n",
      "16/06/2023 15:10:28 | [' child sleeping in a %% -2.396153']\n",
      "16/06/2023 15:10:31 | [' child sleeping in a small %% -2.576116']\n",
      "16/06/2023 15:10:33 | [' child sleeping in a small room %% -2.7559364']\n",
      "16/06/2023 15:10:36 | [' child sleeping in a small room bed %% -2.7850235']\n",
      "16/06/2023 15:10:39 | [' child sleeping in a small room bed. %% -2.6522813']\n"
     ]
    },
    {
     "name": "stderr",
     "output_type": "stream",
     "text": [
      " 97%|█████████▋| 97/100 [50:44<01:37, 32.56s/it] 97% |#####################################################################   |\r"
     ]
    },
    {
     "name": "stdout",
     "output_type": "stream",
     "text": [
      "16/06/2023 15:10:41 | [' photo %% -3.0997722']\n",
      "16/06/2023 15:10:44 | [' photo with %% -3.0192242']\n",
      "16/06/2023 15:10:47 | [' photo with a %% -2.887233']\n",
      "16/06/2023 15:10:49 | [' photo with a bed %% -2.7945952']\n",
      "16/06/2023 15:10:52 | [' photo with a bed and %% -2.8007581']\n",
      "16/06/2023 15:10:55 | [' photo with a bed and a %% -2.8858116']\n",
      "16/06/2023 15:10:57 | [' photo with a bed and a canopy %% -2.9610105']\n",
      "16/06/2023 15:11:00 | [' photo with a bed and a canopy on %% -2.9493508']\n",
      "16/06/2023 15:11:03 | [' photo with a bed and a canopy on a %% -2.8630266']\n",
      "16/06/2023 15:11:06 | [' photo with a bed and a canopy on a wall %% -2.9192166']\n",
      "16/06/2023 15:11:08 | [' photo with a bed and a canopy on a wall. %% -2.7667015']\n"
     ]
    },
    {
     "name": "stderr",
     "output_type": "stream",
     "text": [
      " 98%|█████████▊| 98/100 [51:14<01:03, 31.63s/it] 98% |######################################################################  |\r"
     ]
    },
    {
     "name": "stdout",
     "output_type": "stream",
     "text": [
      "16/06/2023 15:11:11 | [' pizz %% -0.90354514']\n",
      "16/06/2023 15:11:14 | [' pizzas %% -2.3700619']\n",
      "16/06/2023 15:11:16 | [' pizzasita %% -2.700512']\n",
      "16/06/2023 15:11:19 | [' pizzasita with %% -2.6291623']\n",
      "16/06/2023 15:11:22 | [' pizzasita with a %% -2.7282128']\n",
      "16/06/2023 15:11:24 | [' pizzasita with a variety %% -2.8552399']\n",
      "16/06/2023 15:11:27 | [' pizzasita with a variety of %% -2.603294']\n",
      "16/06/2023 15:11:30 | [' pizzasita with a variety of topp %% -2.6016634']\n",
      "16/06/2023 15:11:32 | [' pizzasita with a variety of toppings %% -2.3885007']\n",
      "16/06/2023 15:11:35 | [' pizzasita with a variety of toppings and %% -2.4256415']\n",
      "16/06/2023 15:11:38 | [' pizzasita with a variety of toppings and a %% -2.4466755']\n",
      "16/06/2023 15:11:40 | [' pizzasita with a variety of toppings and a white %% -2.6019144']\n",
      "16/06/2023 15:11:43 | [' pizzasita with a variety of toppings and a white sauce %% -2.6678605']\n",
      "16/06/2023 15:11:46 | [' pizzasita with a variety of toppings and a white sauce. %% -2.6165578']\n"
     ]
    },
    {
     "name": "stderr",
     "output_type": "stream",
     "text": [
      " 99%|█████████▉| 99/100 [51:51<00:33, 33.42s/it] 99% |####################################################################### |\r"
     ]
    },
    {
     "name": "stdout",
     "output_type": "stream",
     "text": [
      "16/06/2023 15:11:49 | [' tennis %% -1.2497982']\n",
      "16/06/2023 15:11:51 | [' tennis pink %% -1.0625532']\n",
      "16/06/2023 15:11:54 | [' tennis pink pair %% -1.7243451']\n",
      "16/06/2023 15:11:57 | [' tennis pink pair on %% -1.974869']\n",
      "16/06/2023 15:11:59 | [' tennis pink pair on a %% -2.0509667']\n",
      "16/06/2023 15:12:02 | [' tennis pink pair on a white %% -2.324915']\n",
      "16/06/2023 15:12:05 | [' tennis pink pair on a white surface %% -2.4981549']\n",
      "16/06/2023 15:12:07 | [' tennis pink pair on a white surface. %% -2.3100157']\n"
     ]
    },
    {
     "name": "stderr",
     "output_type": "stream",
     "text": [
      "100%|██████████| 100/100 [52:13<00:00, 31.33s/it]\n",
      "100% |########################################################################|\r"
     ]
    },
    {
     "name": "stdout",
     "output_type": "stream",
     "text": [
      "Inference completed!\n"
     ]
    },
    {
     "name": "stderr",
     "output_type": "stream",
     "text": [
      "\n"
     ]
    }
   ],
   "source": [
    "#Image captioning\n",
    "import argparse\n",
    "import ipdb\n",
    "from tqdm import tqdm\n",
    "import progressbar\n",
    "import torch\n",
    "import ipdb\n",
    "import sys\n",
    "\n",
    "import itertools\n",
    "from model.ZeroCLIP import CLIPTextGenerator\n",
    "\n",
    "\n",
    "\n",
    "\n",
    "def get_args():\n",
    "    parser = argparse.ArgumentParser()\n",
    "    \n",
    "    parser.add_argument(\"--test_image_prefix_path\",default=\"/data/quantizeVL/image_captioning/data/mscoco/test_images\", type=str, help=\"the folder that stores all test images\")\n",
    "    parser.add_argument(\"--test_path\", default=\"/data/quantizeVL/image_captioning/data/mscoco/mscoco_test.json\", type=str)\n",
    "    parser.add_argument(\"--save_path_prefix\", default=\"./inference_result/mscoco/baselines/\",type=str, help=\"save the result in which directory\")\n",
    "    parser.add_argument(\"--save_name\", default=\"zerocap_result.json\", type=str, help=\"the name of the saved file\")\n",
    "\n",
    "    parser.add_argument(\"--seed\", type=int, default=0)\n",
    "    parser.add_argument(\"--lm_model\", type=str, default=\"cambridgeltl/magic_mscoco\", help=\"gpt-2 or gpt-neo\")\n",
    "    parser.add_argument(\"--clip_checkpoints\", type=str, default=\"./clip_checkpoints\", help=\"path to CLIP\")\n",
    "    parser.add_argument(\"--target_seq_length\", type=int, default=16)\n",
    "    parser.add_argument(\"--cond_text\", type=str, default=\"Image of a\")\n",
    "    parser.add_argument(\"--reset_context_delta\", action=\"store_false\",\n",
    "                        help=\"Should we reset the context at each token gen\")\n",
    "    parser.add_argument(\"--num_iterations\", type=int, default=5)\n",
    "    parser.add_argument(\"--clip_loss_temperature\", type=float, default=0.01)\n",
    "    parser.add_argument(\"--clip_scale\", type=float, default=1)\n",
    "    parser.add_argument(\"--ce_scale\", type=float, default=0.2)\n",
    "    parser.add_argument(\"--stepsize\", type=float, default=0.3)\n",
    "    parser.add_argument(\"--grad_norm_factor\", type=float, default=0.9)\n",
    "    parser.add_argument(\"--fusion_factor\", type=float, default=0.99)\n",
    "    parser.add_argument(\"--repetition_penalty\", type=float, default=1)\n",
    "    parser.add_argument(\"--end_token\", type=str, default=\".\", help=\"Token to end text\")\n",
    "    parser.add_argument(\"--end_factor\", type=float, default=1.01, help=\"Factor to increase end_token\")\n",
    "    parser.add_argument(\"--forbidden_factor\", type=float, default=20, help=\"Factor to decrease forbidden tokens\")\n",
    "    parser.add_argument(\"--beam_size\", type=int, default=1)\n",
    "\n",
    "    parser.add_argument(\"--multi_gpu\", action=\"store_true\")\n",
    "\n",
    "    parser.add_argument('--run_type',\n",
    "                        default='caption',\n",
    "                        nargs='?',\n",
    "                        choices=['caption', 'arithmetics'])\n",
    "\n",
    "    parser.add_argument(\"--caption_img_path\", type=str, default='example_images/captions/COCO_val2014_000000008775.jpg',\n",
    "                        help=\"Path to image for captioning\")\n",
    "\n",
    "    parser.add_argument(\"--arithmetics_imgs\", nargs=\"+\",\n",
    "                        default=['example_images/arithmetics/woman2.jpg',\n",
    "                                 'example_images/arithmetics/king2.jpg',\n",
    "                                 'example_images/arithmetics/man2.jpg'])\n",
    "    parser.add_argument(\"--arithmetics_weights\", nargs=\"+\", default=[1, 1, -1])\n",
    "\n",
    "    args = parser.parse_args('')\n",
    "\n",
    "    return args\n",
    "\n",
    "def run(args, text_generator, img_path):\n",
    "    image_features = text_generator.get_img_feature([img_path], None)\n",
    "    captions = text_generator.run(image_features, args.cond_text, beam_size=args.beam_size)\n",
    "\n",
    "    encoded_captions = [text_generator.clip.encode_text(clip.tokenize(c).to(text_generator.device)) for c in captions]\n",
    "    encoded_captions = [x / x.norm(dim=-1, keepdim=True) for x in encoded_captions]\n",
    "    best_clip_idx = (torch.cat(encoded_captions) @ image_features.t()).squeeze().argmax().item()\n",
    "    return captions\n",
    "\n",
    "\n",
    "if __name__ == '__main__':\n",
    "    if '-f' in sys.argv:\n",
    "        sys.argv.remove('-f')\n",
    "    if torch.cuda.is_available():\n",
    "        print ('Cuda is available.')\n",
    "    cuda_available = torch.cuda.is_available()\n",
    "    args = get_args()\n",
    "    device = torch.device('cuda')\n",
    "\n",
    "    save_path_prefix = args.save_path_prefix\n",
    "    import os\n",
    "    if os.path.exists(save_path_prefix):\n",
    "        pass\n",
    "    else: # recursively construct directory\n",
    "        os.makedirs(save_path_prefix, exist_ok=True)\n",
    "    # parse save name\n",
    "    save_name = args.save_name\n",
    "    full_save_path = save_path_prefix + '/' + save_name\n",
    "    print ('full save path is {}'.format(full_save_path))\n",
    "\n",
    "    print ('Loading data...')\n",
    "    import json\n",
    "    with open(args.test_path) as f:\n",
    "        item_list = json.load(f)\n",
    "    print ('Data loaded.')\n",
    "    print ('Number of test instances is {}'.format(len(item_list)))\n",
    "\n",
    "    # reloading model for each bit combination\n",
    "    #model, preprocess = clip.load(\"RN50\", device=device)\n",
    "    # ZeroCap generator\n",
    "    text_generator = CLIPTextGenerator(model, preprocess, **vars(args))\n",
    "    result_list = []\n",
    "    invalid_num = 0\n",
    "    print ('----------------------------------------------------------------')\n",
    "    #test_num = len(item_list)\n",
    "    test_num = 100\n",
    "    print ('Number of inference instances is {}'.format(test_num))\n",
    "    p = progressbar.ProgressBar(test_num)\n",
    "    p.start()\n",
    "    print(args)\n",
    "    for p_idx in tqdm(range(test_num)):   \n",
    "        p.update(p_idx)\n",
    "        one_test_dict = item_list[p_idx]\n",
    "        one_res_dict = {'split':one_test_dict['split'],'image_name':one_test_dict['image_name'],'captions':one_test_dict['captions']}\n",
    "        image_full_path = args.test_image_prefix_path + '/' + one_test_dict['image_name']\n",
    "        output_text = run(args, text_generator, img_path=image_full_path)\n",
    "        one_res_dict['prediction'] = output_text[0]\n",
    "        result_list.append(one_res_dict)\n",
    "        \"\"\"       \n",
    "        try:\n",
    "            output_text = run(args, text_generator, img_path=image_full_path)\n",
    "            one_res_dict['prediction'] = output_text[0]\n",
    "            result_list.append(one_res_dict)\n",
    "        except Exception as error:\n",
    "            print(f'[!] ERROR:', error)\n",
    "            invalid_num += 1\n",
    "            print ('invalid number is {}'.format(invalid_num))\n",
    "            continue\n",
    "        \"\"\"   \n",
    "    p.finish()\n",
    "    print ('Inference completed!')\n",
    "\n",
    "    import json\n",
    "    with open(full_save_path, 'w') as outfile:\n",
    "              json.dump(result_list, outfile, indent=4)\n",
    "\n",
    " \n"
   ]
  },
  {
   "cell_type": "code",
   "execution_count": 21,
   "metadata": {},
   "outputs": [
    {
     "data": {
      "text/plain": [
       "'/nfs/hpc/share/kannegaa/DL-Project'"
      ]
     },
     "execution_count": 21,
     "metadata": {},
     "output_type": "execute_result"
    }
   ],
   "source": [
    "pwd"
   ]
  },
  {
   "cell_type": "code",
   "execution_count": 3,
   "metadata": {},
   "outputs": [
    {
     "name": "stdout",
     "output_type": "stream",
     "text": [
      "tokenization...\n"
     ]
    },
    {
     "name": "stderr",
     "output_type": "stream",
     "text": [
      "PTBTokenizer tokenized 6114 tokens at 79602.96 tokens per second.\n",
      "PTBTokenizer tokenized 1232 tokens at 32359.02 tokens per second.\n"
     ]
    },
    {
     "name": "stdout",
     "output_type": "stream",
     "text": [
      "setting up scorers...\n",
      "computing Bleu score...\n",
      "{'testlen': 1043, 'reflen': 983, 'guess': [1043, 943, 843, 743], 'correct': [476, 127, 24, 6]}\n",
      "ratio: 1.0610376398768453\n",
      "Bleu_1: 0.456\n",
      "Bleu_2: 0.248\n",
      "Bleu_3: 0.121\n",
      "Bleu_4: 0.061\n",
      "computing METEOR score...\n",
      "METEOR: 0.145\n",
      "computing Rouge score...\n",
      "ROUGE_L: 0.307\n",
      "computing CIDEr score...\n",
      "CIDEr: 0.325\n",
      "computing SPICE score...\n"
     ]
    },
    {
     "name": "stderr",
     "output_type": "stream",
     "text": [
      "Parsing reference captions\n",
      "Parsing test captions\n",
      "Initiating Stanford parsing pipeline\n",
      "[main] INFO edu.stanford.nlp.pipeline.StanfordCoreNLP - Adding annotator tokenize\n",
      "[main] INFO edu.stanford.nlp.pipeline.TokenizerAnnotator - TokenizerAnnotator: No tokenizer type provided. Defaulting to PTBTokenizer.\n",
      "[main] INFO edu.stanford.nlp.pipeline.StanfordCoreNLP - Adding annotator ssplit\n",
      "[main] INFO edu.stanford.nlp.pipeline.StanfordCoreNLP - Adding annotator parse\n",
      "[main] INFO edu.stanford.nlp.parser.common.ParserGrammar - Loading parser from serialized file edu/stanford/nlp/models/lexparser/englishPCFG.ser.gz ... \n",
      "done [0.3 sec].\n",
      "[main] INFO edu.stanford.nlp.pipeline.StanfordCoreNLP - Adding annotator lemma\n",
      "[main] INFO edu.stanford.nlp.pipeline.StanfordCoreNLP - Adding annotator ner\n",
      "Loading classifier from edu/stanford/nlp/models/ner/english.all.3class.distsim.crf.ser.gz ... done [1.1 sec].\n",
      "Loading classifier from edu/stanford/nlp/models/ner/english.muc.7class.distsim.crf.ser.gz ... done [0.4 sec].\n",
      "Loading classifier from edu/stanford/nlp/models/ner/english.conll.4class.distsim.crf.ser.gz ... done [0.4 sec].\n",
      "Threads( StanfordCoreNLP ) [2.328 seconds]\n"
     ]
    },
    {
     "name": "stdout",
     "output_type": "stream",
     "text": [
      "SPICE evaluation took: 8.264 s\n",
      "SPICE: 0.082\n",
      "Bleu_1: 0.456\n",
      "Bleu_2: 0.248\n",
      "Bleu_3: 0.121\n",
      "Bleu_4: 0.061\n",
      "METEOR: 0.145\n",
      "ROUGE_L: 0.307\n",
      "CIDEr: 0.325\n",
      "SPICE: 0.082\n"
     ]
    }
   ],
   "source": [
    "%run -i './evaluation/cocoeval.py'\n",
    "#python ./evaluation/cocoeval.py --result_file_path ./inference_result/mscoco/baselines/zerocap_result.json"
   ]
  },
  {
   "cell_type": "code",
   "execution_count": null,
   "metadata": {},
   "outputs": [],
   "source": [
    "input_resolution = model.visual.input_resolution\n",
    "context_length = model.context_length\n",
    "vocab_size = model.vocab_size\n",
    "\n",
    "print(\"Model parameters:\", f\"{np.sum([int(np.prod(p.shape)) for p in model.parameters()]):,}\")\n",
    "print(\"Input resolution:\", input_resolution)\n",
    "print(\"Context length:\", context_length)\n",
    "print(\"Vocab size:\", vocab_size)"
   ]
  },
  {
   "cell_type": "code",
   "execution_count": null,
   "metadata": {},
   "outputs": [],
   "source": [
    "imagenet_classes = [\"tench\", \"goldfish\", \"great white shark\", \"tiger shark\", \"hammerhead shark\", \"electric ray\", \"stingray\", \"rooster\", \"hen\", \"ostrich\", \"brambling\", \"goldfinch\", \"house finch\", \"junco\", \"indigo bunting\", \"American robin\", \"bulbul\", \"jay\", \"magpie\", \"chickadee\", \"American dipper\", \"kite (bird of prey)\", \"bald eagle\", \"vulture\", \"great grey owl\", \"fire salamander\", \"smooth newt\", \"newt\", \"spotted salamander\", \"axolotl\", \"American bullfrog\", \"tree frog\", \"tailed frog\", \"loggerhead sea turtle\", \"leatherback sea turtle\", \"mud turtle\", \"terrapin\", \"box turtle\", \"banded gecko\", \"green iguana\", \"Carolina anole\", \"desert grassland whiptail lizard\", \"agama\", \"frilled-necked lizard\", \"alligator lizard\", \"Gila monster\", \"European green lizard\", \"chameleon\", \"Komodo dragon\", \"Nile crocodile\", \"American alligator\", \"triceratops\", \"worm snake\", \"ring-necked snake\", \"eastern hog-nosed snake\", \"smooth green snake\", \"kingsnake\", \"garter snake\", \"water snake\", \"vine snake\", \"night snake\", \"boa constrictor\", \"African rock python\", \"Indian cobra\", \"green mamba\", \"sea snake\", \"Saharan horned viper\", \"eastern diamondback rattlesnake\", \"sidewinder rattlesnake\", \"trilobite\", \"harvestman\", \"scorpion\", \"yellow garden spider\", \"barn spider\", \"European garden spider\", \"southern black widow\", \"tarantula\", \"wolf spider\", \"tick\", \"centipede\", \"black grouse\", \"ptarmigan\", \"ruffed grouse\", \"prairie grouse\", \"peafowl\", \"quail\", \"partridge\", \"african grey parrot\", \"macaw\", \"sulphur-crested cockatoo\", \"lorikeet\", \"coucal\", \"bee eater\", \"hornbill\", \"hummingbird\", \"jacamar\", \"toucan\", \"duck\", \"red-breasted merganser\", \"goose\", \"black swan\", \"tusker\", \"echidna\", \"platypus\", \"wallaby\", \"koala\", \"wombat\", \"jellyfish\", \"sea anemone\", \"brain coral\", \"flatworm\", \"nematode\", \"conch\", \"snail\", \"slug\", \"sea slug\", \"chiton\", \"chambered nautilus\", \"Dungeness crab\", \"rock crab\", \"fiddler crab\", \"red king crab\", \"American lobster\", \"spiny lobster\", \"crayfish\", \"hermit crab\", \"isopod\", \"white stork\", \"black stork\", \"spoonbill\", \"flamingo\", \"little blue heron\", \"great egret\", \"bittern bird\", \"crane bird\", \"limpkin\", \"common gallinule\", \"American coot\", \"bustard\", \"ruddy turnstone\", \"dunlin\", \"common redshank\", \"dowitcher\", \"oystercatcher\", \"pelican\", \"king penguin\", \"albatross\", \"grey whale\", \"killer whale\", \"dugong\", \"sea lion\", \"Chihuahua\", \"Japanese Chin\", \"Maltese\", \"Pekingese\", \"Shih Tzu\", \"King Charles Spaniel\", \"Papillon\", \"toy terrier\", \"Rhodesian Ridgeback\", \"Afghan Hound\", \"Basset Hound\", \"Beagle\", \"Bloodhound\", \"Bluetick Coonhound\", \"Black and Tan Coonhound\", \"Treeing Walker Coonhound\", \"English foxhound\", \"Redbone Coonhound\", \"borzoi\", \"Irish Wolfhound\", \"Italian Greyhound\", \"Whippet\", \"Ibizan Hound\", \"Norwegian Elkhound\", \"Otterhound\", \"Saluki\", \"Scottish Deerhound\", \"Weimaraner\", \"Staffordshire Bull Terrier\", \"American Staffordshire Terrier\", \"Bedlington Terrier\", \"Border Terrier\", \"Kerry Blue Terrier\", \"Irish Terrier\", \"Norfolk Terrier\", \"Norwich Terrier\", \"Yorkshire Terrier\", \"Wire Fox Terrier\", \"Lakeland Terrier\", \"Sealyham Terrier\", \"Airedale Terrier\", \"Cairn Terrier\", \"Australian Terrier\", \"Dandie Dinmont Terrier\", \"Boston Terrier\", \"Miniature Schnauzer\", \"Giant Schnauzer\", \"Standard Schnauzer\", \"Scottish Terrier\", \"Tibetan Terrier\", \"Australian Silky Terrier\", \"Soft-coated Wheaten Terrier\", \"West Highland White Terrier\", \"Lhasa Apso\", \"Flat-Coated Retriever\", \"Curly-coated Retriever\", \"Golden Retriever\", \"Labrador Retriever\", \"Chesapeake Bay Retriever\", \"German Shorthaired Pointer\", \"Vizsla\", \"English Setter\", \"Irish Setter\", \"Gordon Setter\", \"Brittany dog\", \"Clumber Spaniel\", \"English Springer Spaniel\", \"Welsh Springer Spaniel\", \"Cocker Spaniel\", \"Sussex Spaniel\", \"Irish Water Spaniel\", \"Kuvasz\", \"Schipperke\", \"Groenendael dog\", \"Malinois\", \"Briard\", \"Australian Kelpie\", \"Komondor\", \"Old English Sheepdog\", \"Shetland Sheepdog\", \"collie\", \"Border Collie\", \"Bouvier des Flandres dog\", \"Rottweiler\", \"German Shepherd Dog\", \"Dobermann\", \"Miniature Pinscher\", \"Greater Swiss Mountain Dog\", \"Bernese Mountain Dog\", \"Appenzeller Sennenhund\", \"Entlebucher Sennenhund\", \"Boxer\", \"Bullmastiff\", \"Tibetan Mastiff\", \"French Bulldog\", \"Great Dane\", \"St. Bernard\", \"husky\", \"Alaskan Malamute\", \"Siberian Husky\", \"Dalmatian\", \"Affenpinscher\", \"Basenji\", \"pug\", \"Leonberger\", \"Newfoundland dog\", \"Great Pyrenees dog\", \"Samoyed\", \"Pomeranian\", \"Chow Chow\", \"Keeshond\", \"brussels griffon\", \"Pembroke Welsh Corgi\", \"Cardigan Welsh Corgi\", \"Toy Poodle\", \"Miniature Poodle\", \"Standard Poodle\", \"Mexican hairless dog (xoloitzcuintli)\", \"grey wolf\", \"Alaskan tundra wolf\", \"red wolf or maned wolf\", \"coyote\", \"dingo\", \"dhole\", \"African wild dog\", \"hyena\", \"red fox\", \"kit fox\", \"Arctic fox\", \"grey fox\", \"tabby cat\", \"tiger cat\", \"Persian cat\", \"Siamese cat\", \"Egyptian Mau\", \"cougar\", \"lynx\", \"leopard\", \"snow leopard\", \"jaguar\", \"lion\", \"tiger\", \"cheetah\", \"brown bear\", \"American black bear\", \"polar bear\", \"sloth bear\", \"mongoose\", \"meerkat\", \"tiger beetle\", \"ladybug\", \"ground beetle\", \"longhorn beetle\", \"leaf beetle\", \"dung beetle\", \"rhinoceros beetle\", \"weevil\", \"fly\", \"bee\", \"ant\", \"grasshopper\", \"cricket insect\", \"stick insect\", \"cockroach\", \"praying mantis\", \"cicada\", \"leafhopper\", \"lacewing\", \"dragonfly\", \"damselfly\", \"red admiral butterfly\", \"ringlet butterfly\", \"monarch butterfly\", \"small white butterfly\", \"sulphur butterfly\", \"gossamer-winged butterfly\", \"starfish\", \"sea urchin\", \"sea cucumber\", \"cottontail rabbit\", \"hare\", \"Angora rabbit\", \"hamster\", \"porcupine\", \"fox squirrel\", \"marmot\", \"beaver\", \"guinea pig\", \"common sorrel horse\", \"zebra\", \"pig\", \"wild boar\", \"warthog\", \"hippopotamus\", \"ox\", \"water buffalo\", \"bison\", \"ram (adult male sheep)\", \"bighorn sheep\", \"Alpine ibex\", \"hartebeest\", \"impala (antelope)\", \"gazelle\", \"arabian camel\", \"llama\", \"weasel\", \"mink\", \"European polecat\", \"black-footed ferret\", \"otter\", \"skunk\", \"badger\", \"armadillo\", \"three-toed sloth\", \"orangutan\", \"gorilla\", \"chimpanzee\", \"gibbon\", \"siamang\", \"guenon\", \"patas monkey\", \"baboon\", \"macaque\", \"langur\", \"black-and-white colobus\", \"proboscis monkey\", \"marmoset\", \"white-headed capuchin\", \"howler monkey\", \"titi monkey\", \"Geoffroy's spider monkey\", \"common squirrel monkey\", \"ring-tailed lemur\", \"indri\", \"Asian elephant\", \"African bush elephant\", \"red panda\", \"giant panda\", \"snoek fish\", \"eel\", \"silver salmon\", \"rock beauty fish\", \"clownfish\", \"sturgeon\", \"gar fish\", \"lionfish\", \"pufferfish\", \"abacus\", \"abaya\", \"academic gown\", \"accordion\", \"acoustic guitar\", \"aircraft carrier\", \"airliner\", \"airship\", \"altar\", \"ambulance\", \"amphibious vehicle\", \"analog clock\", \"apiary\", \"apron\", \"trash can\", \"assault rifle\", \"backpack\", \"bakery\", \"balance beam\", \"balloon\", \"ballpoint pen\", \"Band-Aid\", \"banjo\", \"baluster / handrail\", \"barbell\", \"barber chair\", \"barbershop\", \"barn\", \"barometer\", \"barrel\", \"wheelbarrow\", \"baseball\", \"basketball\", \"bassinet\", \"bassoon\", \"swimming cap\", \"bath towel\", \"bathtub\", \"station wagon\", \"lighthouse\", \"beaker\", \"military hat (bearskin or shako)\", \"beer bottle\", \"beer glass\", \"bell tower\", \"baby bib\", \"tandem bicycle\", \"bikini\", \"ring binder\", \"binoculars\", \"birdhouse\", \"boathouse\", \"bobsleigh\", \"bolo tie\", \"poke bonnet\", \"bookcase\", \"bookstore\", \"bottle cap\", \"hunting bow\", \"bow tie\", \"brass memorial plaque\", \"bra\", \"breakwater\", \"breastplate\", \"broom\", \"bucket\", \"buckle\", \"bulletproof vest\", \"high-speed train\", \"butcher shop\", \"taxicab\", \"cauldron\", \"candle\", \"cannon\", \"canoe\", \"can opener\", \"cardigan\", \"car mirror\", \"carousel\", \"tool kit\", \"cardboard box / carton\", \"car wheel\", \"automated teller machine\", \"cassette\", \"cassette player\", \"castle\", \"catamaran\", \"CD player\", \"cello\", \"mobile phone\", \"chain\", \"chain-link fence\", \"chain mail\", \"chainsaw\", \"storage chest\", \"chiffonier\", \"bell or wind chime\", \"china cabinet\", \"Christmas stocking\", \"church\", \"movie theater\", \"cleaver\", \"cliff dwelling\", \"cloak\", \"clogs\", \"cocktail shaker\", \"coffee mug\", \"coffeemaker\", \"spiral or coil\", \"combination lock\", \"computer keyboard\", \"candy store\", \"container ship\", \"convertible\", \"corkscrew\", \"cornet\", \"cowboy boot\", \"cowboy hat\", \"cradle\", \"construction crane\", \"crash helmet\", \"crate\", \"infant bed\", \"Crock Pot\", \"croquet ball\", \"crutch\", \"cuirass\", \"dam\", \"desk\", \"desktop computer\", \"rotary dial telephone\", \"diaper\", \"digital clock\", \"digital watch\", \"dining table\", \"dishcloth\", \"dishwasher\", \"disc brake\", \"dock\", \"dog sled\", \"dome\", \"doormat\", \"drilling rig\", \"drum\", \"drumstick\", \"dumbbell\", \"Dutch oven\", \"electric fan\", \"electric guitar\", \"electric locomotive\", \"entertainment center\", \"envelope\", \"espresso machine\", \"face powder\", \"feather boa\", \"filing cabinet\", \"fireboat\", \"fire truck\", \"fire screen\", \"flagpole\", \"flute\", \"folding chair\", \"football helmet\", \"forklift\", \"fountain\", \"fountain pen\", \"four-poster bed\", \"freight car\", \"French horn\", \"frying pan\", \"fur coat\", \"garbage truck\", \"gas mask or respirator\", \"gas pump\", \"goblet\", \"go-kart\", \"golf ball\", \"golf cart\", \"gondola\", \"gong\", \"gown\", \"grand piano\", \"greenhouse\", \"radiator grille\", \"grocery store\", \"guillotine\", \"hair clip\", \"hair spray\", \"half-track\", \"hammer\", \"hamper\", \"hair dryer\", \"hand-held computer\", \"handkerchief\", \"hard disk drive\", \"harmonica\", \"harp\", \"combine harvester\", \"hatchet\", \"holster\", \"home theater\", \"honeycomb\", \"hook\", \"hoop skirt\", \"gymnastic horizontal bar\", \"horse-drawn vehicle\", \"hourglass\", \"iPod\", \"clothes iron\", \"carved pumpkin\", \"jeans\", \"jeep\", \"T-shirt\", \"jigsaw puzzle\", \"rickshaw\", \"joystick\", \"kimono\", \"knee pad\", \"knot\", \"lab coat\", \"ladle\", \"lampshade\", \"laptop computer\", \"lawn mower\", \"lens cap\", \"letter opener\", \"library\", \"lifeboat\", \"lighter\", \"limousine\", \"ocean liner\", \"lipstick\", \"slip-on shoe\", \"lotion\", \"music speaker\", \"loupe magnifying glass\", \"sawmill\", \"magnetic compass\", \"messenger bag\", \"mailbox\", \"tights\", \"one-piece bathing suit\", \"manhole cover\", \"maraca\", \"marimba\", \"mask\", \"matchstick\", \"maypole\", \"maze\", \"measuring cup\", \"medicine cabinet\", \"megalith\", \"microphone\", \"microwave oven\", \"military uniform\", \"milk can\", \"minibus\", \"miniskirt\", \"minivan\", \"missile\", \"mitten\", \"mixing bowl\", \"mobile home\", \"ford model t\", \"modem\", \"monastery\", \"monitor\", \"moped\", \"mortar and pestle\", \"graduation cap\", \"mosque\", \"mosquito net\", \"vespa\", \"mountain bike\", \"tent\", \"computer mouse\", \"mousetrap\", \"moving van\", \"muzzle\", \"metal nail\", \"neck brace\", \"necklace\", \"baby pacifier\", \"notebook computer\", \"obelisk\", \"oboe\", \"ocarina\", \"odometer\", \"oil filter\", \"pipe organ\", \"oscilloscope\", \"overskirt\", \"bullock cart\", \"oxygen mask\", \"product packet / packaging\", \"paddle\", \"paddle wheel\", \"padlock\", \"paintbrush\", \"pajamas\", \"palace\", \"pan flute\", \"paper towel\", \"parachute\", \"parallel bars\", \"park bench\", \"parking meter\", \"railroad car\", \"patio\", \"payphone\", \"pedestal\", \"pencil case\", \"pencil sharpener\", \"perfume\", \"Petri dish\", \"photocopier\", \"plectrum\", \"Pickelhaube\", \"picket fence\", \"pickup truck\", \"pier\", \"piggy bank\", \"pill bottle\", \"pillow\", \"ping-pong ball\", \"pinwheel\", \"pirate ship\", \"drink pitcher\", \"block plane\", \"planetarium\", \"plastic bag\", \"plate rack\", \"farm plow\", \"plunger\", \"Polaroid camera\", \"pole\", \"police van\", \"poncho\", \"pool table\", \"soda bottle\", \"plant pot\", \"potter's wheel\", \"power drill\", \"prayer rug\", \"printer\", \"prison\", \"missile\", \"projector\", \"hockey puck\", \"punching bag\", \"purse\", \"quill\", \"quilt\", \"race car\", \"racket\", \"radiator\", \"radio\", \"radio telescope\", \"rain barrel\", \"recreational vehicle\", \"fishing casting reel\", \"reflex camera\", \"refrigerator\", \"remote control\", \"restaurant\", \"revolver\", \"rifle\", \"rocking chair\", \"rotisserie\", \"eraser\", \"rugby ball\", \"ruler measuring stick\", \"sneaker\", \"safe\", \"safety pin\", \"salt shaker\", \"sandal\", \"sarong\", \"saxophone\", \"scabbard\", \"weighing scale\", \"school bus\", \"schooner\", \"scoreboard\", \"CRT monitor\", \"screw\", \"screwdriver\", \"seat belt\", \"sewing machine\", \"shield\", \"shoe store\", \"shoji screen / room divider\", \"shopping basket\", \"shopping cart\", \"shovel\", \"shower cap\", \"shower curtain\", \"ski\", \"balaclava ski mask\", \"sleeping bag\", \"slide rule\", \"sliding door\", \"slot machine\", \"snorkel\", \"snowmobile\", \"snowplow\", \"soap dispenser\", \"soccer ball\", \"sock\", \"solar thermal collector\", \"sombrero\", \"soup bowl\", \"keyboard space bar\", \"space heater\", \"space shuttle\", \"spatula\", \"motorboat\", \"spider web\", \"spindle\", \"sports car\", \"spotlight\", \"stage\", \"steam locomotive\", \"through arch bridge\", \"steel drum\", \"stethoscope\", \"scarf\", \"stone wall\", \"stopwatch\", \"stove\", \"strainer\", \"tram\", \"stretcher\", \"couch\", \"stupa\", \"submarine\", \"suit\", \"sundial\", \"sunglasses\", \"sunglasses\", \"sunscreen\", \"suspension bridge\", \"mop\", \"sweatshirt\", \"swim trunks / shorts\", \"swing\", \"electrical switch\", \"syringe\", \"table lamp\", \"tank\", \"tape player\", \"teapot\", \"teddy bear\", \"television\", \"tennis ball\", \"thatched roof\", \"front curtain\", \"thimble\", \"threshing machine\", \"throne\", \"tile roof\", \"toaster\", \"tobacco shop\", \"toilet seat\", \"torch\", \"totem pole\", \"tow truck\", \"toy store\", \"tractor\", \"semi-trailer truck\", \"tray\", \"trench coat\", \"tricycle\", \"trimaran\", \"tripod\", \"triumphal arch\", \"trolleybus\", \"trombone\", \"hot tub\", \"turnstile\", \"typewriter keyboard\", \"umbrella\", \"unicycle\", \"upright piano\", \"vacuum cleaner\", \"vase\", \"vaulted or arched ceiling\", \"velvet fabric\", \"vending machine\", \"vestment\", \"viaduct\", \"violin\", \"volleyball\", \"waffle iron\", \"wall clock\", \"wallet\", \"wardrobe\", \"military aircraft\", \"sink\", \"washing machine\", \"water bottle\", \"water jug\", \"water tower\", \"whiskey jug\", \"whistle\", \"hair wig\", \"window screen\", \"window shade\", \"Windsor tie\", \"wine bottle\", \"airplane wing\", \"wok\", \"wooden spoon\", \"wool\", \"split-rail fence\", \"shipwreck\", \"sailboat\", \"yurt\", \"website\", \"comic book\", \"crossword\", \"traffic or street sign\", \"traffic light\", \"dust jacket\", \"menu\", \"plate\", \"guacamole\", \"consomme\", \"hot pot\", \"trifle\", \"ice cream\", \"popsicle\", \"baguette\", \"bagel\", \"pretzel\", \"cheeseburger\", \"hot dog\", \"mashed potatoes\", \"cabbage\", \"broccoli\", \"cauliflower\", \"zucchini\", \"spaghetti squash\", \"acorn squash\", \"butternut squash\", \"cucumber\", \"artichoke\", \"bell pepper\", \"cardoon\", \"mushroom\", \"Granny Smith apple\", \"strawberry\", \"orange\", \"lemon\", \"fig\", \"pineapple\", \"banana\", \"jackfruit\", \"cherimoya (custard apple)\", \"pomegranate\", \"hay\", \"carbonara\", \"chocolate syrup\", \"dough\", \"meatloaf\", \"pizza\", \"pot pie\", \"burrito\", \"red wine\", \"espresso\", \"tea cup\", \"eggnog\", \"mountain\", \"bubble\", \"cliff\", \"coral reef\", \"geyser\", \"lakeshore\", \"promontory\", \"sandbar\", \"beach\", \"valley\", \"volcano\", \"baseball player\", \"bridegroom\", \"scuba diver\", \"rapeseed\", \"daisy\", \"yellow lady's slipper\", \"corn\", \"acorn\", \"rose hip\", \"horse chestnut seed\", \"coral fungus\", \"agaric\", \"gyromitra\", \"stinkhorn mushroom\", \"earth star fungus\", \"hen of the woods mushroom\", \"bolete\", \"corn cob\", \"toilet paper\"]"
   ]
  },
  {
   "cell_type": "code",
   "execution_count": null,
   "metadata": {},
   "outputs": [],
   "source": [
    "imagenet_templates = [\n",
    "    'a bad photo of a {}.',\n",
    "    'a photo of many {}.',\n",
    "    'a sculpture of a {}.',\n",
    "    'a photo of the hard to see {}.',\n",
    "    'a low resolution photo of the {}.',\n",
    "    'a rendering of a {}.',\n",
    "    'graffiti of a {}.',\n",
    "    'a bad photo of the {}.',\n",
    "    'a cropped photo of the {}.',\n",
    "    'a tattoo of a {}.',\n",
    "    'the embroidered {}.',\n",
    "    'a photo of a hard to see {}.',\n",
    "    'a bright photo of a {}.',\n",
    "    'a photo of a clean {}.',\n",
    "    'a photo of a dirty {}.',\n",
    "    'a dark photo of the {}.',\n",
    "    'a drawing of a {}.',\n",
    "    'a photo of my {}.',\n",
    "    'the plastic {}.',\n",
    "    'a photo of the cool {}.',\n",
    "    'a close-up photo of a {}.',\n",
    "    'a black and white photo of the {}.',\n",
    "    'a painting of the {}.',\n",
    "    'a painting of a {}.',\n",
    "    'a pixelated photo of the {}.',\n",
    "    'a sculpture of the {}.',\n",
    "    'a bright photo of the {}.',\n",
    "    'a cropped photo of a {}.',\n",
    "    'a plastic {}.',\n",
    "    'a photo of the dirty {}.',\n",
    "    'a jpeg corrupted photo of a {}.',\n",
    "    'a blurry photo of the {}.',\n",
    "    'a photo of the {}.',\n",
    "    'a good photo of the {}.',\n",
    "    'a rendering of the {}.',\n",
    "    'a {} in a video game.',\n",
    "    'a photo of one {}.',\n",
    "    'a doodle of a {}.',\n",
    "    'a close-up photo of the {}.',\n",
    "    'a photo of a {}.',\n",
    "    'the origami {}.',\n",
    "    'the {} in a video game.',\n",
    "    'a sketch of a {}.',\n",
    "    'a doodle of the {}.',\n",
    "    'a origami {}.',\n",
    "    'a low resolution photo of a {}.',\n",
    "    'the toy {}.',\n",
    "    'a rendition of the {}.',\n",
    "    'a photo of the clean {}.',\n",
    "    'a photo of a large {}.',\n",
    "    'a rendition of a {}.',\n",
    "    'a photo of a nice {}.',\n",
    "    'a photo of a weird {}.',\n",
    "    'a blurry photo of a {}.',\n",
    "    'a cartoon {}.',\n",
    "    'art of a {}.',\n",
    "    'a sketch of the {}.',\n",
    "    'a embroidered {}.',\n",
    "    'a pixelated photo of a {}.',\n",
    "    'itap of the {}.',\n",
    "    'a jpeg corrupted photo of the {}.',\n",
    "    'a good photo of a {}.',\n",
    "    'a plushie {}.',\n",
    "    'a photo of the nice {}.',\n",
    "    'a photo of the small {}.',\n",
    "    'a photo of the weird {}.',\n",
    "    'the cartoon {}.',\n",
    "    'art of the {}.',\n",
    "    'a drawing of the {}.',\n",
    "    'a photo of the large {}.',\n",
    "    'a black and white photo of a {}.',\n",
    "    'the plushie {}.',\n",
    "    'a dark photo of a {}.',\n",
    "    'itap of a {}.',\n",
    "    'graffiti of the {}.',\n",
    "    'a toy {}.',\n",
    "    'itap of my {}.',\n",
    "    'a photo of a cool {}.',\n",
    "    'a photo of a small {}.',\n",
    "    'a tattoo of the {}.',\n",
    "]\n",
    "\n",
    "print(f\"{len(imagenet_classes)} classes, {len(imagenet_templates)} templates\")"
   ]
  },
  {
   "cell_type": "code",
   "execution_count": null,
   "metadata": {},
   "outputs": [],
   "source": [
    "images = ImageNetV2Dataset(transform=preprocess)\n",
    "loader = torch.utils.data.DataLoader(images, batch_size=32, num_workers=2)"
   ]
  },
  {
   "cell_type": "code",
   "execution_count": null,
   "metadata": {},
   "outputs": [],
   "source": [
    "def zeroshot_classifier(classnames, templates):\n",
    "    with torch.no_grad():\n",
    "        zeroshot_weights = []\n",
    "        for classname in tqdm(classnames):\n",
    "            texts = [template.format(classname) for template in templates] #format with class\n",
    "            texts = clip.tokenize(texts).cuda() #tokenize\n",
    "            class_embeddings = model.encode_text(texts) #embed with text encoder\n",
    "            class_embeddings /= class_embeddings.norm(dim=-1, keepdim=True)\n",
    "            class_embedding = class_embeddings.mean(dim=0)\n",
    "            class_embedding /= class_embedding.norm()\n",
    "            zeroshot_weights.append(class_embedding)\n",
    "        zeroshot_weights = torch.stack(zeroshot_weights, dim=1).cuda()\n",
    "    return zeroshot_weights\n",
    "\n",
    "\n",
    "zeroshot_weights = zeroshot_classifier(imagenet_classes, imagenet_templates)"
   ]
  },
  {
   "cell_type": "code",
   "execution_count": null,
   "metadata": {},
   "outputs": [],
   "source": [
    "def accuracy(output, target, topk=(1,)):\n",
    "    pred = output.topk(max(topk), 1, True, True)[1].t()\n",
    "    correct = pred.eq(target.view(1, -1).expand_as(pred))\n",
    "    return [float(correct[:k].reshape(-1).float().sum(0, keepdim=True).cpu().numpy()) for k in topk]"
   ]
  },
  {
   "cell_type": "code",
   "execution_count": null,
   "metadata": {},
   "outputs": [],
   "source": [
    "with torch.no_grad():\n",
    "    top1, top5, n = 0., 0., 0.\n",
    "    for i, (images, target) in enumerate(tqdm(loader)):\n",
    "        images = images.cuda()\n",
    "        target = target.cuda()\n",
    "        \n",
    "        # predict\n",
    "        image_features = model.encode_image(images)\n",
    "        image_features /= image_features.norm(dim=-1, keepdim=True)\n",
    "        logits = 100. * image_features @ zeroshot_weights\n",
    "\n",
    "        # measure accuracy\n",
    "        acc1, acc5 = accuracy(logits, target, topk=(1, 5))\n",
    "        top1 += acc1\n",
    "        top5 += acc5\n",
    "        n += images.size(0)\n",
    "\n",
    "top1 = (top1 / n) * 100\n",
    "top5 = (top5 / n) * 100 \n",
    "\n",
    "print(f\"Top-1 accuracy: {top1:.2f}\")\n",
    "print(f\"Top-5 accuracy: {top5:.2f}\")"
   ]
  },
  {
   "cell_type": "code",
   "execution_count": null,
   "metadata": {},
   "outputs": [],
   "source": [
    "device='cuda'"
   ]
  },
  {
   "cell_type": "code",
   "execution_count": null,
   "metadata": {},
   "outputs": [],
   "source": [
    "# Change these to path of local COCO dataset:\n",
    "coco_root = \"/data/quantizeVL/retrieval/data/mscoco/val2017\"\n",
    "coco_ann_file = \"/data/quantizeVL/retrieval/data/mscoco/annotations/captions_val2017.json\"\n",
    "dataset = CocoCaptions(\n",
    "   root=coco_root,\n",
    "   annFile=coco_ann_file,\n",
    "   transform=preprocess,\n",
    "   # Note: almost all images have 5 captions, but 12/5000 have 6, and 1/5000 has 7 - I ignore these few extra captions.\n",
    "   target_transform=lambda texts: clip.tokenize(texts[:5])\n",
    ")\n",
    "\n",
    "k_vals=[1, 5]"
   ]
  },
  {
   "cell_type": "code",
   "execution_count": null,
   "metadata": {},
   "outputs": [],
   "source": [
    "def encode_dataset(clip, dataset: dutils.Dataset, batch_size = 16):\n",
    "    with torch.no_grad():\n",
    "        # image_to_text_map[i] gives the corresponding text indices for the ith image\n",
    "        #  (as there are multiple pieces of text for each image)\n",
    "        image_to_text_map = []\n",
    "\n",
    "        # text_to_image_map[i] gives the corresponding image index for the ith text\n",
    "        text_to_image_map = []\n",
    "\n",
    "        dataloader = dutils.DataLoader(dataset, batch_size=batch_size, shuffle=False)\n",
    "\n",
    "        image_encodings = []\n",
    "        text_encodings = []\n",
    "\n",
    "        text_index = 0\n",
    "        image_index = 0\n",
    "\n",
    "        for images, text in dataloader:\n",
    "            images = images.to(device)\n",
    "            text = text.to(device)\n",
    "\n",
    "            # text has shape B x 5 x 77\n",
    "            batch_size, captions_per_image, _ = text.shape\n",
    "\n",
    "            # Update text_to_image_map and image_to_text_map for this batch\n",
    "            for i in range(batch_size):\n",
    "                # the next image corresponds to text captions [text_index ... text_index + captions_per_image - 1]\n",
    "                text_indices = list(range(text_index, text_index + captions_per_image))\n",
    "                image_to_text_map.append(text_indices)\n",
    "                text_index += captions_per_image\n",
    "\n",
    "                # Each of the next captions_per_image text captions correspond to the same image\n",
    "                text_to_image_map += [image_index] * captions_per_image\n",
    "                image_index += 1\n",
    "                \n",
    "            # B x 5 x 77 -> (B*5) x 77\n",
    "            text = torch.flatten(text, start_dim=0, end_dim=1)\n",
    "\n",
    "            image_encodings.append(clip.encode_image(images))\n",
    "            text_encodings.append(clip.encode_text(text))\n",
    "\n",
    "        image_encodings = torch.cat(image_encodings)\n",
    "        text_encodings = torch.cat(text_encodings)\n",
    "        text_to_image_map = torch.LongTensor(text_to_image_map).to(device)\n",
    "        image_to_text_map = torch.LongTensor(image_to_text_map).to(device)\n",
    "\n",
    "        # Normalise encodings\n",
    "        image_encodings = image_encodings / image_encodings.norm(dim=-1, keepdim=True)\n",
    "        text_encodings = text_encodings / text_encodings.norm(dim=-1, keepdim=True)\n",
    "\n",
    "        return image_encodings, text_encodings, text_to_image_map, image_to_text_map\n",
    "\n",
    "\n",
    "def recall_at_k(clip, dataset: dutils.Dataset, k_vals: List[int], batch_size: int):\n",
    "    print(\"Encoding all data...\")\n",
    "    image_encodings, text_encodings, text_to_image_map, image_to_text_map = encode_dataset(clip, dataset, batch_size=batch_size)\n",
    "\n",
    "    num_text = text_encodings.shape[0]\n",
    "    num_im = image_encodings.shape[0]\n",
    "    captions_per_image = image_to_text_map.shape[1]\n",
    "\n",
    "    # text-to-image recall\n",
    "    print(\"Text-to-image recall...\")\n",
    "\n",
    "    dist_matrix = text_encodings @ image_encodings.T  # dist_matrix[i] gives logits for ith text\n",
    "\n",
    "    # Note: this matrix is pretty big (5000 x 25000 with dtype float16 = 250MB)\n",
    "    #  torch.argsort runs out of memory for me (6GB VRAM) so I move to CPU for sorting\n",
    "    dist_matrix = dist_matrix.cpu()\n",
    "\n",
    "    # Sort in descending order; first is the biggest logit\n",
    "    inds = torch.argsort(dist_matrix, dim=1, descending=True)\n",
    "    inds = inds.to(device)\n",
    "\n",
    "    text_to_image_recall = []\n",
    "\n",
    "    for k in k_vals:\n",
    "        # Extract top k indices only\n",
    "        topk = inds[:, :k]\n",
    "\n",
    "        # Correct iff one of the top_k values equals the correct image (as given by text_to_image_map)\n",
    "        correct = torch.eq(topk, text_to_image_map.unsqueeze(-1)).any(dim=1)\n",
    "\n",
    "        num_correct = correct.sum().item()\n",
    "        text_to_image_recall.append(num_correct / num_text)\n",
    "\n",
    "\n",
    "    # image-to-text recall\n",
    "    print(\"Image-to-text recall...\")\n",
    "    dist_matrix = dist_matrix.T  # dist_matrix[i] gives logits for the ith image\n",
    "\n",
    "    # Sort in descending order; first is the biggest logit\n",
    "    inds = torch.argsort(dist_matrix, dim=1, descending=True)\n",
    "    inds = inds.to(device)\n",
    "\n",
    "    image_to_text_recall = []\n",
    "\n",
    "    for k in k_vals:\n",
    "        # Extract top k indices only\n",
    "        topk = inds[:, :k]\n",
    "\n",
    "        correct = torch.zeros((num_im,), dtype=torch.bool).cuda()\n",
    "\n",
    "        #  For each image, check whether one of the 5 relevant captions was retrieved\n",
    "        # Check if image matches its ith caption (for i=0..4)\n",
    "        for i in range(captions_per_image):\n",
    "            contains_index = torch.eq(topk, image_to_text_map[:, i].unsqueeze(-1)).any(dim=1)\n",
    "            correct = torch.logical_or(correct, contains_index)\n",
    "\n",
    "        num_correct = correct.sum().item()\n",
    "        image_to_text_recall.append(num_correct / num_im)#\n",
    "\n",
    "    print(\"Done.\")\n",
    "    return text_to_image_recall, image_to_text_recall"
   ]
  },
  {
   "cell_type": "code",
   "execution_count": null,
   "metadata": {},
   "outputs": [],
   "source": [
    "\n",
    " t2i, i2t = recall_at_k(model, dataset, k_vals=k_vals, batch_size=16)\n",
    " \n",
    " print(\"Text-to-image Recall@K\")\n",
    " for k, x in zip(k_vals, t2i):\n",
    "     print(f\" R@{k}: {100*x:.2f}%\")\n",
    "\n",
    " print(\"Image-to-text Recall@K\")\n",
    " for k, x in zip(k_vals, i2t):\n",
    "     print(f\" R@{k}: {100*x:.2f}%\")\n",
    " print(\" \")\n",
    "                                      "
   ]
  },
  {
   "cell_type": "code",
   "execution_count": null,
   "metadata": {},
   "outputs": [],
   "source": [
    "# Image Captioning"
   ]
  },
  {
   "cell_type": "code",
   "execution_count": null,
   "metadata": {},
   "outputs": [],
   "source": []
  },
  {
   "cell_type": "code",
   "execution_count": null,
   "metadata": {},
   "outputs": [],
   "source": []
  }
 ],
 "metadata": {
  "kernelspec": {
   "display_name": "Python 3 (ipykernel)",
   "language": "python",
   "name": "python3"
  },
  "language_info": {
   "codemirror_mode": {
    "name": "ipython",
    "version": 3
   },
   "file_extension": ".py",
   "mimetype": "text/x-python",
   "name": "python",
   "nbconvert_exporter": "python",
   "pygments_lexer": "ipython3",
   "version": "3.10.9"
  }
 },
 "nbformat": 4,
 "nbformat_minor": 4
}
