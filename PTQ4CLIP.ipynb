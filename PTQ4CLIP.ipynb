{
 "cells": [
  {
   "cell_type": "code",
   "execution_count": 1,
   "metadata": {},
   "outputs": [
    {
     "name": "stdout",
     "output_type": "stream",
     "text": [
      "Defaulting to user installation because normal site-packages is not writeable\n",
      "Collecting git+https://github.com/modestyachts/ImageNetV2_pytorch\n",
      "  Cloning https://github.com/modestyachts/ImageNetV2_pytorch to /tmp/pip-req-build-u_uvnf9y\n",
      "  Running command git clone --filter=blob:none --quiet https://github.com/modestyachts/ImageNetV2_pytorch /tmp/pip-req-build-u_uvnf9y\n",
      "  Resolved https://github.com/modestyachts/ImageNetV2_pytorch to commit 14d4456c39fe7f02a665544dd9fc37c1a5f8b635\n",
      "  Preparing metadata (setup.py) ... \u001b[?25ldone\n",
      "\u001b[?25h"
     ]
    },
    {
     "name": "stderr",
     "output_type": "stream",
     "text": [
      "/home/subuntu/.local/lib/python3.10/site-packages/tqdm/auto.py:21: TqdmWarning: IProgress not found. Please update jupyter and ipywidgets. See https://ipywidgets.readthedocs.io/en/stable/user_install.html\n",
      "  from .autonotebook import tqdm as notebook_tqdm\n"
     ]
    },
    {
     "name": "stdout",
     "output_type": "stream",
     "text": [
      "['.', '..', '/mnt/c/Users/sunde/Desktop/DL-Project', '/usr/lib/python310.zip', '/usr/lib/python3.10', '/usr/lib/python3.10/lib-dynload', '', '/home/subuntu/.local/lib/python3.10/site-packages', '/usr/local/lib/python3.10/dist-packages', '/usr/lib/python3/dist-packages', './PTQ4ViT', './PTQ4ViT/utils']\n"
     ]
    }
   ],
   "source": [
    "! pip install git+https://github.com/modestyachts/ImageNetV2_pytorch\n",
    "\n",
    "from imagenetv2_pytorch import ImageNetV2Dataset\n",
    "import clip\n",
    "from dataset import VLImageDataset\n",
    "import torch\n",
    "from tqdm import tqdm\n",
    "import sys\n",
    "sys.path.insert(0,'..')\n",
    "sys.path.insert(0,'.')\n",
    "import torch\n",
    "import torch.nn as nn\n",
    "from tqdm import tqdm\n",
    "import argparse\n",
    "from importlib import reload,import_module\n",
    "import multiprocessing\n",
    "import os\n",
    "import time\n",
    "from itertools import product\n",
    "sys.path.append(\"./PTQ4ViT\")\n",
    "import PTQ4ViT.utils.datasets as datasets\n",
    "import PTQ4ViT.utils.net_wrap as net_wrap\n",
    "from PTQ4ViT.utils.quant_calib import QuantCalibrator, HessianQuantCalibrator\n",
    "from PTQ4ViT.utils.models import get_net\n",
    "from dataset import VLImageDataset, VLLoader\n"
   ]
  },
  {
   "cell_type": "code",
   "execution_count": 2,
   "metadata": {},
   "outputs": [],
   "source": [
    "model, preprocess = clip.load(\"ViT-B/32\", device=\"cuda\")\n"
   ]
  },
  {
   "cell_type": "code",
   "execution_count": 3,
   "metadata": {},
   "outputs": [],
   "source": [
    "def test_classification(net,test_loader,max_iteration=None, description=None):\n",
    "    pos=0\n",
    "    tot=0\n",
    "    i = 0\n",
    "    max_iteration = len(test_loader) if max_iteration is None else max_iteration\n",
    "    with torch.no_grad():\n",
    "        q=tqdm(test_loader, desc=description)\n",
    "        for inp,target in q:\n",
    "            i+=1\n",
    "            inp=inp.cuda()\n",
    "            target=target.cuda()\n",
    "            out=net(inp)\n",
    "            pos_num=torch.sum(out.argmax(1)==target).item()\n",
    "            pos+=pos_num\n",
    "            tot+=inp.size(0)\n",
    "            q.set_postfix({\"acc\":pos/tot})\n",
    "            if i >= max_iteration:\n",
    "                break\n",
    "    print(pos/tot)\n",
    "    return pos/tot"
   ]
  },
  {
   "cell_type": "code",
   "execution_count": 4,
   "metadata": {},
   "outputs": [],
   "source": [
    "def init_config(config_name):\n",
    "    \"\"\"initialize the config. Use reload to make sure it's fresh one!\"\"\"\n",
    "    _,_,files =  next(os.walk(\"PTQ4Vit/configs\"))\n",
    "    if config_name+\".py\" in files:\n",
    "        quant_cfg = import_module(f\"configs.{config_name}\")\n",
    "    else:\n",
    "        raise NotImplementedError(f\"Invalid config name {config_name}\")\n",
    "    reload(quant_cfg)\n",
    "    return quant_cfg"
   ]
  },
  {
   "cell_type": "code",
   "execution_count": 5,
   "metadata": {},
   "outputs": [
    {
     "name": "stdout",
     "output_type": "stream",
     "text": [
      "[9567 5382 8010 6719 4907 2300  196 6102 4578 1337 8407 1985 1784 7310\n",
      " 5207 3157 2584 9639 6686 3232 4035 7140 1528 5253 8013 4905 3027 5901\n",
      " 6461  131 4788 4952]\n"
     ]
    }
   ],
   "source": [
    "image_features, text_features, target = VLLoader(model, preprocess)\n",
    "\n",
    "g = VLImageDataset(image_features, text_features, target)\n",
    "calib_loader = torch.utils.data.DataLoader(g, batch_size=32, num_workers=1)\n",
    "\n",
    "\n"
   ]
  },
  {
   "cell_type": "code",
   "execution_count": 6,
   "metadata": {},
   "outputs": [
    {
     "name": "stdout",
     "output_type": "stream",
     "text": [
      "out_proj\n",
      "c_fc\n",
      "c_proj\n",
      "out_proj\n",
      "c_fc\n",
      "c_proj\n",
      "out_proj\n",
      "c_fc\n",
      "c_proj\n",
      "out_proj\n",
      "c_fc\n",
      "c_proj\n",
      "out_proj\n",
      "c_fc\n",
      "c_proj\n",
      "out_proj\n",
      "c_fc\n",
      "c_proj\n",
      "out_proj\n",
      "c_fc\n",
      "c_proj\n",
      "out_proj\n",
      "c_fc\n",
      "c_proj\n",
      "out_proj\n",
      "c_fc\n",
      "c_proj\n",
      "out_proj\n",
      "c_fc\n",
      "c_proj\n",
      "out_proj\n",
      "c_fc\n",
      "c_proj\n",
      "out_proj\n",
      "c_fc\n",
      "c_proj\n",
      "out_proj\n",
      "c_fc\n",
      "c_proj\n",
      "out_proj\n",
      "c_fc\n",
      "c_proj\n",
      "out_proj\n",
      "c_fc\n",
      "c_proj\n",
      "out_proj\n",
      "c_fc\n",
      "c_proj\n",
      "out_proj\n",
      "c_fc\n",
      "c_proj\n",
      "out_proj\n",
      "c_fc\n",
      "c_proj\n",
      "out_proj\n",
      "c_fc\n",
      "c_proj\n",
      "out_proj\n",
      "c_fc\n",
      "c_proj\n",
      "out_proj\n",
      "c_fc\n",
      "c_proj\n",
      "out_proj\n",
      "c_fc\n",
      "c_proj\n",
      "out_proj\n",
      "c_fc\n",
      "c_proj\n",
      "out_proj\n",
      "c_fc\n",
      "c_proj\n",
      "Completed net wrap.\n",
      "prepare parallel calibration for ['visual.conv1', 'visual.transformer.resblocks.0.attn.out_proj', 'visual.transformer.resblocks.0.mlp.c_fc', 'visual.transformer.resblocks.0.mlp.c_proj', 'visual.transformer.resblocks.1.attn.out_proj', 'visual.transformer.resblocks.1.mlp.c_fc', 'visual.transformer.resblocks.1.mlp.c_proj', 'visual.transformer.resblocks.2.attn.out_proj', 'visual.transformer.resblocks.2.mlp.c_fc', 'visual.transformer.resblocks.2.mlp.c_proj', 'visual.transformer.resblocks.3.attn.out_proj', 'visual.transformer.resblocks.3.mlp.c_fc', 'visual.transformer.resblocks.3.mlp.c_proj', 'visual.transformer.resblocks.4.attn.out_proj', 'visual.transformer.resblocks.4.mlp.c_fc', 'visual.transformer.resblocks.4.mlp.c_proj', 'visual.transformer.resblocks.5.attn.out_proj', 'visual.transformer.resblocks.5.mlp.c_fc', 'visual.transformer.resblocks.5.mlp.c_proj', 'visual.transformer.resblocks.6.attn.out_proj', 'visual.transformer.resblocks.6.mlp.c_fc', 'visual.transformer.resblocks.6.mlp.c_proj', 'visual.transformer.resblocks.7.attn.out_proj', 'visual.transformer.resblocks.7.mlp.c_fc', 'visual.transformer.resblocks.7.mlp.c_proj', 'visual.transformer.resblocks.8.attn.out_proj', 'visual.transformer.resblocks.8.mlp.c_fc', 'visual.transformer.resblocks.8.mlp.c_proj', 'visual.transformer.resblocks.9.attn.out_proj', 'visual.transformer.resblocks.9.mlp.c_fc', 'visual.transformer.resblocks.9.mlp.c_proj', 'visual.transformer.resblocks.10.attn.out_proj', 'visual.transformer.resblocks.10.mlp.c_fc', 'visual.transformer.resblocks.10.mlp.c_proj', 'visual.transformer.resblocks.11.attn.out_proj', 'visual.transformer.resblocks.11.mlp.c_fc', 'visual.transformer.resblocks.11.mlp.c_proj', 'transformer.resblocks.0.attn.out_proj', 'transformer.resblocks.0.mlp.c_fc', 'transformer.resblocks.0.mlp.c_proj', 'transformer.resblocks.1.attn.out_proj', 'transformer.resblocks.1.mlp.c_fc', 'transformer.resblocks.1.mlp.c_proj', 'transformer.resblocks.2.attn.out_proj', 'transformer.resblocks.2.mlp.c_fc', 'transformer.resblocks.2.mlp.c_proj', 'transformer.resblocks.3.attn.out_proj', 'transformer.resblocks.3.mlp.c_fc', 'transformer.resblocks.3.mlp.c_proj', 'transformer.resblocks.4.attn.out_proj', 'transformer.resblocks.4.mlp.c_fc', 'transformer.resblocks.4.mlp.c_proj', 'transformer.resblocks.5.attn.out_proj', 'transformer.resblocks.5.mlp.c_fc', 'transformer.resblocks.5.mlp.c_proj', 'transformer.resblocks.6.attn.out_proj', 'transformer.resblocks.6.mlp.c_fc', 'transformer.resblocks.6.mlp.c_proj', 'transformer.resblocks.7.attn.out_proj', 'transformer.resblocks.7.mlp.c_fc', 'transformer.resblocks.7.mlp.c_proj', 'transformer.resblocks.8.attn.out_proj', 'transformer.resblocks.8.mlp.c_fc', 'transformer.resblocks.8.mlp.c_proj', 'transformer.resblocks.9.attn.out_proj', 'transformer.resblocks.9.mlp.c_fc', 'transformer.resblocks.9.mlp.c_proj', 'transformer.resblocks.10.attn.out_proj', 'transformer.resblocks.10.mlp.c_fc', 'transformer.resblocks.10.mlp.c_proj', 'transformer.resblocks.11.attn.out_proj', 'transformer.resblocks.11.mlp.c_fc', 'transformer.resblocks.11.mlp.c_proj']\n",
      "start hessian calibration\n"
     ]
    },
    {
     "ename": "RuntimeError",
     "evalue": "Caught RuntimeError in DataLoader worker process 0.\nOriginal Traceback (most recent call last):\n  File \"/home/subuntu/.local/lib/python3.10/site-packages/torch/utils/data/_utils/worker.py\", line 308, in _worker_loop\n    data = fetcher.fetch(index)\n  File \"/home/subuntu/.local/lib/python3.10/site-packages/torch/utils/data/_utils/fetch.py\", line 51, in fetch\n    data = [self.dataset[idx] for idx in possibly_batched_index]\n  File \"/home/subuntu/.local/lib/python3.10/site-packages/torch/utils/data/_utils/fetch.py\", line 51, in <listcomp>\n    data = [self.dataset[idx] for idx in possibly_batched_index]\n  File \"/mnt/c/Users/sunde/Desktop/DL-Project/dataset.py\", line 46, in __getitem__\n    image = self.image_features[idx]\nRuntimeError: CUDA error: initialization error\nCUDA kernel errors might be asynchronously reported at some other API call, so the stacktrace below might be incorrect.\nFor debugging consider passing CUDA_LAUNCH_BLOCKING=1.\nCompile with `TORCH_USE_CUDA_DSA` to enable device-side assertions.\n\n",
     "output_type": "error",
     "traceback": [
      "\u001b[0;31m---------------------------------------------------------------------------\u001b[0m",
      "\u001b[0;31mRuntimeError\u001b[0m                              Traceback (most recent call last)",
      "Cell \u001b[0;32mIn[6], line 19\u001b[0m\n\u001b[1;32m     15\u001b[0m     quant_calibrator\u001b[39m.\u001b[39mbatching_quant_calib()\n\u001b[1;32m     17\u001b[0m     \u001b[39m# test_classification(net,test_loader)\u001b[39;00m\n\u001b[0;32m---> 19\u001b[0m experiment_basic()\n",
      "Cell \u001b[0;32mIn[6], line 15\u001b[0m, in \u001b[0;36mexperiment_basic\u001b[0;34m(net, config)\u001b[0m\n\u001b[1;32m      9\u001b[0m \u001b[39m# g=datasets.ViTImageNetLoaderGenerator('imagenetv2-matched-frequency-format-val','imagenet',32,32,16,kwargs={\"model\":net})\u001b[39;00m\n\u001b[1;32m     10\u001b[0m \u001b[39m# test_loader=g.test_loader()\u001b[39;00m\n\u001b[1;32m     11\u001b[0m \u001b[39m# calib_loader=g.calib_loader(num=32)\u001b[39;00m\n\u001b[1;32m     14\u001b[0m quant_calibrator \u001b[39m=\u001b[39m HessianQuantCalibrator(net,wrapped_modules,calib_loader,sequential\u001b[39m=\u001b[39m\u001b[39mFalse\u001b[39;00m,batch_size\u001b[39m=\u001b[39m\u001b[39m4\u001b[39m) \u001b[39m# 16 is too big for ViT-L-16\u001b[39;00m\n\u001b[0;32m---> 15\u001b[0m quant_calibrator\u001b[39m.\u001b[39;49mbatching_quant_calib()\n",
      "File \u001b[0;32m/mnt/c/Users/sunde/Desktop/DL-Project/./PTQ4ViT/utils/quant_calib.py:311\u001b[0m, in \u001b[0;36mHessianQuantCalibrator.batching_quant_calib\u001b[0;34m(self)\u001b[0m\n\u001b[1;32m    309\u001b[0m \u001b[39m# get raw_pred as target distribution \u001b[39;00m\n\u001b[1;32m    310\u001b[0m \u001b[39mwith\u001b[39;00m torch\u001b[39m.\u001b[39mno_grad():\n\u001b[0;32m--> 311\u001b[0m     \u001b[39mfor\u001b[39;00m i, (inp_images, inp_text, target) \u001b[39min\u001b[39;00m \u001b[39menumerate\u001b[39m(\u001b[39mself\u001b[39m\u001b[39m.\u001b[39mcalib_loader):\n\u001b[1;32m    312\u001b[0m         \u001b[39mprint\u001b[39m((inp_images, inp_text, target) )\n\u001b[1;32m    313\u001b[0m         raw_pred , _ \u001b[39m=\u001b[39m \u001b[39mself\u001b[39m\u001b[39m.\u001b[39mnet(inp_images, inp_text)\n",
      "File \u001b[0;32m~/.local/lib/python3.10/site-packages/torch/utils/data/dataloader.py:633\u001b[0m, in \u001b[0;36m_BaseDataLoaderIter.__next__\u001b[0;34m(self)\u001b[0m\n\u001b[1;32m    630\u001b[0m \u001b[39mif\u001b[39;00m \u001b[39mself\u001b[39m\u001b[39m.\u001b[39m_sampler_iter \u001b[39mis\u001b[39;00m \u001b[39mNone\u001b[39;00m:\n\u001b[1;32m    631\u001b[0m     \u001b[39m# TODO(https://github.com/pytorch/pytorch/issues/76750)\u001b[39;00m\n\u001b[1;32m    632\u001b[0m     \u001b[39mself\u001b[39m\u001b[39m.\u001b[39m_reset()  \u001b[39m# type: ignore[call-arg]\u001b[39;00m\n\u001b[0;32m--> 633\u001b[0m data \u001b[39m=\u001b[39m \u001b[39mself\u001b[39;49m\u001b[39m.\u001b[39;49m_next_data()\n\u001b[1;32m    634\u001b[0m \u001b[39mself\u001b[39m\u001b[39m.\u001b[39m_num_yielded \u001b[39m+\u001b[39m\u001b[39m=\u001b[39m \u001b[39m1\u001b[39m\n\u001b[1;32m    635\u001b[0m \u001b[39mif\u001b[39;00m \u001b[39mself\u001b[39m\u001b[39m.\u001b[39m_dataset_kind \u001b[39m==\u001b[39m _DatasetKind\u001b[39m.\u001b[39mIterable \u001b[39mand\u001b[39;00m \\\n\u001b[1;32m    636\u001b[0m         \u001b[39mself\u001b[39m\u001b[39m.\u001b[39m_IterableDataset_len_called \u001b[39mis\u001b[39;00m \u001b[39mnot\u001b[39;00m \u001b[39mNone\u001b[39;00m \u001b[39mand\u001b[39;00m \\\n\u001b[1;32m    637\u001b[0m         \u001b[39mself\u001b[39m\u001b[39m.\u001b[39m_num_yielded \u001b[39m>\u001b[39m \u001b[39mself\u001b[39m\u001b[39m.\u001b[39m_IterableDataset_len_called:\n",
      "File \u001b[0;32m~/.local/lib/python3.10/site-packages/torch/utils/data/dataloader.py:1345\u001b[0m, in \u001b[0;36m_MultiProcessingDataLoaderIter._next_data\u001b[0;34m(self)\u001b[0m\n\u001b[1;32m   1343\u001b[0m \u001b[39melse\u001b[39;00m:\n\u001b[1;32m   1344\u001b[0m     \u001b[39mdel\u001b[39;00m \u001b[39mself\u001b[39m\u001b[39m.\u001b[39m_task_info[idx]\n\u001b[0;32m-> 1345\u001b[0m     \u001b[39mreturn\u001b[39;00m \u001b[39mself\u001b[39;49m\u001b[39m.\u001b[39;49m_process_data(data)\n",
      "File \u001b[0;32m~/.local/lib/python3.10/site-packages/torch/utils/data/dataloader.py:1371\u001b[0m, in \u001b[0;36m_MultiProcessingDataLoaderIter._process_data\u001b[0;34m(self, data)\u001b[0m\n\u001b[1;32m   1369\u001b[0m \u001b[39mself\u001b[39m\u001b[39m.\u001b[39m_try_put_index()\n\u001b[1;32m   1370\u001b[0m \u001b[39mif\u001b[39;00m \u001b[39misinstance\u001b[39m(data, ExceptionWrapper):\n\u001b[0;32m-> 1371\u001b[0m     data\u001b[39m.\u001b[39;49mreraise()\n\u001b[1;32m   1372\u001b[0m \u001b[39mreturn\u001b[39;00m data\n",
      "File \u001b[0;32m~/.local/lib/python3.10/site-packages/torch/_utils.py:644\u001b[0m, in \u001b[0;36mExceptionWrapper.reraise\u001b[0;34m(self)\u001b[0m\n\u001b[1;32m    640\u001b[0m \u001b[39mexcept\u001b[39;00m \u001b[39mTypeError\u001b[39;00m:\n\u001b[1;32m    641\u001b[0m     \u001b[39m# If the exception takes multiple arguments, don't try to\u001b[39;00m\n\u001b[1;32m    642\u001b[0m     \u001b[39m# instantiate since we don't know how to\u001b[39;00m\n\u001b[1;32m    643\u001b[0m     \u001b[39mraise\u001b[39;00m \u001b[39mRuntimeError\u001b[39;00m(msg) \u001b[39mfrom\u001b[39;00m \u001b[39mNone\u001b[39;00m\n\u001b[0;32m--> 644\u001b[0m \u001b[39mraise\u001b[39;00m exception\n",
      "\u001b[0;31mRuntimeError\u001b[0m: Caught RuntimeError in DataLoader worker process 0.\nOriginal Traceback (most recent call last):\n  File \"/home/subuntu/.local/lib/python3.10/site-packages/torch/utils/data/_utils/worker.py\", line 308, in _worker_loop\n    data = fetcher.fetch(index)\n  File \"/home/subuntu/.local/lib/python3.10/site-packages/torch/utils/data/_utils/fetch.py\", line 51, in fetch\n    data = [self.dataset[idx] for idx in possibly_batched_index]\n  File \"/home/subuntu/.local/lib/python3.10/site-packages/torch/utils/data/_utils/fetch.py\", line 51, in <listcomp>\n    data = [self.dataset[idx] for idx in possibly_batched_index]\n  File \"/mnt/c/Users/sunde/Desktop/DL-Project/dataset.py\", line 46, in __getitem__\n    image = self.image_features[idx]\nRuntimeError: CUDA error: initialization error\nCUDA kernel errors might be asynchronously reported at some other API call, so the stacktrace below might be incorrect.\nFor debugging consider passing CUDA_LAUNCH_BLOCKING=1.\nCompile with `TORCH_USE_CUDA_DSA` to enable device-side assertions.\n\n"
     ]
    }
   ],
   "source": [
    "def experiment_basic(net='vit_base_patch16_384', config=\"PTQ4ViT\"):\n",
    "    \"\"\"\n",
    "    A basic testbench.\n",
    "    \"\"\"\n",
    "    quant_cfg = init_config(config)\n",
    "    net = model\n",
    "    wrapped_modules = net_wrap.wrap_modules_in_net(net,quant_cfg)\n",
    "    \n",
    "    # g=datasets.ViTImageNetLoaderGenerator('imagenetv2-matched-frequency-format-val','imagenet',32,32,16,kwargs={\"model\":net})\n",
    "    # test_loader=g.test_loader()\n",
    "    # calib_loader=g.calib_loader(num=32)\n",
    "\n",
    "\n",
    "    quant_calibrator = HessianQuantCalibrator(net,wrapped_modules,calib_loader,sequential=False,batch_size=4) # 16 is too big for ViT-L-16\n",
    "    quant_calibrator.batching_quant_calib()\n",
    "    \n",
    "    # test_classification(net,test_loader)\n",
    "\n",
    "experiment_basic()"
   ]
  },
  {
   "cell_type": "code",
   "execution_count": null,
   "metadata": {},
   "outputs": [],
   "source": []
  },
  {
   "cell_type": "code",
   "execution_count": null,
   "metadata": {},
   "outputs": [],
   "source": [
    "experiment_basic()\n"
   ]
  }
 ],
 "metadata": {
  "kernelspec": {
   "display_name": "Python 3",
   "language": "python",
   "name": "python3"
  },
  "language_info": {
   "codemirror_mode": {
    "name": "ipython",
    "version": 3
   },
   "file_extension": ".py",
   "mimetype": "text/x-python",
   "name": "python",
   "nbconvert_exporter": "python",
   "pygments_lexer": "ipython3",
   "version": "3.10.6"
  },
  "orig_nbformat": 4
 },
 "nbformat": 4,
 "nbformat_minor": 2
}
